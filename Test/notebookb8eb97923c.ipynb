{
 "metadata": {
  "kernelspec": {
   "language": "python",
   "display_name": "Python 3",
   "name": "python3"
  },
  "language_info": {
   "name": "python",
   "version": "3.7.12",
   "mimetype": "text/x-python",
   "codemirror_mode": {
    "name": "ipython",
    "version": 3
   },
   "pygments_lexer": "ipython3",
   "nbconvert_exporter": "python",
   "file_extension": ".py"
  }
 },
 "nbformat_minor": 4,
 "nbformat": 4,
 "cells": [
  {
   "cell_type": "code",
   "source": [
    "# This Python 3 environment comes with many helpful analytics libraries installed\n",
    "# It is defined by the kaggle/python Docker image: https://github.com/kaggle/docker-python\n",
    "# For example, here's several helpful packages to load\n",
    "\n",
    "import numpy as np # linear algebra\n",
    "import pandas as pd # data processing, CSV file I/O (e.g. pd.read_csv)\n",
    "\n",
    "# Input data files are available in the read-only \"../input/\" directory\n",
    "# For example, running this (by clicking run or pressing Shift+Enter) will list all files under the input directory\n",
    "\n",
    "import os\n",
    "for dirname, _, filenames in os.walk('/kaggle/input'):\n",
    "    for filename in filenames:\n",
    "        print(os.path.join(dirname, filename))\n",
    "\n",
    "# You can write up to 20GB to the current directory (/kaggle/working/) that gets preserved as output when you create a version using \"Save & Run All\" \n",
    "# You can also write temporary files to /kaggle/temp/, but they won't be saved outside of the current session\n",
    "\n",
    "# 首先导入包\n",
    "import torch\n",
    "import torch.nn as nn\n",
    "import pandas as pd\n",
    "import numpy as np\n",
    "from torch.utils.data import Dataset, DataLoader\n",
    "from torchvision import transforms\n",
    "from PIL import Image\n",
    "import os\n",
    "import matplotlib.pyplot as plt\n",
    "import torchvision.models as models\n",
    "# This is for the progress bar.\n",
    "from tqdm import tqdm\n",
    "import seaborn as sns\n",
    "\n",
    "\n",
    "\n",
    "\n",
    "\n"
   ],
   "metadata": {
    "_uuid": "8f2839f25d086af736a60e9eeb907d3b93b6e0e5",
    "_cell_guid": "b1076dfc-b9ad-4769-8c92-a6c4dae69d19",
    "execution": {
     "iopub.status.busy": "2022-06-20T11:43:17.635671Z",
     "iopub.execute_input": "2022-06-20T11:43:17.636275Z",
     "iopub.status.idle": "2022-06-20T11:43:22.903963Z",
     "shell.execute_reply.started": "2022-06-20T11:43:17.636218Z",
     "shell.execute_reply": "2022-06-20T11:43:22.903034Z"
    },
    "trusted": true,
    "pycharm": {
     "name": "#%%\n"
    }
   },
   "execution_count": 68,
   "outputs": []
  },
  {
   "cell_type": "code",
   "source": [
    "# 看看label文件长啥样\n",
    "labels_dataframe = pd.read_csv('../input/classifyleaveskagglemulid2lcourse/train.csv')\n",
    "labels_dataframe.head(5)"
   ],
   "metadata": {
    "execution": {
     "iopub.status.busy": "2022-06-20T11:43:22.905750Z",
     "iopub.execute_input": "2022-06-20T11:43:22.906139Z",
     "iopub.status.idle": "2022-06-20T11:43:22.944393Z",
     "shell.execute_reply.started": "2022-06-20T11:43:22.906104Z",
     "shell.execute_reply": "2022-06-20T11:43:22.943368Z"
    },
    "trusted": true,
    "pycharm": {
     "name": "#%%\n"
    }
   },
   "execution_count": 69,
   "outputs": []
  },
  {
   "cell_type": "code",
   "source": [
    "labels_dataframe.describe()"
   ],
   "metadata": {
    "execution": {
     "iopub.status.busy": "2022-06-20T11:43:22.946172Z",
     "iopub.execute_input": "2022-06-20T11:43:22.946873Z",
     "iopub.status.idle": "2022-06-20T11:43:22.989879Z",
     "shell.execute_reply.started": "2022-06-20T11:43:22.946831Z",
     "shell.execute_reply": "2022-06-20T11:43:22.988964Z"
    },
    "trusted": true,
    "pycharm": {
     "name": "#%%\n"
    }
   },
   "execution_count": 70,
   "outputs": []
  },
  {
   "cell_type": "code",
   "source": [
    "#function to show bar length\n",
    "\n",
    "def barw(ax): \n",
    "    \n",
    "    for p in ax.patches:\n",
    "        val = p.get_width() #height of the bar\n",
    "        x = p.get_x()+ p.get_width() # x- position \n",
    "        y = p.get_y() + p.get_height()/2 #y-position\n",
    "        ax.annotate(round(val,2),(x,y))\n",
    "        \n",
    "#finding top leaves\n",
    "\n",
    "plt.figure(figsize = (15,30))\n",
    "ax0 =sns.countplot(y=labels_dataframe['label'],order=labels_dataframe['label'].value_counts().index)\n",
    "barw(ax0)\n",
    "plt.show()"
   ],
   "metadata": {
    "execution": {
     "iopub.status.busy": "2022-06-20T11:43:22.992416Z",
     "iopub.execute_input": "2022-06-20T11:43:22.993073Z",
     "iopub.status.idle": "2022-06-20T11:43:27.508076Z",
     "shell.execute_reply.started": "2022-06-20T11:43:22.993033Z",
     "shell.execute_reply": "2022-06-20T11:43:27.507309Z"
    },
    "trusted": true,
    "pycharm": {
     "name": "#%%\n"
    }
   },
   "execution_count": 71,
   "outputs": []
  },
  {
   "cell_type": "code",
   "source": [
    "# 把label文件排个序\n",
    "leaves_labels = sorted(list(set(labels_dataframe['label'])))\n",
    "n_classes = len(leaves_labels)\n",
    "print(n_classes)\n",
    "leaves_labels[:10]"
   ],
   "metadata": {
    "execution": {
     "iopub.status.busy": "2022-06-20T11:43:27.509399Z",
     "iopub.execute_input": "2022-06-20T11:43:27.510322Z",
     "iopub.status.idle": "2022-06-20T11:43:27.522631Z",
     "shell.execute_reply.started": "2022-06-20T11:43:27.510284Z",
     "shell.execute_reply": "2022-06-20T11:43:27.521611Z"
    },
    "trusted": true,
    "pycharm": {
     "name": "#%%\n"
    }
   },
   "execution_count": 72,
   "outputs": []
  },
  {
   "cell_type": "code",
   "source": [
    "# 把label转成对应的数字\n",
    "class_to_num = dict(zip(leaves_labels, range(n_classes)))\n",
    "class_to_num"
   ],
   "metadata": {
    "execution": {
     "iopub.status.busy": "2022-06-20T11:43:27.524383Z",
     "iopub.execute_input": "2022-06-20T11:43:27.525296Z",
     "iopub.status.idle": "2022-06-20T11:43:27.544106Z",
     "shell.execute_reply.started": "2022-06-20T11:43:27.525255Z",
     "shell.execute_reply": "2022-06-20T11:43:27.542894Z"
    },
    "trusted": true,
    "pycharm": {
     "name": "#%%\n"
    }
   },
   "execution_count": 73,
   "outputs": []
  },
  {
   "cell_type": "code",
   "source": [
    "# 再转换回来，方便最后预测的时候使用\n",
    "num_to_class = {v : k for k, v in class_to_num.items()}"
   ],
   "metadata": {
    "execution": {
     "iopub.status.busy": "2022-06-20T11:43:27.545845Z",
     "iopub.execute_input": "2022-06-20T11:43:27.546465Z",
     "iopub.status.idle": "2022-06-20T11:43:27.552764Z",
     "shell.execute_reply.started": "2022-06-20T11:43:27.546406Z",
     "shell.execute_reply": "2022-06-20T11:43:27.551806Z"
    },
    "trusted": true,
    "pycharm": {
     "name": "#%%\n"
    }
   },
   "execution_count": 74,
   "outputs": []
  },
  {
   "cell_type": "code",
   "source": [
    "# 继承pytorch的dataset，创建自己的\n",
    "class LeavesData(Dataset):\n",
    "    def __init__(self, csv_path, file_path, mode='train', valid_ratio=0.2, resize_height=256, resize_width=256):\n",
    "        \"\"\"\n",
    "        Args:\n",
    "            csv_path (string): csv 文件路径\n",
    "            img_path (string): 图像文件所在路径\n",
    "            mode (string): 训练模式还是测试模式\n",
    "            valid_ratio (float): 验证集比例\n",
    "        \"\"\"\n",
    "        \n",
    "        # 需要调整后的照片尺寸，我这里每张图片的大小尺寸不一致#\n",
    "        self.resize_height = resize_height\n",
    "        self.resize_width = resize_width\n",
    "\n",
    "        self.file_path = file_path\n",
    "        self.mode = mode\n",
    "\n",
    "        # 读取 csv 文件\n",
    "        # 利用pandas读取csv文件\n",
    "        self.data_info = pd.read_csv(csv_path, header=None)  #header=None是去掉表头部分\n",
    "        # 计算 length\n",
    "        self.data_len = len(self.data_info.index) - 1\n",
    "        self.train_len = int(self.data_len * (1 - valid_ratio))\n",
    "        \n",
    "        if mode == 'train':\n",
    "            # 第一列包含图像文件的名称\n",
    "            self.train_image = np.asarray(self.data_info.iloc[1:self.train_len, 0])  #self.data_info.iloc[1:,0]表示读取第一列，从第二行开始到train_len\n",
    "            # 第二列是图像的 label\n",
    "            self.train_label = np.asarray(self.data_info.iloc[1:self.train_len, 1])\n",
    "            self.image_arr = self.train_image \n",
    "            self.label_arr = self.train_label\n",
    "        elif mode == 'valid':\n",
    "            self.valid_image = np.asarray(self.data_info.iloc[self.train_len:, 0])  \n",
    "            self.valid_label = np.asarray(self.data_info.iloc[self.train_len:, 1])\n",
    "            self.image_arr = self.valid_image\n",
    "            self.label_arr = self.valid_label\n",
    "        elif mode == 'test':\n",
    "            self.test_image = np.asarray(self.data_info.iloc[1:, 0])\n",
    "            self.image_arr = self.test_image\n",
    "            \n",
    "        self.real_len = len(self.image_arr)\n",
    "\n",
    "        print('Finished reading the {} set of Leaves Dataset ({} samples found)'\n",
    "              .format(mode, self.real_len))\n",
    "\n",
    "    def __getitem__(self, index):\n",
    "        # 从 image_arr中得到索引对应的文件名\n",
    "        single_image_name = self.image_arr[index]\n",
    "\n",
    "        # 读取图像文件\n",
    "        img_as_img = Image.open(self.file_path + single_image_name)\n",
    "\n",
    "        #如果需要将RGB三通道的图片转换成灰度图片可参考下面两行\n",
    "#         if img_as_img.mode != 'L':\n",
    "#             img_as_img = img_as_img.convert('L')\n",
    "\n",
    "        #设置好需要转换的变量，还可以包括一系列的nomarlize等等操作\n",
    "        if self.mode == 'train':\n",
    "            transform = transforms.Compose([\n",
    "                transforms.Resize((224, 224)),\n",
    "                transforms.RandomHorizontalFlip(p=0.5),   #随机水平翻转 选择一个概率\n",
    "                transforms.ToTensor()\n",
    "            ])\n",
    "        else:\n",
    "            # valid和test不做数据增强\n",
    "            transform = transforms.Compose([\n",
    "                transforms.Resize((224, 224)),\n",
    "                transforms.ToTensor()\n",
    "            ])\n",
    "        \n",
    "        img_as_img = transform(img_as_img)\n",
    "        \n",
    "        if self.mode == 'test':\n",
    "            return img_as_img\n",
    "        else:\n",
    "            # 得到图像的 string label\n",
    "            label = self.label_arr[index]\n",
    "            # number label\n",
    "            number_label = class_to_num[label]\n",
    "\n",
    "            return img_as_img, number_label  #返回每一个index对应的图片数据和对应的label\n",
    "\n",
    "    def __len__(self):\n",
    "        return self.real_len"
   ],
   "metadata": {
    "execution": {
     "iopub.status.busy": "2022-06-20T11:43:27.554654Z",
     "iopub.execute_input": "2022-06-20T11:43:27.555375Z",
     "iopub.status.idle": "2022-06-20T11:43:27.574424Z",
     "shell.execute_reply.started": "2022-06-20T11:43:27.555334Z",
     "shell.execute_reply": "2022-06-20T11:43:27.573388Z"
    },
    "trusted": true,
    "pycharm": {
     "name": "#%%\n"
    }
   },
   "execution_count": 75,
   "outputs": []
  },
  {
   "cell_type": "code",
   "source": [
    "train_path = '../input/classifyleaveskagglemulid2lcourse/train.csv'\n",
    "test_path = '../input/classifyleaveskagglemulid2lcourse/test.csv'\n",
    "# csv文件中已经images的路径了，因此这里只到上一级目录\n",
    "img_path = '../input/classifyleaveskagglemulid2lcourse/'\n",
    "\n",
    "train_dataset = LeavesData(train_path, img_path, mode='train')\n",
    "val_dataset = LeavesData(train_path, img_path, mode='valid')\n",
    "test_dataset = LeavesData(test_path, img_path, mode='test')\n",
    "print(train_dataset)\n",
    "print(val_dataset)\n",
    "print(test_dataset)"
   ],
   "metadata": {
    "execution": {
     "iopub.status.busy": "2022-06-20T11:43:27.577480Z",
     "iopub.execute_input": "2022-06-20T11:43:27.578452Z",
     "iopub.status.idle": "2022-06-20T11:43:27.630038Z",
     "shell.execute_reply.started": "2022-06-20T11:43:27.578381Z",
     "shell.execute_reply": "2022-06-20T11:43:27.628981Z"
    },
    "trusted": true,
    "pycharm": {
     "name": "#%%\n"
    }
   },
   "execution_count": 76,
   "outputs": []
  },
  {
   "cell_type": "code",
   "source": [
    "# 定义data loader\n",
    "train_loader = torch.utils.data.DataLoader(\n",
    "        dataset=train_dataset,\n",
    "        batch_size=8, \n",
    "        shuffle=False,\n",
    "        num_workers=2\n",
    "    )\n",
    "\n",
    "val_loader = torch.utils.data.DataLoader(\n",
    "        dataset=val_dataset,\n",
    "        batch_size=8, \n",
    "        shuffle=False,\n",
    "        num_workers=2\n",
    "    )\n",
    "test_loader = torch.utils.data.DataLoader(\n",
    "        dataset=test_dataset,\n",
    "        batch_size=8, \n",
    "        shuffle=False,\n",
    "        num_workers=2\n",
    "    )"
   ],
   "metadata": {
    "execution": {
     "iopub.status.busy": "2022-06-20T11:43:27.633214Z",
     "iopub.execute_input": "2022-06-20T11:43:27.633644Z",
     "iopub.status.idle": "2022-06-20T11:43:27.643042Z",
     "shell.execute_reply.started": "2022-06-20T11:43:27.633606Z",
     "shell.execute_reply": "2022-06-20T11:43:27.642224Z"
    },
    "trusted": true,
    "pycharm": {
     "name": "#%%\n"
    }
   },
   "execution_count": 77,
   "outputs": []
  },
  {
   "cell_type": "code",
   "source": [
    "# 给大家展示一下数据长啥样\n",
    "def im_convert(tensor):\n",
    "    \"\"\" 展示数据\"\"\"\n",
    "    \n",
    "    image = tensor.to(\"cpu\").clone().detach()\n",
    "    image = image.numpy().squeeze()\n",
    "    image = image.transpose(1,2,0)\n",
    "    image = image.clip(0, 1)\n",
    "\n",
    "    return image\n",
    "\n",
    "fig=plt.figure(figsize=(20, 12))\n",
    "columns = 4\n",
    "rows = 2\n",
    "\n",
    "dataiter = iter(val_loader)\n",
    "inputs, classes = dataiter.next()\n",
    "\n",
    "for idx in range (columns*rows):\n",
    "    ax = fig.add_subplot(rows, columns, idx+1, xticks=[], yticks=[])\n",
    "    ax.set_title(num_to_class[int(classes[idx])])\n",
    "    plt.imshow(im_convert(inputs[idx]))\n",
    "plt.show()"
   ],
   "metadata": {
    "execution": {
     "iopub.status.busy": "2022-06-20T11:43:27.644706Z",
     "iopub.execute_input": "2022-06-20T11:43:27.645329Z",
     "iopub.status.idle": "2022-06-20T11:43:28.565459Z",
     "shell.execute_reply.started": "2022-06-20T11:43:27.645289Z",
     "shell.execute_reply": "2022-06-20T11:43:28.564312Z"
    },
    "trusted": true,
    "pycharm": {
     "name": "#%%\n"
    }
   },
   "execution_count": 78,
   "outputs": []
  },
  {
   "cell_type": "code",
   "source": [
    "# 看一下是在cpu还是GPU上\n",
    "def get_device():\n",
    "    return 'cuda' if torch.cuda.is_available() else 'cpu'\n",
    "\n",
    "device = get_device()\n",
    "print(device)"
   ],
   "metadata": {
    "execution": {
     "iopub.status.busy": "2022-06-20T11:43:28.567816Z",
     "iopub.execute_input": "2022-06-20T11:43:28.569055Z",
     "iopub.status.idle": "2022-06-20T11:43:28.577408Z",
     "shell.execute_reply.started": "2022-06-20T11:43:28.569000Z",
     "shell.execute_reply": "2022-06-20T11:43:28.575150Z"
    },
    "trusted": true,
    "pycharm": {
     "name": "#%%\n"
    }
   },
   "execution_count": 79,
   "outputs": []
  },
  {
   "cell_type": "code",
   "source": [
    "# 是否要冻住模型的前面一些层\n",
    "def set_parameter_requires_grad(model, feature_extracting):\n",
    "    if feature_extracting:\n",
    "        model = model\n",
    "        for param in model.parameters():\n",
    "            param.requires_grad = False\n",
    "# resnet34模型\n",
    "def res_model(num_classes, feature_extract = False, use_pretrained=True):\n",
    "\n",
    "    model_ft = models.resnet34(pretrained=use_pretrained)\n",
    "    set_parameter_requires_grad(model_ft, feature_extract)\n",
    "    num_ftrs = model_ft.fc.in_features\n",
    "    model_ft.fc = nn.Sequential(nn.Linear(num_ftrs, num_classes))\n",
    "\n",
    "    return model_ft"
   ],
   "metadata": {
    "execution": {
     "iopub.status.busy": "2022-06-20T11:43:28.578959Z",
     "iopub.execute_input": "2022-06-20T11:43:28.579515Z",
     "iopub.status.idle": "2022-06-20T11:43:28.589350Z",
     "shell.execute_reply.started": "2022-06-20T11:43:28.579476Z",
     "shell.execute_reply": "2022-06-20T11:43:28.588241Z"
    },
    "trusted": true,
    "pycharm": {
     "name": "#%%\n"
    }
   },
   "execution_count": 80,
   "outputs": []
  },
  {
   "cell_type": "code",
   "source": [
    "# 超参数\n",
    "learning_rate = 3e-4\n",
    "weight_decay = 1e-3\n",
    "num_epoch = 100\n",
    "model_path = './pre_res_model.ckpt'"
   ],
   "metadata": {
    "execution": {
     "iopub.status.busy": "2022-06-20T11:43:28.590988Z",
     "iopub.execute_input": "2022-06-20T11:43:28.591711Z",
     "iopub.status.idle": "2022-06-20T11:43:28.601951Z",
     "shell.execute_reply.started": "2022-06-20T11:43:28.591667Z",
     "shell.execute_reply": "2022-06-20T11:43:28.600968Z"
    },
    "trusted": true,
    "pycharm": {
     "name": "#%%\n"
    }
   },
   "execution_count": 81,
   "outputs": []
  },
  {
   "cell_type": "code",
   "source": [
    "# Initialize a model, and put it on the device specified.\n",
    "model = res_model(176)\n",
    "model = model.to(device)\n",
    "model.device = device\n",
    "# For the classification task, we use cross-entropy as the measurement of performance.\n",
    "criterion = nn.CrossEntropyLoss()\n",
    "\n",
    "# Initialize optimizer, you may fine-tune some hyperparameters such as learning rate on your own.\n",
    "optimizer = torch.optim.Adam(model.parameters(), lr = learning_rate, weight_decay=weight_decay)\n",
    "\n",
    "# The number of training epochs.\n",
    "n_epochs = num_epoch\n",
    "\n",
    "best_acc = 0.0\n",
    "for epoch in range(n_epochs):\n",
    "    # ---------- Training ----------\n",
    "    # Make sure the model is in train mode before training.\n",
    "    model.train() \n",
    "    # These are used to record information in training.\n",
    "    train_loss = []\n",
    "    train_accs = []\n",
    "    # Iterate the training set by batches.\n",
    "    for batch in tqdm(train_loader):\n",
    "        # A batch consists of image data and corresponding labels.\n",
    "        imgs, labels = batch\n",
    "        imgs = imgs.to(device)\n",
    "        labels = labels.to(device)\n",
    "        # Forward the data. (Make sure data and model are on the same device.)\n",
    "        logits = model(imgs)\n",
    "        # Calculate the cross-entropy loss.\n",
    "        # We don't need to apply softmax before computing cross-entropy as it is done automatically.\n",
    "        loss = criterion(logits, labels)\n",
    "        \n",
    "        # Gradients stored in the parameters in the previous step should be cleared out first.\n",
    "        optimizer.zero_grad()\n",
    "        # Compute the gradients for parameters.\n",
    "        loss.backward()\n",
    "        # Update the parameters with computed gradients.\n",
    "        optimizer.step()\n",
    "        \n",
    "        # Compute the accuracy for current batch.\n",
    "        acc = (logits.argmax(dim=-1) == labels).float().mean()\n",
    "\n",
    "        # Record the loss and accuracy.\n",
    "        train_loss.append(loss.item())\n",
    "        train_accs.append(acc)\n",
    "        \n",
    "    # The average loss and accuracy of the training set is the average of the recorded values.\n",
    "    train_loss = sum(train_loss) / len(train_loss)\n",
    "    train_acc = sum(train_accs) / len(train_accs)\n",
    "\n",
    "    # Print the information.\n",
    "    print(f\"[ Train | {epoch + 1:03d}/{n_epochs:03d} ] loss = {train_loss:.5f}, acc = {train_acc:.5f}\")\n",
    "    \n",
    "    \n",
    "    # ---------- Validation ----------\n",
    "    # Make sure the model is in eval mode so that some modules like dropout are disabled and work normally.\n",
    "    model.eval()\n",
    "    # These are used to record information in validation.\n",
    "    valid_loss = []\n",
    "    valid_accs = []\n",
    "    \n",
    "    # Iterate the validation set by batches.\n",
    "    for batch in tqdm(val_loader):\n",
    "        imgs, labels = batch\n",
    "        # We don't need gradient in validation.\n",
    "        # Using torch.no_grad() accelerates the forward process.\n",
    "        with torch.no_grad():\n",
    "            logits = model(imgs.to(device))\n",
    "            \n",
    "        # We can still compute the loss (but not the gradient).\n",
    "        loss = criterion(logits, labels.to(device))\n",
    "\n",
    "        # Compute the accuracy for current batch.\n",
    "        acc = (logits.argmax(dim=-1) == labels.to(device)).float().mean()\n",
    "\n",
    "        # Record the loss and accuracy.\n",
    "        valid_loss.append(loss.item())\n",
    "        valid_accs.append(acc)\n",
    "        \n",
    "    # The average loss and accuracy for entire validation set is the average of the recorded values.\n",
    "    valid_loss = sum(valid_loss) / len(valid_loss)\n",
    "    valid_acc = sum(valid_accs) / len(valid_accs)\n",
    "\n",
    "    # Print the information.\n",
    "    print(f\"[ Valid | {epoch + 1:03d}/{n_epochs:03d} ] loss = {valid_loss:.5f}, acc = {valid_acc:.5f}\")\n",
    "    \n",
    "    # if the model improves, save a checkpoint at this epoch\n",
    "    if valid_acc > best_acc:\n",
    "        best_acc = valid_acc\n",
    "        torch.save(model.state_dict(), model_path)\n",
    "        print('saving model with acc {:.3f}'.format(best_acc))"
   ],
   "metadata": {
    "execution": {
     "iopub.status.busy": "2022-06-20T11:43:28.605352Z",
     "iopub.execute_input": "2022-06-20T11:43:28.605690Z"
    },
    "trusted": true,
    "pycharm": {
     "name": "#%%\n"
    }
   },
   "execution_count": null,
   "outputs": []
  },
  {
   "cell_type": "code",
   "source": [
    "saveFileName = './submission1.csv'"
   ],
   "metadata": {
    "trusted": true,
    "pycharm": {
     "name": "#%%\n"
    }
   },
   "execution_count": null,
   "outputs": []
  },
  {
   "cell_type": "code",
   "source": [
    "## predict\n",
    "model = res_model(176)\n",
    "\n",
    "# create model and load weights from checkpoint\n",
    "model = model.to(device)\n",
    "model.load_state_dict(torch.load(model_path))\n",
    "\n",
    "# Make sure the model is in eval mode.\n",
    "# Some modules like Dropout or BatchNorm affect if the model is in training mode.\n",
    "model.eval()\n",
    "\n",
    "# Initialize a list to store the predictions.\n",
    "predictions = []\n",
    "# Iterate the testing set by batches.\n",
    "for batch in tqdm(test_loader):\n",
    "    \n",
    "    imgs = batch\n",
    "    with torch.no_grad():\n",
    "        logits = model(imgs.to(device))\n",
    "    \n",
    "    # Take the class with greatest logit as prediction and record it.\n",
    "    predictions.extend(logits.argmax(dim=-1).cpu().numpy().tolist())\n",
    "\n",
    "preds = []\n",
    "for i in predictions:\n",
    "    preds.append(num_to_class[i])\n",
    "\n",
    "test_data = pd.read_csv(test_path)\n",
    "test_data['label'] = pd.Series(preds)\n",
    "submission = pd.concat([test_data['image'], test_data['label']], axis=1)\n",
    "submission.to_csv(saveFileName, index=False)\n",
    "print(\"Done!!!!!!!!!!!!!!!!!!!!!!!!!!!\")"
   ],
   "metadata": {
    "trusted": true,
    "pycharm": {
     "name": "#%%\n"
    }
   },
   "execution_count": null,
   "outputs": []
  }
 ]
}