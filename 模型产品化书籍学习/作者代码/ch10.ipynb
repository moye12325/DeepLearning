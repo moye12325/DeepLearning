{
 "cells": [
  {
   "cell_type": "raw",
   "id": "devoted-bikini",
   "metadata": {},
   "source": [
    "[[ch10]]"
   ]
  },
  {
   "cell_type": "markdown",
   "id": "beginning-surgery",
   "metadata": {},
   "source": [
    "# Visualization"
   ]
  },
  {
   "cell_type": "markdown",
   "id": "arranged-walnut",
   "metadata": {},
   "source": [
    "## Our First Streamlit App"
   ]
  },
  {
   "cell_type": "code",
   "execution_count": null,
   "id": "further-cherry",
   "metadata": {},
   "outputs": [],
   "source": [
    "# Connect to Google Drive\n",
    "from google.colab import drive\n",
    "drive.mount('/content/drive', force_remount=True)\n",
    " \n",
    "# Make and Switch to Apps Directory\n",
    "%mkdir '/content/drive/My Drive/Applied-NLP-in-the-Enterprise/apps'\n",
    "%cd '/content/drive/My Drive/Applied-NLP-in-the-Enterprise/apps'"
   ]
  },
  {
   "cell_type": "markdown",
   "id": "protecting-grove",
   "metadata": {},
   "source": [
    "### Build Streamlit App"
   ]
  },
  {
   "cell_type": "code",
   "execution_count": null,
   "id": "united-torture",
   "metadata": {},
   "outputs": [],
   "source": [
    "%%writefile ner_app_agnews.py"
   ]
  },
  {
   "cell_type": "code",
   "execution_count": null,
   "id": "posted-benjamin",
   "metadata": {},
   "outputs": [],
   "source": [
    "# Load libraries\n",
    "import spacy\n",
    "import streamlit as st\n",
    "import spacy_streamlit\n",
    "import numpy as np\n",
    "import pandas as pd\n",
    "import random\n",
    " \n",
    "# Set title\n",
    "st.title(':star: AG News Dataset')\n",
    " \n",
    "# Define function to read data\n",
    "@st.cache\n",
    "def read_data(file):\n",
    "    read_path = '/content/drive/My Drive/Applied-NLP-in-the-Enterprise'\n",
    "    data = pd.read_csv(read_path+file)\n",
    "    return data\n",
    " \n",
    "# Read data\n",
    "data = read_data('/data/ag_dataset/prepared/train_prepared.csv')"
   ]
  },
  {
   "cell_type": "code",
   "execution_count": null,
   "id": "stopped-division",
   "metadata": {},
   "outputs": [],
   "source": [
    "# Define function to select category\n",
    "@st.cache\n",
    "def select_category(data, category_option):\n",
    "    return data.loc[data.class_name==category_option]\n",
    " \n",
    "# Set up sidebar widgets\n",
    "st.sidebar.header(\"Parameters\")\n",
    "display_selections = st.sidebar.multiselect(\n",
    " \"Which data would you like to display?\",\n",
    " [\"Full Data\",\"Single Article\"], None)\n",
    " \n",
    "category_option = st.sidebar.radio(\n",
    " 'Which category would you like to explore?',\n",
    " data.class_name.unique())\n",
    " \n",
    "article_option = st.sidebar.number_input(\n",
    " 'Which article would you like to explore?',\n",
    " data.loc[data.class_name==category_option].index.min(),\n",
    " data.loc[data.class_name==category_option].index.max(),\n",
    "                            data.loc[data.class_name\n",
    "                                     ==category_option].index.min())"
   ]
  },
  {
   "cell_type": "code",
   "execution_count": null,
   "id": "taken-pound",
   "metadata": {},
   "outputs": [],
   "source": [
    "# Set display behavior for data\n",
    "if \"Full Data\" in display_selections:\n",
    "    st.header(\"Full Data\")\n",
    "    st.write(select_category(data,category_option\n",
    "                             .loc[:,[\"title\",\"description\"]],\n",
    "                             width=1980, height=200)"
   ]
  },
  {
   "cell_type": "code",
   "execution_count": null,
   "id": "historical-strand",
   "metadata": {},
   "outputs": [],
   "source": [
    "if \"Single Article\" in display_selections:\n",
    "    st.header(\"Single Article\")\n",
    "    st.subheader(\"Title\")\n",
    "    st.write(data.loc[article_option,\"title\"])\n",
    "    st.subheader(\"Description\")\n",
    "    st.write(data.loc[article_option,\"description\"])"
   ]
  },
  {
   "cell_type": "code",
   "execution_count": null,
   "id": "proud-static",
   "metadata": {},
   "outputs": [],
   "source": [
    "# Set text\n",
    "default_text = data.loc[article_option,\"description\"]\n",
    " \n",
    "# Show NER Results\n",
    "st.header(\"NER Results\")\n",
    "base, custom = st.beta_columns(2)\n",
    " \n",
    "# Base SpaCy Model\n",
    "with base:\n",
    "    base_model = spacy_streamlit.load_model(\"en_core_web_lg\")\n",
    "    doc_base = base_model(default_text)\n",
    "    ner_labels = [\"ORG\",\"PERSON\",\"GPE\"]\n",
    "    show_table = True\n",
    "    title = \"Base SpaCy Model\"\n",
    "    sidebar_title = \"Base SpaCy Model\"\n",
    "    spacy_streamlit.visualize_ner(doc_base,\n",
    "                                  labels=ner_labels,\n",
    "                                  show_table=show_table,\n",
    "                                  title=title,\n",
    "                                  sidebar_title=sidebar_title)"
   ]
  },
  {
   "cell_type": "code",
   "execution_count": null,
   "id": "dominant-schema",
   "metadata": {},
   "outputs": [],
   "source": [
    "# Custom SpaCy Model\n",
    "with custom:\n",
    "    custom_ner_model = spacy_streamlit.load_model(\n",
    "    '/content/drive/My Drive/Applied-NLP-in-the-Enterprise/\n",
    "    models/ag_dataset/ner-base-V3/model-best')\n",
    "    doc_custom = custom_ner_model(default_text)\n",
    "    ner_labels = [\"ORG\",\"PERSON\",\"GPE\",\"TICKER\"]\n",
    "    show_table = True\n",
    "    title = \"Custom SpaCy Model\"\n",
    "    sidebar_title = \"Custom SpaCy Model\"\n",
    "    spacy_streamlit.visualize_ner(doc_custom,\n",
    "                                  labels=ner_labels, \n",
    "                                  show_table=show_table,\n",
    "                                  title=title,\n",
    "                                  sidebar_title=sidebar_title)"
   ]
  },
  {
   "cell_type": "markdown",
   "id": "moved-nicaragua",
   "metadata": {},
   "source": [
    "### Deploy Streamlit App"
   ]
  },
  {
   "cell_type": "code",
   "execution_count": null,
   "id": "written-pendant",
   "metadata": {},
   "outputs": [],
   "source": [
    "# Import libraries\n",
    "'''Main Libraries'''\n",
    "import numpy as np\n",
    "import pandas as pd\n",
    " \n",
    "# Install spacy\n",
    "!pip install -U spacy[cuda100]\n",
    "!pip install -U spacy-lookups-data\n",
    "!pip install cupy-cuda100==7.3.0\n",
    " \n",
    "# Download pretrained language model (core model)\n",
    "!python -m spacy download en_core_web_lg\n",
    " \n",
    "# Install spacy-streamlit\n",
    "!pip install spacy-streamlit"
   ]
  },
  {
   "cell_type": "code",
   "execution_count": null,
   "id": "muslim-warrant",
   "metadata": {},
   "outputs": [],
   "source": [
    "# Install Streamlit\n",
    "!pip install streamlit\n",
    " \n",
    "# Install ngrok\n",
    "!pip install pyngrok"
   ]
  },
  {
   "cell_type": "code",
   "execution_count": null,
   "id": "tight-villa",
   "metadata": {},
   "outputs": [],
   "source": [
    "# Connect to Google Drive\n",
    "from google.colab import drive\n",
    "drive.mount('/content/drive', force_remount=True)"
   ]
  },
  {
   "cell_type": "code",
   "execution_count": null,
   "id": "catholic-message",
   "metadata": {},
   "outputs": [],
   "source": [
    "# Define deploy function\n",
    "def deploy(path):\n",
    "  # Kill App\n",
    "    try:\n",
    "        ngrok.kill()\n",
    "        print(\"All ngrok jobs aborted.\")\n",
    "    except:\n",
    "        print(\"No ngrok jobs to kill.\")\n",
    "\n",
    "    # Set App Location\n",
    "    app_location = path\n",
    "\n",
    "    # Import NGROK\n",
    "    from pyngrok import ngrok\n",
    "\n",
    "    # Setup a tunnel to the streamlit port 80\n",
    "    public_url = ngrok.connect(port='80')\n",
    "    print(public_url)\n",
    "\n",
    "!streamlit run $app_location --server.port 80 >/dev/null\n",
    " \n",
    "# Deploy app\n",
    "deploy('/content/drive/\"My Drive\"/Applied-NLP-in-the-Enterprise/\\\n",
    " apps/ner_app_agnews.py')"
   ]
  },
  {
   "cell_type": "markdown",
   "id": "otherwise-digit",
   "metadata": {},
   "source": [
    "### Explore Streamlit Web App"
   ]
  },
  {
   "cell_type": "markdown",
   "id": "strong-peeing",
   "metadata": {},
   "source": [
    "### Build and Deploy Streamlit App for Custom NER"
   ]
  },
  {
   "cell_type": "code",
   "execution_count": null,
   "id": "separated-permit",
   "metadata": {},
   "outputs": [],
   "source": [
    "%%writefile ner_app_custom.py\n",
    "# Load libraries\n",
    "import spacy\n",
    "import streamlit as st\n",
    "import spacy_streamlit\n",
    "import numpy as np\n",
    "import pandas as pd\n",
    "import random\n",
    " \n",
    "# Set title\n",
    "st.title(':star: Custom NER')\n",
    "st.header(\"Custom Text\")\n",
    "default_text = st.text_area(\"Enter text to analyze.\",\n",
    "                            height=250)\n",
    " \n",
    "# Show NER Results\n",
    "st.header(\"NER Results\")\n",
    "base, custom = st.beta_columns(2)\n",
    " \n",
    "# Base SpaCy Model\n",
    "with base:\n",
    "    base_model = spacy_streamlit.load_model(\"en_core_web_lg\")\n",
    "    doc_base = base_model(default_text)\n",
    "    ner_labels = [\"ORG\",\"PERSON\",\"GPE\"]\n",
    "    show_table = True\n",
    "    title = \"Base SpaCy Model\"\n",
    "    sidebar_title = \"Base SpaCy Model\"\n",
    "    spacy_streamlit.visualize_ner(doc_base,\n",
    "                                  labels=ner_labels,\n",
    "                                  show_table=show_table,\n",
    "                                  title=title,\n",
    "                                  sidebar_title=sidebar_title)"
   ]
  },
  {
   "cell_type": "code",
   "execution_count": null,
   "id": "chemical-northeast",
   "metadata": {},
   "outputs": [],
   "source": [
    "# Custom SpaCy Model\n",
    "with custom:\n",
    "    custom_ner_model = spacy_streamlit.load_model(\n",
    "    '/content/drive/My Drive/Applied-NLP-in-the-Enterprise/\n",
    "    models/ag_dataset/ner-base-V3/model-best')\n",
    "    doc_custom = custom_ner_model(default_text)\n",
    "    ner_labels = [\"ORG\",\"PERSON\",\"GPE\",\"TICKER\"]\n",
    "    show_table = True\n",
    "    title = \"Custom SpaCy Model\"\n",
    "    sidebar_title = \"Custom SpaCy Model\"\n",
    "    spacy_streamlit.visualize_ner(doc_custom,\n",
    "                                  labels=ner_labels,\n",
    "                                  show_table=show_table,\n",
    "                                  title=title,\n",
    "                                  sidebar_title=sidebar_title)"
   ]
  },
  {
   "cell_type": "code",
   "execution_count": null,
   "id": "generic-patch",
   "metadata": {},
   "outputs": [],
   "source": [
    "# Deploy NER App for Custom Text\n",
    "deploy('/content/drive/\"My Drive\"/Applied-NLP-in-the-Enterprise/\\\n",
    " apps/ner_app_agnews.py')"
   ]
  },
  {
   "cell_type": "markdown",
   "id": "leading-dining",
   "metadata": {},
   "source": [
    "### Build and Deploy Streamlit App for Text Classification on AGNews Dataset"
   ]
  },
  {
   "cell_type": "code",
   "execution_count": null,
   "id": "multiple-subscription",
   "metadata": {},
   "outputs": [],
   "source": [
    "%%writefile textcat_app_agnews.py\n",
    "# Load libraries\n",
    "import spacy\n",
    "import streamlit as st\n",
    "import spacy_streamlit\n",
    "import numpy as np\n",
    "import pandas as pd\n",
    "import random\n",
    " \n",
    "# Set title\n",
    "st.title(':star: AG News Dataset')\n",
    " \n",
    "# Define function to read data\n",
    "@st.cache\n",
    "def read_data(file):\n",
    "    read_path = '/content/drive/My Drive/Applied-NLP-in-the-Enterprise'\n",
    "    data = pd.read_csv(read_path+file)\n",
    "    return data\n",
    " \n",
    "# Read data\n",
    "data = read_data('/data/ag_dataset/prepared/train_prepared.csv')\n",
    " \n",
    "# Define function to select category\n",
    "@st.cache\n",
    "def select_category(data, category_option):\n",
    "    return data.loc[data.class_name==category_option]\n",
    " \n",
    "# Set up sidebar widgets\n",
    "st.sidebar.header(\"Parameters\")\n",
    "display_selections = st.sidebar.multiselect(\n",
    " \"Which data would you like to display?\",\n",
    " [\"Full Data\",\"Single Article\"], None)\n",
    " \n",
    "category_option = st.sidebar.radio(\n",
    " 'Which category would you like to explore?',\n",
    " data.class_name.unique())\n",
    " \n",
    "article_option = st.sidebar.number_input(\n",
    " 'Which article would you like to explore?',\n",
    " data.loc[data.class_name==category_option].index.min(),\n",
    " data.loc[data.class_name==category_option].index.max(),\n",
    " data.loc[data.class_name==category_option].index.min())\n",
    " \n",
    "# Set display behavior for data\n",
    "if \"Full Data\" in display_selections:\n",
    "    st.header(\"Full Data\")\n",
    "    st.write(select_category(data,category_option)\n",
    "             .loc[:,[\"title\",\"description\"]],\n",
    "             width=1980, height=200)\n",
    " "
   ]
  },
  {
   "cell_type": "code",
   "execution_count": null,
   "id": "italian-egyptian",
   "metadata": {},
   "outputs": [],
   "source": [
    "if \"Single Article\" in display_selections:\n",
    "    st.header(\"Single Article\")\n",
    "    st.subheader(\"Title\")\n",
    "    st.write(data.loc[article_option,\"title\"])\n",
    "    st.subheader(\"Description\")\n",
    "    st.write(data.loc[article_option,\"description\"])\n",
    "\n",
    "# Set text\n",
    "default_text = data.loc[article_option,\"description\"]\n",
    " \n",
    "# Custom SpaCy Model\n",
    "custom_model = spacy_streamlit.load_model(\\\n",
    "'/content/drive/My Drive/Applied-NLP-in-the-Enterprise/\\\n",
    "models/ag_dataset/textcat-prodigy-V3-base-full/model-best')\n",
    "doc= custom_model(default_text)\n",
    "title = \"Text Classification\"\n",
    "spacy_streamlit.visualize_textcat(doc, title=title)\n",
    "prediction = max(doc.cats, key=lambda key: doc.cats[key])\n",
    "confidence = str(np.round(doc.cats[prediction],2))\n",
    "st.header(\"Prediction: \" + prediction)\n",
    "st.subheader(\"Confidence: \" + confidence)"
   ]
  },
  {
   "cell_type": "code",
   "execution_count": null,
   "id": "dental-employment",
   "metadata": {},
   "outputs": [],
   "source": [
    "# Deploy Text Classification App for AGNews\n",
    "deploy('/content/drive/\"My Drive\"/Applied-NLP-in-the-Enterprise/\\\n",
    " apps/textcat_app_agnews.py')"
   ]
  },
  {
   "cell_type": "markdown",
   "id": "painful-prospect",
   "metadata": {},
   "source": [
    "### Build and Deploy Streamlit App for Text Classification on Custom Text"
   ]
  },
  {
   "cell_type": "code",
   "execution_count": null,
   "id": "surrounded-prince",
   "metadata": {},
   "outputs": [],
   "source": [
    "%%writefile textcat_app_custom.py\n",
    "# Load libraries\n",
    "import spacy\n",
    "import streamlit as st\n",
    "import spacy_streamlit\n",
    "import numpy as np\n",
    "import pandas as pd\n",
    "import random\n",
    " \n",
    "# Set title\n",
    "st.header(\":star: Text Classification\")\n",
    "default_text = st.text_area(\"Enter text to analyze.\")\n",
    " \n",
    "# Custom SpaCy Model\n",
    "custom_model = spacy_streamlit.load_model(\\\n",
    "'/content/drive/My Drive/Applied-NLP-in-the-Enterprise/\\\n",
    "models/ag_dataset/textcat-prodigy-V3-base-full/model-best')\n",
    "doc= custom_model(default_text)\n",
    "title = \"Text\"\n",
    "spacy_streamlit.visualize_textcat(doc, title=title)\n",
    "prediction = max(doc.cats, key=lambda key: doc.cats[key])\n",
    "confidence = str(np.round(doc.cats[prediction],2))\n",
    "st.header(\"Prediction: \" + prediction)\n",
    "st.subheader(\"Confidence: \" + confidence)"
   ]
  },
  {
   "cell_type": "markdown",
   "id": "equipped-latex",
   "metadata": {},
   "source": [
    "## Conclusion"
   ]
  }
 ],
 "metadata": {
  "kernelspec": {
   "display_name": "Python 3",
   "language": "python",
   "name": "python3"
  }
 },
 "nbformat": 4,
 "nbformat_minor": 5
}
