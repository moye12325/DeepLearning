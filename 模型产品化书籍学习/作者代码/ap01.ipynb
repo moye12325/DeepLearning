{
 "cells": [
  {
   "cell_type": "raw",
   "id": "peaceful-accident",
   "metadata": {
    "pycharm": {
     "name": "#%% raw\n"
    }
   },
   "source": [
    "[appendix]"
   ]
  },
  {
   "cell_type": "markdown",
   "id": "enormous-intellectual",
   "metadata": {
    "pycharm": {
     "name": "#%% md\n"
    }
   },
   "source": [
    "# Scaling"
   ]
  },
  {
   "cell_type": "markdown",
   "id": "differential-highlight",
   "metadata": {
    "pycharm": {
     "name": "#%% md\n"
    }
   },
   "source": [
    "## Multi-GPU Training"
   ]
  },
  {
   "cell_type": "code",
   "execution_count": null,
   "id": "global-nirvana",
   "metadata": {
    "pycharm": {
     "name": "#%%\n"
    }
   },
   "outputs": [],
   "source": [
    "from torch import nn"
   ]
  },
  {
   "cell_type": "code",
   "execution_count": null,
   "id": "favorite-variety",
   "metadata": {
    "pycharm": {
     "name": "#%%\n"
    }
   },
   "outputs": [],
   "source": [
    "model = nn.Transformer()\n",
    "model = nn.DataParallel(model)"
   ]
  },
  {
   "cell_type": "markdown",
   "id": "peaceful-puzzle",
   "metadata": {
    "pycharm": {
     "name": "#%% md\n"
    }
   },
   "source": [
    "## Distributed Training"
   ]
  },
  {
   "cell_type": "markdown",
   "id": "necessary-technology",
   "metadata": {
    "pycharm": {
     "name": "#%% md\n"
    }
   },
   "source": [
    "## What Makes Deep Training fast?"
   ]
  }
 ],
 "metadata": {
  "kernelspec": {
   "display_name": "Python 3",
   "language": "python",
   "name": "python3"
  }
 },
 "nbformat": 4,
 "nbformat_minor": 5
}