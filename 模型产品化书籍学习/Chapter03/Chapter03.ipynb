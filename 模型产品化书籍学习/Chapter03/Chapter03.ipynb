{
  "nbformat": 4,
  "nbformat_minor": 0,
  "metadata": {
    "colab": {
      "provenance": []
    },
    "kernelspec": {
      "name": "python3",
      "display_name": "Python 3"
    },
    "language_info": {
      "name": "python"
    }
  },
  "cells": [
    {
      "cell_type": "code",
      "execution_count": 5,
      "metadata": {
        "colab": {
          "base_uri": "https://localhost:8080/"
        },
        "id": "ht6uUE0-eml3",
        "outputId": "0a915a98-419d-4226-b6f0-bc5b95e0b438"
      },
      "outputs": [
        {
          "output_type": "stream",
          "name": "stdout",
          "text": [
            "/content\n"
          ]
        }
      ],
      "source": [
        "!pwd"
      ]
    },
    {
      "cell_type": "code",
      "source": [
        "import os\n",
        "from google.colab import drive\n",
        "\n",
        "drive.mount('./mount')#运行后点击链接，复制密钥\n",
        " \n",
        "os.environ['KAGGLE_CONFIG_DIR'] = '/content/mount/My Drive/Colab Notebooks/kaggle' \n",
        "\n",
        "os.chdir('/content/mount/My Drive/Colab Notebooks/kaggle') #切换到kaggle文件夹\n",
        "!kaggle datasets download -d amananandrai/ag-news-classification-dataset"
      ],
      "metadata": {
        "colab": {
          "base_uri": "https://localhost:8080/"
        },
        "id": "VR9iFwNynfYU",
        "outputId": "6089b979-a28c-460e-984f-7fd0c3afb866"
      },
      "execution_count": 6,
      "outputs": [
        {
          "output_type": "stream",
          "name": "stdout",
          "text": [
            "Mounted at ./mount\n",
            "Downloading ag-news-classification-dataset.zip to /content/mount/My Drive/Colab Notebooks/kaggle\n",
            " 44% 5.00M/11.4M [00:00<00:00, 25.1MB/s]\n",
            "100% 11.4M/11.4M [00:00<00:00, 45.4MB/s]\n"
          ]
        }
      ]
    },
    {
      "cell_type": "code",
      "source": [
        "!unzip ag-news-classification-dataset.zip"
      ],
      "metadata": {
        "colab": {
          "base_uri": "https://localhost:8080/"
        },
        "id": "DOhHGYuIpfJM",
        "outputId": "685f30cb-a199-4f76-e0d5-e96ef2b3e2ba"
      },
      "execution_count": 9,
      "outputs": [
        {
          "output_type": "stream",
          "name": "stdout",
          "text": [
            "Archive:  ag-news-classification-dataset.zip\n",
            "  inflating: test.csv                \n",
            "  inflating: train.csv               \n"
          ]
        }
      ]
    },
    {
      "cell_type": "code",
      "source": [
        "import pandas as pd\n",
        "import os\n",
        "\n",
        "cwd=os.getcwd()\n",
        "print(cwd)\n",
        "\n",
        "data = pd.read_csv(cwd+'/train.csv')\n",
        "data = pd.DataFrame(data=data)\n",
        "data.columns = data.columns.str.replace(\" \",\"_\")\n",
        "data.columns = data.columns.str.lower()\n",
        "data['class_name']=data['class_index'].map({1:\"World\",2:\"Sports\",3:\"Business\",4:\"Sci_Tech\"})"
      ],
      "metadata": {
        "colab": {
          "base_uri": "https://localhost:8080/"
        },
        "id": "Khm_6GD1psow",
        "outputId": "aacbf0cf-8d1a-4b1b-9fc7-6a814e228966"
      },
      "execution_count": 12,
      "outputs": [
        {
          "output_type": "stream",
          "name": "stdout",
          "text": [
            "/content/mount/MyDrive/Colab Notebooks/kaggle\n"
          ]
        }
      ]
    },
    {
      "cell_type": "code",
      "source": [
        "data[:10]"
      ],
      "metadata": {
        "colab": {
          "base_uri": "https://localhost:8080/",
          "height": 363
        },
        "id": "oD6e9qonsEbe",
        "outputId": "982ab99a-d0e5-414b-ab83-7ca780c24ce3"
      },
      "execution_count": 13,
      "outputs": [
        {
          "output_type": "execute_result",
          "data": {
            "text/plain": [
              "   class_index                                              title  \\\n",
              "0            3  Wall St. Bears Claw Back Into the Black (Reuters)   \n",
              "1            3  Carlyle Looks Toward Commercial Aerospace (Reu...   \n",
              "2            3    Oil and Economy Cloud Stocks' Outlook (Reuters)   \n",
              "3            3  Iraq Halts Oil Exports from Main Southern Pipe...   \n",
              "4            3  Oil prices soar to all-time record, posing new...   \n",
              "5            3        Stocks End Up, But Near Year Lows (Reuters)   \n",
              "6            3               Money Funds Fell in Latest Week (AP)   \n",
              "7            3  Fed minutes show dissent over inflation (USATO...   \n",
              "8            3                            Safety Net (Forbes.com)   \n",
              "9            3            Wall St. Bears Claw Back Into the Black   \n",
              "\n",
              "                                         description class_name  \n",
              "0  Reuters - Short-sellers, Wall Street's dwindli...   Business  \n",
              "1  Reuters - Private investment firm Carlyle Grou...   Business  \n",
              "2  Reuters - Soaring crude prices plus worries\\ab...   Business  \n",
              "3  Reuters - Authorities have halted oil export\\f...   Business  \n",
              "4  AFP - Tearaway world oil prices, toppling reco...   Business  \n",
              "5  Reuters - Stocks ended slightly higher on Frid...   Business  \n",
              "6  AP - Assets of the nation's retail money marke...   Business  \n",
              "7  USATODAY.com - Retail sales bounced back a bit...   Business  \n",
              "8  Forbes.com - After earning a PH.D. in Sociolog...   Business  \n",
              "9   NEW YORK (Reuters) - Short-sellers, Wall Stre...   Business  "
            ],
            "text/html": [
              "\n",
              "  <div id=\"df-238a4061-ed8d-460b-9033-a1c9dfeef7c6\">\n",
              "    <div class=\"colab-df-container\">\n",
              "      <div>\n",
              "<style scoped>\n",
              "    .dataframe tbody tr th:only-of-type {\n",
              "        vertical-align: middle;\n",
              "    }\n",
              "\n",
              "    .dataframe tbody tr th {\n",
              "        vertical-align: top;\n",
              "    }\n",
              "\n",
              "    .dataframe thead th {\n",
              "        text-align: right;\n",
              "    }\n",
              "</style>\n",
              "<table border=\"1\" class=\"dataframe\">\n",
              "  <thead>\n",
              "    <tr style=\"text-align: right;\">\n",
              "      <th></th>\n",
              "      <th>class_index</th>\n",
              "      <th>title</th>\n",
              "      <th>description</th>\n",
              "      <th>class_name</th>\n",
              "    </tr>\n",
              "  </thead>\n",
              "  <tbody>\n",
              "    <tr>\n",
              "      <th>0</th>\n",
              "      <td>3</td>\n",
              "      <td>Wall St. Bears Claw Back Into the Black (Reuters)</td>\n",
              "      <td>Reuters - Short-sellers, Wall Street's dwindli...</td>\n",
              "      <td>Business</td>\n",
              "    </tr>\n",
              "    <tr>\n",
              "      <th>1</th>\n",
              "      <td>3</td>\n",
              "      <td>Carlyle Looks Toward Commercial Aerospace (Reu...</td>\n",
              "      <td>Reuters - Private investment firm Carlyle Grou...</td>\n",
              "      <td>Business</td>\n",
              "    </tr>\n",
              "    <tr>\n",
              "      <th>2</th>\n",
              "      <td>3</td>\n",
              "      <td>Oil and Economy Cloud Stocks' Outlook (Reuters)</td>\n",
              "      <td>Reuters - Soaring crude prices plus worries\\ab...</td>\n",
              "      <td>Business</td>\n",
              "    </tr>\n",
              "    <tr>\n",
              "      <th>3</th>\n",
              "      <td>3</td>\n",
              "      <td>Iraq Halts Oil Exports from Main Southern Pipe...</td>\n",
              "      <td>Reuters - Authorities have halted oil export\\f...</td>\n",
              "      <td>Business</td>\n",
              "    </tr>\n",
              "    <tr>\n",
              "      <th>4</th>\n",
              "      <td>3</td>\n",
              "      <td>Oil prices soar to all-time record, posing new...</td>\n",
              "      <td>AFP - Tearaway world oil prices, toppling reco...</td>\n",
              "      <td>Business</td>\n",
              "    </tr>\n",
              "    <tr>\n",
              "      <th>5</th>\n",
              "      <td>3</td>\n",
              "      <td>Stocks End Up, But Near Year Lows (Reuters)</td>\n",
              "      <td>Reuters - Stocks ended slightly higher on Frid...</td>\n",
              "      <td>Business</td>\n",
              "    </tr>\n",
              "    <tr>\n",
              "      <th>6</th>\n",
              "      <td>3</td>\n",
              "      <td>Money Funds Fell in Latest Week (AP)</td>\n",
              "      <td>AP - Assets of the nation's retail money marke...</td>\n",
              "      <td>Business</td>\n",
              "    </tr>\n",
              "    <tr>\n",
              "      <th>7</th>\n",
              "      <td>3</td>\n",
              "      <td>Fed minutes show dissent over inflation (USATO...</td>\n",
              "      <td>USATODAY.com - Retail sales bounced back a bit...</td>\n",
              "      <td>Business</td>\n",
              "    </tr>\n",
              "    <tr>\n",
              "      <th>8</th>\n",
              "      <td>3</td>\n",
              "      <td>Safety Net (Forbes.com)</td>\n",
              "      <td>Forbes.com - After earning a PH.D. in Sociolog...</td>\n",
              "      <td>Business</td>\n",
              "    </tr>\n",
              "    <tr>\n",
              "      <th>9</th>\n",
              "      <td>3</td>\n",
              "      <td>Wall St. Bears Claw Back Into the Black</td>\n",
              "      <td>NEW YORK (Reuters) - Short-sellers, Wall Stre...</td>\n",
              "      <td>Business</td>\n",
              "    </tr>\n",
              "  </tbody>\n",
              "</table>\n",
              "</div>\n",
              "      <button class=\"colab-df-convert\" onclick=\"convertToInteractive('df-238a4061-ed8d-460b-9033-a1c9dfeef7c6')\"\n",
              "              title=\"Convert this dataframe to an interactive table.\"\n",
              "              style=\"display:none;\">\n",
              "        \n",
              "  <svg xmlns=\"http://www.w3.org/2000/svg\" height=\"24px\"viewBox=\"0 0 24 24\"\n",
              "       width=\"24px\">\n",
              "    <path d=\"M0 0h24v24H0V0z\" fill=\"none\"/>\n",
              "    <path d=\"M18.56 5.44l.94 2.06.94-2.06 2.06-.94-2.06-.94-.94-2.06-.94 2.06-2.06.94zm-11 1L8.5 8.5l.94-2.06 2.06-.94-2.06-.94L8.5 2.5l-.94 2.06-2.06.94zm10 10l.94 2.06.94-2.06 2.06-.94-2.06-.94-.94-2.06-.94 2.06-2.06.94z\"/><path d=\"M17.41 7.96l-1.37-1.37c-.4-.4-.92-.59-1.43-.59-.52 0-1.04.2-1.43.59L10.3 9.45l-7.72 7.72c-.78.78-.78 2.05 0 2.83L4 21.41c.39.39.9.59 1.41.59.51 0 1.02-.2 1.41-.59l7.78-7.78 2.81-2.81c.8-.78.8-2.07 0-2.86zM5.41 20L4 18.59l7.72-7.72 1.47 1.35L5.41 20z\"/>\n",
              "  </svg>\n",
              "      </button>\n",
              "      \n",
              "  <style>\n",
              "    .colab-df-container {\n",
              "      display:flex;\n",
              "      flex-wrap:wrap;\n",
              "      gap: 12px;\n",
              "    }\n",
              "\n",
              "    .colab-df-convert {\n",
              "      background-color: #E8F0FE;\n",
              "      border: none;\n",
              "      border-radius: 50%;\n",
              "      cursor: pointer;\n",
              "      display: none;\n",
              "      fill: #1967D2;\n",
              "      height: 32px;\n",
              "      padding: 0 0 0 0;\n",
              "      width: 32px;\n",
              "    }\n",
              "\n",
              "    .colab-df-convert:hover {\n",
              "      background-color: #E2EBFA;\n",
              "      box-shadow: 0px 1px 2px rgba(60, 64, 67, 0.3), 0px 1px 3px 1px rgba(60, 64, 67, 0.15);\n",
              "      fill: #174EA6;\n",
              "    }\n",
              "\n",
              "    [theme=dark] .colab-df-convert {\n",
              "      background-color: #3B4455;\n",
              "      fill: #D2E3FC;\n",
              "    }\n",
              "\n",
              "    [theme=dark] .colab-df-convert:hover {\n",
              "      background-color: #434B5C;\n",
              "      box-shadow: 0px 1px 3px 1px rgba(0, 0, 0, 0.15);\n",
              "      filter: drop-shadow(0px 1px 2px rgba(0, 0, 0, 0.3));\n",
              "      fill: #FFFFFF;\n",
              "    }\n",
              "  </style>\n",
              "\n",
              "      <script>\n",
              "        const buttonEl =\n",
              "          document.querySelector('#df-238a4061-ed8d-460b-9033-a1c9dfeef7c6 button.colab-df-convert');\n",
              "        buttonEl.style.display =\n",
              "          google.colab.kernel.accessAllowed ? 'block' : 'none';\n",
              "\n",
              "        async function convertToInteractive(key) {\n",
              "          const element = document.querySelector('#df-238a4061-ed8d-460b-9033-a1c9dfeef7c6');\n",
              "          const dataTable =\n",
              "            await google.colab.kernel.invokeFunction('convertToInteractive',\n",
              "                                                     [key], {});\n",
              "          if (!dataTable) return;\n",
              "\n",
              "          const docLinkHtml = 'Like what you see? Visit the ' +\n",
              "            '<a target=\"_blank\" href=https://colab.research.google.com/notebooks/data_table.ipynb>data table notebook</a>'\n",
              "            + ' to learn more about interactive tables.';\n",
              "          element.innerHTML = '';\n",
              "          dataTable['output_type'] = 'display_data';\n",
              "          await google.colab.output.renderOutput(dataTable, element);\n",
              "          const docLink = document.createElement('div');\n",
              "          docLink.innerHTML = docLinkHtml;\n",
              "          element.appendChild(docLink);\n",
              "        }\n",
              "      </script>\n",
              "    </div>\n",
              "  </div>\n",
              "  "
            ]
          },
          "metadata": {},
          "execution_count": 13
        }
      ]
    },
    {
      "cell_type": "code",
      "source": [
        "data.class_name.value_counts()"
      ],
      "metadata": {
        "colab": {
          "base_uri": "https://localhost:8080/"
        },
        "id": "2lSskVLCsJ45",
        "outputId": "c2d2d976-c5e5-4867-845b-ac8c5c36b1eb"
      },
      "execution_count": 14,
      "outputs": [
        {
          "output_type": "execute_result",
          "data": {
            "text/plain": [
              "Business    30000\n",
              "Sci_Tech    30000\n",
              "Sports      30000\n",
              "World       30000\n",
              "Name: class_name, dtype: int64"
            ]
          },
          "metadata": {},
          "execution_count": 14
        }
      ]
    },
    {
      "cell_type": "code",
      "source": [
        "# 打印前10篇新闻\n",
        "for i in range(10):\n",
        "  print(\"Tittle of Article\",i)\n",
        "  print(data.loc[i,\"title\"])\n",
        "  print(\"\\n\")"
      ],
      "metadata": {
        "colab": {
          "base_uri": "https://localhost:8080/"
        },
        "id": "2FSuqNXGsmkF",
        "outputId": "02f9d0bb-eb9b-45d1-a92c-381ba451fd0c"
      },
      "execution_count": 16,
      "outputs": [
        {
          "output_type": "stream",
          "name": "stdout",
          "text": [
            "Tittle of Article 0\n",
            "Wall St. Bears Claw Back Into the Black (Reuters)\n",
            "\n",
            "\n",
            "Tittle of Article 1\n",
            "Carlyle Looks Toward Commercial Aerospace (Reuters)\n",
            "\n",
            "\n",
            "Tittle of Article 2\n",
            "Oil and Economy Cloud Stocks' Outlook (Reuters)\n",
            "\n",
            "\n",
            "Tittle of Article 3\n",
            "Iraq Halts Oil Exports from Main Southern Pipeline (Reuters)\n",
            "\n",
            "\n",
            "Tittle of Article 4\n",
            "Oil prices soar to all-time record, posing new menace to US economy (AFP)\n",
            "\n",
            "\n",
            "Tittle of Article 5\n",
            "Stocks End Up, But Near Year Lows (Reuters)\n",
            "\n",
            "\n",
            "Tittle of Article 6\n",
            "Money Funds Fell in Latest Week (AP)\n",
            "\n",
            "\n",
            "Tittle of Article 7\n",
            "Fed minutes show dissent over inflation (USATODAY.com)\n",
            "\n",
            "\n",
            "Tittle of Article 8\n",
            "Safety Net (Forbes.com)\n",
            "\n",
            "\n",
            "Tittle of Article 9\n",
            "Wall St. Bears Claw Back Into the Black\n",
            "\n",
            "\n"
          ]
        }
      ]
    },
    {
      "cell_type": "code",
      "source": [
        "# 打印前10篇新闻\n",
        "for i in range(10):\n",
        "  print(\"Description of Article\",i)\n",
        "  print(data.loc[i,\"description\"])\n",
        "  print(\"\\n\")"
      ],
      "metadata": {
        "colab": {
          "base_uri": "https://localhost:8080/"
        },
        "id": "q_ppnoTntaEW",
        "outputId": "044c3995-0a9d-4635-b27a-471c180886e0"
      },
      "execution_count": 17,
      "outputs": [
        {
          "output_type": "stream",
          "name": "stdout",
          "text": [
            "Description of Article 0\n",
            "Reuters - Short-sellers, Wall Street's dwindling\\band of ultra-cynics, are seeing green again.\n",
            "\n",
            "\n",
            "Description of Article 1\n",
            "Reuters - Private investment firm Carlyle Group,\\which has a reputation for making well-timed and occasionally\\controversial plays in the defense industry, has quietly placed\\its bets on another part of the market.\n",
            "\n",
            "\n",
            "Description of Article 2\n",
            "Reuters - Soaring crude prices plus worries\\about the economy and the outlook for earnings are expected to\\hang over the stock market next week during the depth of the\\summer doldrums.\n",
            "\n",
            "\n",
            "Description of Article 3\n",
            "Reuters - Authorities have halted oil export\\flows from the main pipeline in southern Iraq after\\intelligence showed a rebel militia could strike\\infrastructure, an oil official said on Saturday.\n",
            "\n",
            "\n",
            "Description of Article 4\n",
            "AFP - Tearaway world oil prices, toppling records and straining wallets, present a new economic menace barely three months before the US presidential elections.\n",
            "\n",
            "\n",
            "Description of Article 5\n",
            "Reuters - Stocks ended slightly higher on Friday\\but stayed near lows for the year as oil prices surged past  #36;46\\a barrel, offsetting a positive outlook from computer maker\\Dell Inc. (DELL.O)\n",
            "\n",
            "\n",
            "Description of Article 6\n",
            "AP - Assets of the nation's retail money market mutual funds fell by  #36;1.17 billion in the latest week to  #36;849.98 trillion, the Investment Company Institute said Thursday.\n",
            "\n",
            "\n",
            "Description of Article 7\n",
            "USATODAY.com - Retail sales bounced back a bit in July, and new claims for jobless benefits fell last week, the government said Thursday, indicating the economy is improving from a midsummer slump.\n",
            "\n",
            "\n",
            "Description of Article 8\n",
            "Forbes.com - After earning a PH.D. in Sociology, Danny Bazil Riley started to work as the general manager at a commercial real estate firm at an annual base salary of  #36;70,000. Soon after, a financial planner stopped by his desk to drop off brochures about insurance benefits available through his employer. But, at 32, \"buying insurance was the furthest thing from my mind,\" says Riley.\n",
            "\n",
            "\n",
            "Description of Article 9\n",
            " NEW YORK (Reuters) - Short-sellers, Wall Street's dwindling  band of ultra-cynics, are seeing green again.\n",
            "\n",
            "\n"
          ]
        }
      ]
    },
    {
      "cell_type": "code",
      "source": [
        "# 去除噪声\n",
        "cols=[\"title\",\"description\"]\n",
        "data[cols]=data[cols].applymap(lambda x : x.replace(\"\\\\\",\" \"))\n",
        "data[cols]=data[cols].applymap(lambda x : x.replace(\"#36;\",\"$\"))\n",
        "data[cols]=data[cols].applymap(lambda x: x.replace(\"  \",\" \"))\n",
        "data[cols]=data[cols].applymap(lambda x: x.strip())\n",
        "\n",
        "# 写入准备文件\n",
        "data.to_csv(cwd+'/train_prepared.csv',index=False)"
      ],
      "metadata": {
        "id": "6207VgN8tkel"
      },
      "execution_count": 20,
      "outputs": []
    },
    {
      "cell_type": "markdown",
      "source": [
        "## NLP任务1：命名实体识别"
      ],
      "metadata": {
        "id": "snhUWU1HwaBi"
      }
    }
  ]
}