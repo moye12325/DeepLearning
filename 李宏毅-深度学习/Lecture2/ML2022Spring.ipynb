{
 "cells": [
  {
   "cell_type": "markdown",
   "metadata": {
    "id": "KVUGfWTo7_Oj",
    "pycharm": {
     "name": "#%% md\n"
    }
   },
   "source": [
    "## Download Data\n",
    "Download data from google drive, then unzip it.\n",
    "\n",
    "You should have\n",
    "- `libriphone/train_split.txt`\n",
    "- `libriphone/train_labels`\n",
    "- `libriphone/test_split.txt`\n",
    "- `libriphone/feat/train/*.pt`: training feature<br>\n",
    "- `libriphone/feat/test/*.pt`:  testing feature<br>\n",
    "\n",
    "after running the following block.\n",
    "\n",
    "> **Notes: if the google drive link is dead, you can download the data directly from [Kaggle](https://www.kaggle.com/c/ml2022spring-hw2/data) and upload it to the workspace**\n"
   ]
  },
  {
   "cell_type": "markdown",
   "metadata": {
    "id": "Bj5jYXsD9Ef3",
    "pycharm": {
     "name": "#%% md\n"
    }
   },
   "source": [
    "### Download train/test metadata"
   ]
  },
  {
   "cell_type": "code",
   "execution_count": 5,
   "metadata": {
    "colab": {
     "base_uri": "https://localhost:8080/"
    },
    "id": "OzkiMEcC3Foq",
    "outputId": "d5b1ea11-19e6-4daf-9fe3-d9db419d52f5",
    "pycharm": {
     "name": "#%%\n"
    }
   },
   "outputs": [
    {
     "output_type": "stream",
     "name": "stdout",
     "text": [
      "Looking in indexes: https://pypi.org/simple, https://us-python.pkg.dev/colab-wheels/public/simple/\n",
      "Requirement already satisfied: gdown in /usr/local/lib/python3.7/dist-packages (4.5.1)\n",
      "Requirement already satisfied: beautifulsoup4 in /usr/local/lib/python3.7/dist-packages (from gdown) (4.6.3)\n",
      "Requirement already satisfied: filelock in /usr/local/lib/python3.7/dist-packages (from gdown) (3.7.1)\n",
      "Requirement already satisfied: six in /usr/local/lib/python3.7/dist-packages (from gdown) (1.15.0)\n",
      "Requirement already satisfied: tqdm in /usr/local/lib/python3.7/dist-packages (from gdown) (4.64.0)\n",
      "Requirement already satisfied: requests[socks] in /usr/local/lib/python3.7/dist-packages (from gdown) (2.23.0)\n",
      "Requirement already satisfied: urllib3!=1.25.0,!=1.25.1,<1.26,>=1.21.1 in /usr/local/lib/python3.7/dist-packages (from requests[socks]->gdown) (1.24.3)\n",
      "Requirement already satisfied: certifi>=2017.4.17 in /usr/local/lib/python3.7/dist-packages (from requests[socks]->gdown) (2022.6.15)\n",
      "Requirement already satisfied: chardet<4,>=3.0.2 in /usr/local/lib/python3.7/dist-packages (from requests[socks]->gdown) (3.0.4)\n",
      "Requirement already satisfied: idna<3,>=2.5 in /usr/local/lib/python3.7/dist-packages (from requests[socks]->gdown) (2.10)\n",
      "Requirement already satisfied: PySocks!=1.5.7,>=1.5.6 in /usr/local/lib/python3.7/dist-packages (from requests[socks]->gdown) (1.7.1)\n",
      "/usr/local/lib/python3.7/dist-packages/gdown/cli.py:131: FutureWarning: Option `--id` was deprecated in version 4.3.1 and will be removed in 5.0. You don't need to pass it anymore to use a file ID.\n",
      "  category=FutureWarning,\n",
      "Downloading...\n",
      "From: https://drive.google.com/uc?id=1o6Ag-G3qItSmYhTheX6DYiuyNzWyHyTc\n",
      "To: /content/libriphone.zip\n",
      "100% 479M/479M [00:04<00:00, 116MB/s]\n",
      "replace libriphone/.DS_Store? [y]es, [n]o, [A]ll, [N]one, [r]ename: n\n",
      "replace __MACOSX/libriphone/._.DS_Store? [y]es, [n]o, [A]ll, [N]one, [r]ename: n\n",
      "replace libriphone/test_split.txt? [y]es, [n]o, [A]ll, [N]one, [r]ename: feat  test_split.txt  train_labels.txt\ttrain_split.txt\n"
     ]
    }
   ],
   "source": [
    "!pip install --upgrade gdown\n",
    "\n",
    "# Main link\n",
    "!gdown --id '1o6Ag-G3qItSmYhTheX6DYiuyNzWyHyTc' --output libriphone.zip\n",
    "\n",
    "# Backup link 1\n",
    "# !gdown --id '1R1uQYi4QpX0tBfUWt2mbZcncdBsJkxeW' --output libriphone.zip\n",
    "\n",
    "# Bqckup link 2\n",
    "# !wget -O libriphone.zip \"https://www.dropbox.com/s/wqww8c5dbrl2ka9/libriphone.zip?dl=1\"\n",
    "\n",
    "!unzip -q libriphone.zip\n",
    "!ls libriphone"
   ]
  },
  {
   "cell_type": "markdown",
   "metadata": {
    "id": "_L_4anls8Drv",
    "pycharm": {
     "name": "#%% md\n"
    }
   },
   "source": [
    "### Preparing Data"
   ]
  },
  {
   "cell_type": "markdown",
   "metadata": {
    "id": "po4N3C-AWuWl",
    "pycharm": {
     "name": "#%% md\n"
    }
   },
   "source": [
    "**Helper functions to pre-process the training data from raw MFCC features of each utterance.**\n",
    "\n",
    "A phoneme may span several frames and is dependent to past and future frames. \\\n",
    "Hence we concatenate neighboring phonemes for training to achieve higher accuracy. The **concat_feat** function concatenates past and future k frames (total 2k+1 = n frames), and we predict the center frame.\n",
    "\n",
    "Feel free to modify the data preprocess functions, but **do not drop any frame** (if you modify the functions, remember to check that the number of frames are the same as mentioned in the slides)"
   ]
  },
  {
   "cell_type": "code",
   "execution_count": 15,
   "metadata": {
    "id": "IJjLT8em-y9G",
    "pycharm": {
     "name": "#%%\n"
    }
   },
   "outputs": [],
   "source": [
    "import os\n",
    "import random\n",
    "import pandas as pd\n",
    "import torch\n",
    "from tqdm import tqdm\n",
    "\n",
    "def load_feat(path):\n",
    "    feat = torch.load(path)\n",
    "    return feat\n",
    "\n",
    "def shift(x, n):\n",
    "    if n < 0:\n",
    "        left = x[0].repeat(-n, 1)\n",
    "        right = x[:n]\n",
    "\n",
    "    elif n > 0:\n",
    "        right = x[-1].repeat(n, 1)\n",
    "        left = x[n:]\n",
    "    else:\n",
    "        return x\n",
    "\n",
    "    return torch.cat((left, right), dim=0)\n",
    "\n",
    "def concat_feat(x, concat_n):\n",
    "    assert concat_n % 2 == 1 # n must be odd\n",
    "    if concat_n < 2:\n",
    "        return x\n",
    "    seq_len, feature_dim = x.size(0), x.size(1)\n",
    "    x = x.repeat(1, concat_n) \n",
    "    x = x.view(seq_len, concat_n, feature_dim).permute(1, 0, 2) # concat_n, seq_len, feature_dim\n",
    "    mid = (concat_n // 2)\n",
    "    for r_idx in range(1, mid+1):\n",
    "        x[mid + r_idx, :] = shift(x[mid + r_idx], r_idx)\n",
    "        x[mid - r_idx, :] = shift(x[mid - r_idx], -r_idx)\n",
    "\n",
    "    return x.permute(1, 0, 2).view(seq_len, concat_n * feature_dim)\n",
    "\n",
    "def preprocess_data(split, feat_dir, phone_path, concat_nframes, train_ratio=0.8, train_val_seed=1337):\n",
    "    class_num = 41 # NOTE: pre-computed, should not need change\n",
    "    mode = 'train' if (split == 'train' or split == 'val') else 'test'\n",
    "\n",
    "    label_dict = {}\n",
    "    if mode != 'test':\n",
    "      phone_file = open(os.path.join(phone_path, f'{mode}_labels.txt')).readlines()\n",
    "\n",
    "      for line in phone_file:\n",
    "          line = line.strip('\\n').split(' ')\n",
    "          label_dict[line[0]] = [int(p) for p in line[1:]]\n",
    "\n",
    "    if split == 'train' or split == 'val':\n",
    "        # split training and validation data\n",
    "        usage_list = open(os.path.join(phone_path, 'train_split.txt')).readlines()\n",
    "        random.seed(train_val_seed)\n",
    "        random.shuffle(usage_list)\n",
    "        percent = int(len(usage_list) * train_ratio)\n",
    "        usage_list = usage_list[:percent] if split == 'train' else usage_list[percent:]\n",
    "    elif split == 'test':\n",
    "        usage_list = open(os.path.join(phone_path, 'test_split.txt')).readlines()\n",
    "    else:\n",
    "        raise ValueError('Invalid \\'split\\' argument for dataset: PhoneDataset!')\n",
    "\n",
    "    usage_list = [line.strip('\\n') for line in usage_list]\n",
    "    print('[Dataset] - # phone classes: ' + str(class_num) + ', number of utterances for ' + split + ': ' + str(len(usage_list)))\n",
    "\n",
    "    max_len = 3000000\n",
    "    X = torch.empty(max_len, 39 * concat_nframes)\n",
    "    if mode != 'test':\n",
    "      y = torch.empty(max_len, dtype=torch.long)\n",
    "\n",
    "    idx = 0\n",
    "    for i, fname in tqdm(enumerate(usage_list)):\n",
    "        feat = load_feat(os.path.join(feat_dir, mode, f'{fname}.pt'))\n",
    "        cur_len = len(feat)\n",
    "        feat = concat_feat(feat, concat_nframes)\n",
    "        if mode != 'test':\n",
    "          label = torch.LongTensor(label_dict[fname])\n",
    "\n",
    "        X[idx: idx + cur_len, :] = feat\n",
    "        if mode != 'test':\n",
    "          y[idx: idx + cur_len] = label\n",
    "\n",
    "        idx += cur_len\n",
    "\n",
    "    X = X[:idx, :]\n",
    "    if mode != 'test':\n",
    "      y = y[:idx]\n",
    "\n",
    "    print(f'[INFO] {split} set')\n",
    "    print(X.shape)\n",
    "    if mode != 'test':\n",
    "      print(y.shape)\n",
    "      return X, y\n",
    "    else:\n",
    "      return X\n"
   ]
  },
  {
   "cell_type": "markdown",
   "metadata": {
    "id": "us5XW_x6udZQ",
    "pycharm": {
     "name": "#%% md\n"
    }
   },
   "source": [
    "## Define Dataset"
   ]
  },
  {
   "cell_type": "code",
   "execution_count": 16,
   "metadata": {
    "id": "Fjf5EcmJtf4e",
    "pycharm": {
     "name": "#%%\n"
    }
   },
   "outputs": [],
   "source": [
    "import torch\n",
    "from torch.utils.data import Dataset\n",
    "from torch.utils.data import DataLoader\n",
    "\n",
    "class LibriDataset(Dataset):\n",
    "    def __init__(self, X, y=None):\n",
    "        self.data = X\n",
    "        if y is not None:\n",
    "            self.label = torch.LongTensor(y)\n",
    "        else:\n",
    "            self.label = None\n",
    "\n",
    "    def __getitem__(self, idx):\n",
    "        if self.label is not None:\n",
    "            return self.data[idx], self.label[idx]\n",
    "        else:\n",
    "            return self.data[idx]\n",
    "\n",
    "    def __len__(self):\n",
    "        return len(self.data)\n"
   ]
  },
  {
   "cell_type": "markdown",
   "metadata": {
    "id": "IRqKNvNZwe3V",
    "pycharm": {
     "name": "#%% md\n"
    }
   },
   "source": [
    "## Define Model"
   ]
  },
  {
   "cell_type": "code",
   "execution_count": 32,
   "metadata": {
    "id": "Bg-GRd7ywdrL",
    "pycharm": {
     "name": "#%%\n"
    }
   },
   "outputs": [],
   "source": [
    "import torch\n",
    "import torch.nn as nn\n",
    "import torch.nn.functional as F\n",
    "\n",
    "class BasicBlock(nn.Module):\n",
    "    def __init__(self, input_dim, output_dim):\n",
    "        super(BasicBlock, self).__init__()\n",
    "\n",
    "        self.block = nn.Sequential(\n",
    "            nn.Linear(input_dim, output_dim),\n",
    "            nn.ReLU(),\n",
    "            nn.BatchNorm1d(output_dim),\n",
    "            nn.Dropout(0.25),\n",
    "        )\n",
    "\n",
    "    def forward(self, x):\n",
    "        x = self.block(x)\n",
    "        return x\n",
    "\n",
    "\n",
    "class Classifier(nn.Module):\n",
    "    def __init__(self, input_dim, output_dim=41, hidden_layers=1, hidden_dim=256):\n",
    "        super(Classifier, self).__init__()\n",
    "\n",
    "        self.fc = nn.Sequential(\n",
    "            BasicBlock(input_dim, hidden_dim),\n",
    "            *[BasicBlock(hidden_dim, hidden_dim) for _ in range(hidden_layers)],\n",
    "            nn.Linear(hidden_dim, output_dim)\n",
    "        )\n",
    "\n",
    "    def forward(self, x):\n",
    "        x = self.fc(x)\n",
    "        return x"
   ]
  },
  {
   "cell_type": "markdown",
   "source": [
    "## Hyper-parameters"
   ],
   "metadata": {
    "id": "TlIq8JeqvvHC",
    "pycharm": {
     "name": "#%% md\n"
    }
   }
  },
  {
   "cell_type": "code",
   "source": [
    "# data prarameters\n",
    "concat_nframes = 15              # the number of frames to concat with, n must be odd (total 2k+1 = n frames)\n",
    "train_ratio = 0.8               # the ratio of data used for training, the rest will be used for validation\n",
    "\n",
    "# training parameters\n",
    "seed = 0                        # random seed\n",
    "batch_size = 2048                # batch size\n",
    "num_epoch = 50                   # the number of training epoch\n",
    "learning_rate = 0.0001          # learning rate\n",
    "model_path = './model.ckpt'     # the path where the checkpoint will be saved\n",
    "\n",
    "# model parameters\n",
    "input_dim = 39 * concat_nframes # the input dim of the model, you should not change the value\n",
    "hidden_layers = 12               # the number of hidden layers\n",
    "hidden_dim = 1024                # the hidden dim"
   ],
   "metadata": {
    "id": "iIHn79Iav1ri",
    "pycharm": {
     "name": "#%%\n"
    }
   },
   "execution_count": 33,
   "outputs": []
  },
  {
   "cell_type": "markdown",
   "source": [
    "## Prepare dataset and model"
   ],
   "metadata": {
    "id": "IIUFRgG5yoDn",
    "pycharm": {
     "name": "#%% md\n"
    }
   }
  },
  {
   "cell_type": "code",
   "source": [
    "import gc\n",
    "\n",
    "# preprocess data\n",
    "train_X, train_y = preprocess_data(split='train', feat_dir='./libriphone/feat', phone_path='./libriphone', concat_nframes=concat_nframes, train_ratio=train_ratio)\n",
    "val_X, val_y = preprocess_data(split='val', feat_dir='./libriphone/feat', phone_path='./libriphone', concat_nframes=concat_nframes, train_ratio=train_ratio)\n",
    "\n",
    "# get dataset\n",
    "train_set = LibriDataset(train_X, train_y)\n",
    "val_set = LibriDataset(val_X, val_y)\n",
    "\n",
    "# remove raw feature to save memory\n",
    "del train_X, train_y, val_X, val_y\n",
    "gc.collect()\n",
    "\n",
    "# get dataloader\n",
    "train_loader = DataLoader(train_set, batch_size=batch_size, shuffle=True)\n",
    "val_loader = DataLoader(val_set, batch_size=batch_size, shuffle=False)"
   ],
   "metadata": {
    "id": "c1zI3v5jyrDn",
    "colab": {
     "base_uri": "https://localhost:8080/"
    },
    "outputId": "8ff8ad86-9a96-47a8-9d10-8e9cc16019b0",
    "pycharm": {
     "name": "#%%\n"
    }
   },
   "execution_count": 34,
   "outputs": [
    {
     "output_type": "stream",
     "name": "stdout",
     "text": [
      "[Dataset] - # phone classes: 41, number of utterances for train: 3428\n"
     ]
    },
    {
     "output_type": "stream",
     "name": "stderr",
     "text": [
      "3428it [00:06, 494.40it/s]\n"
     ]
    },
    {
     "output_type": "stream",
     "name": "stdout",
     "text": [
      "[INFO] train set\n",
      "torch.Size([2116368, 585])\n",
      "torch.Size([2116368])\n",
      "[Dataset] - # phone classes: 41, number of utterances for val: 858\n"
     ]
    },
    {
     "output_type": "stream",
     "name": "stderr",
     "text": [
      "858it [00:01, 484.29it/s]"
     ]
    },
    {
     "output_type": "stream",
     "name": "stdout",
     "text": [
      "[INFO] val set\n",
      "torch.Size([527790, 585])\n",
      "torch.Size([527790])\n"
     ]
    },
    {
     "output_type": "stream",
     "name": "stderr",
     "text": [
      "\n"
     ]
    }
   ]
  },
  {
   "cell_type": "code",
   "execution_count": 35,
   "metadata": {
    "id": "CfRUEgC0GxUV",
    "colab": {
     "base_uri": "https://localhost:8080/"
    },
    "outputId": "aa2e28a0-5860-4b55-fe06-362bc896aebc",
    "pycharm": {
     "name": "#%%\n"
    }
   },
   "outputs": [
    {
     "output_type": "stream",
     "name": "stdout",
     "text": [
      "DEVICE: cuda:0\n"
     ]
    }
   ],
   "source": [
    "device = 'cuda:0' if torch.cuda.is_available() else 'cpu'\n",
    "print(f'DEVICE: {device}')"
   ]
  },
  {
   "cell_type": "code",
   "execution_count": 36,
   "metadata": {
    "id": "88xPiUnm0tAd",
    "pycharm": {
     "name": "#%%\n"
    }
   },
   "outputs": [],
   "source": [
    "import numpy as np\n",
    "\n",
    "#fix seed\n",
    "def same_seeds(seed):\n",
    "    torch.manual_seed(seed)\n",
    "    if torch.cuda.is_available():\n",
    "        torch.cuda.manual_seed(seed)\n",
    "        torch.cuda.manual_seed_all(seed)  \n",
    "    np.random.seed(seed)  \n",
    "    torch.backends.cudnn.benchmark = False\n",
    "    torch.backends.cudnn.deterministic = True"
   ]
  },
  {
   "cell_type": "code",
   "execution_count": 37,
   "metadata": {
    "id": "QTp3ZXg1yO9Y",
    "pycharm": {
     "name": "#%%\n"
    }
   },
   "outputs": [],
   "source": [
    "# fix random seed\n",
    "same_seeds(seed)\n",
    "\n",
    "# create model, define a loss function, and optimizer\n",
    "model = Classifier(input_dim=input_dim, hidden_layers=hidden_layers, hidden_dim=hidden_dim).to(device)\n",
    "criterion = nn.CrossEntropyLoss() \n",
    "optimizer = torch.optim.AdamW(model.parameters(), lr=learning_rate)"
   ]
  },
  {
   "cell_type": "markdown",
   "source": [
    "## Training"
   ],
   "metadata": {
    "id": "pwWH1KIqzxEr",
    "pycharm": {
     "name": "#%% md\n"
    }
   }
  },
  {
   "cell_type": "code",
   "execution_count": 38,
   "metadata": {
    "id": "CdMWsBs7zzNs",
    "colab": {
     "base_uri": "https://localhost:8080/"
    },
    "outputId": "dbcd58f3-b4e5-4e4f-8eea-27c86d1a3038",
    "pycharm": {
     "name": "#%%\n"
    }
   },
   "outputs": [
    {
     "output_type": "stream",
     "name": "stderr",
     "text": [
      "100%|██████████| 1034/1034 [01:10<00:00, 14.62it/s]\n",
      "100%|██████████| 258/258 [00:07<00:00, 36.11it/s]\n"
     ]
    },
    {
     "output_type": "stream",
     "name": "stdout",
     "text": [
      "[001/050] Train Acc: 0.438308 Loss: 1.968176 | Val Acc: 0.560210 loss: 1.455170\n",
      "saving model with acc 0.560\n"
     ]
    },
    {
     "output_type": "stream",
     "name": "stderr",
     "text": [
      "100%|██████████| 1034/1034 [01:11<00:00, 14.45it/s]\n",
      "100%|██████████| 258/258 [00:07<00:00, 36.29it/s]\n"
     ]
    },
    {
     "output_type": "stream",
     "name": "stdout",
     "text": [
      "[002/050] Train Acc: 0.558753 Loss: 1.455842 | Val Acc: 0.618064 loss: 1.239202\n",
      "saving model with acc 0.618\n"
     ]
    },
    {
     "output_type": "stream",
     "name": "stderr",
     "text": [
      "100%|██████████| 1034/1034 [01:11<00:00, 14.51it/s]\n",
      "100%|██████████| 258/258 [00:07<00:00, 35.57it/s]\n"
     ]
    },
    {
     "output_type": "stream",
     "name": "stdout",
     "text": [
      "[003/050] Train Acc: 0.598843 Loss: 1.310421 | Val Acc: 0.645113 loss: 1.143247\n",
      "saving model with acc 0.645\n"
     ]
    },
    {
     "output_type": "stream",
     "name": "stderr",
     "text": [
      "100%|██████████| 1034/1034 [01:11<00:00, 14.41it/s]\n",
      "100%|██████████| 258/258 [00:07<00:00, 35.93it/s]\n"
     ]
    },
    {
     "output_type": "stream",
     "name": "stdout",
     "text": [
      "[004/050] Train Acc: 0.622465 Loss: 1.225471 | Val Acc: 0.662529 loss: 1.082367\n",
      "saving model with acc 0.663\n"
     ]
    },
    {
     "output_type": "stream",
     "name": "stderr",
     "text": [
      "100%|██████████| 1034/1034 [01:11<00:00, 14.52it/s]\n",
      "100%|██████████| 258/258 [00:07<00:00, 36.08it/s]\n"
     ]
    },
    {
     "output_type": "stream",
     "name": "stdout",
     "text": [
      "[005/050] Train Acc: 0.639402 Loss: 1.165815 | Val Acc: 0.674164 loss: 1.039850\n",
      "saving model with acc 0.674\n"
     ]
    },
    {
     "output_type": "stream",
     "name": "stderr",
     "text": [
      "100%|██████████| 1034/1034 [01:11<00:00, 14.53it/s]\n",
      "100%|██████████| 258/258 [00:07<00:00, 35.92it/s]\n"
     ]
    },
    {
     "output_type": "stream",
     "name": "stdout",
     "text": [
      "[006/050] Train Acc: 0.651693 Loss: 1.120764 | Val Acc: 0.684844 loss: 1.003307\n",
      "saving model with acc 0.685\n"
     ]
    },
    {
     "output_type": "stream",
     "name": "stderr",
     "text": [
      "100%|██████████| 1034/1034 [01:11<00:00, 14.46it/s]\n",
      "100%|██████████| 258/258 [00:07<00:00, 35.48it/s]\n"
     ]
    },
    {
     "output_type": "stream",
     "name": "stdout",
     "text": [
      "[007/050] Train Acc: 0.662171 Loss: 1.084508 | Val Acc: 0.692226 loss: 0.978251\n",
      "saving model with acc 0.692\n"
     ]
    },
    {
     "output_type": "stream",
     "name": "stderr",
     "text": [
      "100%|██████████| 1034/1034 [01:11<00:00, 14.43it/s]\n",
      "100%|██████████| 258/258 [00:07<00:00, 35.90it/s]\n"
     ]
    },
    {
     "output_type": "stream",
     "name": "stdout",
     "text": [
      "[008/050] Train Acc: 0.670726 Loss: 1.054049 | Val Acc: 0.696802 loss: 0.962513\n",
      "saving model with acc 0.697\n"
     ]
    },
    {
     "output_type": "stream",
     "name": "stderr",
     "text": [
      "100%|██████████| 1034/1034 [01:11<00:00, 14.46it/s]\n",
      "100%|██████████| 258/258 [00:07<00:00, 36.06it/s]\n"
     ]
    },
    {
     "output_type": "stream",
     "name": "stdout",
     "text": [
      "[009/050] Train Acc: 0.677553 Loss: 1.029679 | Val Acc: 0.701258 loss: 0.946568\n",
      "saving model with acc 0.701\n"
     ]
    },
    {
     "output_type": "stream",
     "name": "stderr",
     "text": [
      "100%|██████████| 1034/1034 [01:11<00:00, 14.49it/s]\n",
      "100%|██████████| 258/258 [00:07<00:00, 33.38it/s]\n"
     ]
    },
    {
     "output_type": "stream",
     "name": "stdout",
     "text": [
      "[010/050] Train Acc: 0.683920 Loss: 1.007298 | Val Acc: 0.705925 loss: 0.929456\n",
      "saving model with acc 0.706\n"
     ]
    },
    {
     "output_type": "stream",
     "name": "stderr",
     "text": [
      "100%|██████████| 1034/1034 [01:11<00:00, 14.49it/s]\n",
      "100%|██████████| 258/258 [00:07<00:00, 35.53it/s]\n"
     ]
    },
    {
     "output_type": "stream",
     "name": "stdout",
     "text": [
      "[011/050] Train Acc: 0.689074 Loss: 0.988139 | Val Acc: 0.710038 loss: 0.917456\n",
      "saving model with acc 0.710\n"
     ]
    },
    {
     "output_type": "stream",
     "name": "stderr",
     "text": [
      "100%|██████████| 1034/1034 [01:11<00:00, 14.48it/s]\n",
      "100%|██████████| 258/258 [00:07<00:00, 35.82it/s]\n"
     ]
    },
    {
     "output_type": "stream",
     "name": "stdout",
     "text": [
      "[012/050] Train Acc: 0.693941 Loss: 0.971165 | Val Acc: 0.714278 loss: 0.905128\n",
      "saving model with acc 0.714\n"
     ]
    },
    {
     "output_type": "stream",
     "name": "stderr",
     "text": [
      "100%|██████████| 1034/1034 [01:11<00:00, 14.46it/s]\n",
      "100%|██████████| 258/258 [00:07<00:00, 35.20it/s]\n"
     ]
    },
    {
     "output_type": "stream",
     "name": "stdout",
     "text": [
      "[013/050] Train Acc: 0.698397 Loss: 0.956103 | Val Acc: 0.715843 loss: 0.896919\n",
      "saving model with acc 0.716\n"
     ]
    },
    {
     "output_type": "stream",
     "name": "stderr",
     "text": [
      "100%|██████████| 1034/1034 [01:11<00:00, 14.39it/s]\n",
      "100%|██████████| 258/258 [00:07<00:00, 35.37it/s]\n"
     ]
    },
    {
     "output_type": "stream",
     "name": "stdout",
     "text": [
      "[014/050] Train Acc: 0.702803 Loss: 0.940778 | Val Acc: 0.718801 loss: 0.888064\n",
      "saving model with acc 0.719\n"
     ]
    },
    {
     "output_type": "stream",
     "name": "stderr",
     "text": [
      "100%|██████████| 1034/1034 [01:11<00:00, 14.56it/s]\n",
      "100%|██████████| 258/258 [00:07<00:00, 33.78it/s]\n"
     ]
    },
    {
     "output_type": "stream",
     "name": "stdout",
     "text": [
      "[015/050] Train Acc: 0.706129 Loss: 0.927354 | Val Acc: 0.721042 loss: 0.880964\n",
      "saving model with acc 0.721\n"
     ]
    },
    {
     "output_type": "stream",
     "name": "stderr",
     "text": [
      "100%|██████████| 1034/1034 [01:11<00:00, 14.51it/s]\n",
      "100%|██████████| 258/258 [00:07<00:00, 35.69it/s]\n"
     ]
    },
    {
     "output_type": "stream",
     "name": "stdout",
     "text": [
      "[016/050] Train Acc: 0.710091 Loss: 0.914368 | Val Acc: 0.723790 loss: 0.873302\n",
      "saving model with acc 0.724\n"
     ]
    },
    {
     "output_type": "stream",
     "name": "stderr",
     "text": [
      "100%|██████████| 1034/1034 [01:12<00:00, 14.26it/s]\n",
      "100%|██████████| 258/258 [00:07<00:00, 35.42it/s]\n"
     ]
    },
    {
     "output_type": "stream",
     "name": "stdout",
     "text": [
      "[017/050] Train Acc: 0.713118 Loss: 0.903972 | Val Acc: 0.723697 loss: 0.871448\n"
     ]
    },
    {
     "output_type": "stream",
     "name": "stderr",
     "text": [
      "100%|██████████| 1034/1034 [01:11<00:00, 14.49it/s]\n",
      "100%|██████████| 258/258 [00:07<00:00, 35.82it/s]\n"
     ]
    },
    {
     "output_type": "stream",
     "name": "stdout",
     "text": [
      "[018/050] Train Acc: 0.716052 Loss: 0.892858 | Val Acc: 0.725595 loss: 0.864947\n",
      "saving model with acc 0.726\n"
     ]
    },
    {
     "output_type": "stream",
     "name": "stderr",
     "text": [
      "100%|██████████| 1034/1034 [01:11<00:00, 14.42it/s]\n",
      "100%|██████████| 258/258 [00:07<00:00, 34.80it/s]\n"
     ]
    },
    {
     "output_type": "stream",
     "name": "stdout",
     "text": [
      "[019/050] Train Acc: 0.719264 Loss: 0.882881 | Val Acc: 0.728413 loss: 0.860097\n",
      "saving model with acc 0.728\n"
     ]
    },
    {
     "output_type": "stream",
     "name": "stderr",
     "text": [
      "100%|██████████| 1034/1034 [01:12<00:00, 14.36it/s]\n",
      "100%|██████████| 258/258 [00:07<00:00, 33.19it/s]\n"
     ]
    },
    {
     "output_type": "stream",
     "name": "stdout",
     "text": [
      "[020/050] Train Acc: 0.721453 Loss: 0.873474 | Val Acc: 0.730398 loss: 0.851613\n",
      "saving model with acc 0.730\n"
     ]
    },
    {
     "output_type": "stream",
     "name": "stderr",
     "text": [
      "100%|██████████| 1034/1034 [01:12<00:00, 14.35it/s]\n",
      "100%|██████████| 258/258 [00:07<00:00, 35.52it/s]\n"
     ]
    },
    {
     "output_type": "stream",
     "name": "stdout",
     "text": [
      "[021/050] Train Acc: 0.724432 Loss: 0.864188 | Val Acc: 0.730893 loss: 0.848482\n",
      "saving model with acc 0.731\n"
     ]
    },
    {
     "output_type": "stream",
     "name": "stderr",
     "text": [
      "100%|██████████| 1034/1034 [01:12<00:00, 14.35it/s]\n",
      "100%|██████████| 258/258 [00:07<00:00, 34.68it/s]\n"
     ]
    },
    {
     "output_type": "stream",
     "name": "stdout",
     "text": [
      "[022/050] Train Acc: 0.726838 Loss: 0.855674 | Val Acc: 0.732164 loss: 0.847307\n",
      "saving model with acc 0.732\n"
     ]
    },
    {
     "output_type": "stream",
     "name": "stderr",
     "text": [
      "100%|██████████| 1034/1034 [01:12<00:00, 14.32it/s]\n",
      "100%|██████████| 258/258 [00:07<00:00, 35.20it/s]\n"
     ]
    },
    {
     "output_type": "stream",
     "name": "stdout",
     "text": [
      "[023/050] Train Acc: 0.729209 Loss: 0.847428 | Val Acc: 0.733193 loss: 0.844449\n",
      "saving model with acc 0.733\n"
     ]
    },
    {
     "output_type": "stream",
     "name": "stderr",
     "text": [
      "100%|██████████| 1034/1034 [01:12<00:00, 14.35it/s]\n",
      "100%|██████████| 258/258 [00:07<00:00, 35.77it/s]\n"
     ]
    },
    {
     "output_type": "stream",
     "name": "stdout",
     "text": [
      "[024/050] Train Acc: 0.731300 Loss: 0.839438 | Val Acc: 0.734764 loss: 0.839514\n",
      "saving model with acc 0.735\n"
     ]
    },
    {
     "output_type": "stream",
     "name": "stderr",
     "text": [
      "100%|██████████| 1034/1034 [01:11<00:00, 14.55it/s]\n",
      "100%|██████████| 258/258 [00:07<00:00, 34.30it/s]\n"
     ]
    },
    {
     "output_type": "stream",
     "name": "stdout",
     "text": [
      "[025/050] Train Acc: 0.733552 Loss: 0.832433 | Val Acc: 0.735094 loss: 0.841324\n",
      "saving model with acc 0.735\n"
     ]
    },
    {
     "output_type": "stream",
     "name": "stderr",
     "text": [
      "100%|██████████| 1034/1034 [01:11<00:00, 14.52it/s]\n",
      "100%|██████████| 258/258 [00:07<00:00, 36.15it/s]\n"
     ]
    },
    {
     "output_type": "stream",
     "name": "stdout",
     "text": [
      "[026/050] Train Acc: 0.735820 Loss: 0.824263 | Val Acc: 0.736071 loss: 0.835978\n",
      "saving model with acc 0.736\n"
     ]
    },
    {
     "output_type": "stream",
     "name": "stderr",
     "text": [
      "100%|██████████| 1034/1034 [01:12<00:00, 14.32it/s]\n",
      "100%|██████████| 258/258 [00:07<00:00, 34.13it/s]\n"
     ]
    },
    {
     "output_type": "stream",
     "name": "stdout",
     "text": [
      "[027/050] Train Acc: 0.737729 Loss: 0.819071 | Val Acc: 0.736619 loss: 0.834850\n",
      "saving model with acc 0.737\n"
     ]
    },
    {
     "output_type": "stream",
     "name": "stderr",
     "text": [
      "100%|██████████| 1034/1034 [01:11<00:00, 14.41it/s]\n",
      "100%|██████████| 258/258 [00:07<00:00, 34.75it/s]\n"
     ]
    },
    {
     "output_type": "stream",
     "name": "stdout",
     "text": [
      "[028/050] Train Acc: 0.739439 Loss: 0.812275 | Val Acc: 0.737443 loss: 0.832912\n",
      "saving model with acc 0.737\n"
     ]
    },
    {
     "output_type": "stream",
     "name": "stderr",
     "text": [
      "100%|██████████| 1034/1034 [01:12<00:00, 14.36it/s]\n",
      "100%|██████████| 258/258 [00:07<00:00, 35.31it/s]\n"
     ]
    },
    {
     "output_type": "stream",
     "name": "stdout",
     "text": [
      "[029/050] Train Acc: 0.741423 Loss: 0.806025 | Val Acc: 0.738358 loss: 0.830527\n",
      "saving model with acc 0.738\n"
     ]
    },
    {
     "output_type": "stream",
     "name": "stderr",
     "text": [
      "100%|██████████| 1034/1034 [01:11<00:00, 14.49it/s]\n",
      "100%|██████████| 258/258 [00:07<00:00, 36.18it/s]\n"
     ]
    },
    {
     "output_type": "stream",
     "name": "stdout",
     "text": [
      "[030/050] Train Acc: 0.743027 Loss: 0.799831 | Val Acc: 0.739224 loss: 0.828275\n",
      "saving model with acc 0.739\n"
     ]
    },
    {
     "output_type": "stream",
     "name": "stderr",
     "text": [
      "100%|██████████| 1034/1034 [01:12<00:00, 14.24it/s]\n",
      "100%|██████████| 258/258 [00:07<00:00, 34.89it/s]\n"
     ]
    },
    {
     "output_type": "stream",
     "name": "stdout",
     "text": [
      "[031/050] Train Acc: 0.744342 Loss: 0.794151 | Val Acc: 0.739349 loss: 0.830829\n",
      "saving model with acc 0.739\n"
     ]
    },
    {
     "output_type": "stream",
     "name": "stderr",
     "text": [
      "100%|██████████| 1034/1034 [01:11<00:00, 14.37it/s]\n",
      "100%|██████████| 258/258 [00:07<00:00, 35.54it/s]\n"
     ]
    },
    {
     "output_type": "stream",
     "name": "stdout",
     "text": [
      "[032/050] Train Acc: 0.745946 Loss: 0.789455 | Val Acc: 0.739449 loss: 0.829515\n",
      "saving model with acc 0.739\n"
     ]
    },
    {
     "output_type": "stream",
     "name": "stderr",
     "text": [
      "100%|██████████| 1034/1034 [01:11<00:00, 14.44it/s]\n",
      "100%|██████████| 258/258 [00:07<00:00, 35.04it/s]\n"
     ]
    },
    {
     "output_type": "stream",
     "name": "stdout",
     "text": [
      "[033/050] Train Acc: 0.747498 Loss: 0.783529 | Val Acc: 0.741090 loss: 0.825023\n",
      "saving model with acc 0.741\n"
     ]
    },
    {
     "output_type": "stream",
     "name": "stderr",
     "text": [
      "100%|██████████| 1034/1034 [01:11<00:00, 14.42it/s]\n",
      "100%|██████████| 258/258 [00:07<00:00, 35.07it/s]\n"
     ]
    },
    {
     "output_type": "stream",
     "name": "stdout",
     "text": [
      "[034/050] Train Acc: 0.748582 Loss: 0.779495 | Val Acc: 0.741753 loss: 0.824821\n",
      "saving model with acc 0.742\n"
     ]
    },
    {
     "output_type": "stream",
     "name": "stderr",
     "text": [
      "100%|██████████| 1034/1034 [01:11<00:00, 14.48it/s]\n",
      "100%|██████████| 258/258 [00:07<00:00, 34.69it/s]\n"
     ]
    },
    {
     "output_type": "stream",
     "name": "stdout",
     "text": [
      "[035/050] Train Acc: 0.750445 Loss: 0.773818 | Val Acc: 0.741625 loss: 0.825067\n"
     ]
    },
    {
     "output_type": "stream",
     "name": "stderr",
     "text": [
      "100%|██████████| 1034/1034 [01:11<00:00, 14.49it/s]\n",
      "100%|██████████| 258/258 [00:07<00:00, 35.70it/s]\n"
     ]
    },
    {
     "output_type": "stream",
     "name": "stdout",
     "text": [
      "[036/050] Train Acc: 0.751564 Loss: 0.769324 | Val Acc: 0.742056 loss: 0.823866\n",
      "saving model with acc 0.742\n"
     ]
    },
    {
     "output_type": "stream",
     "name": "stderr",
     "text": [
      "100%|██████████| 1034/1034 [01:11<00:00, 14.54it/s]\n",
      "100%|██████████| 258/258 [00:07<00:00, 35.91it/s]\n"
     ]
    },
    {
     "output_type": "stream",
     "name": "stdout",
     "text": [
      "[037/050] Train Acc: 0.753123 Loss: 0.764495 | Val Acc: 0.742301 loss: 0.820816\n",
      "saving model with acc 0.742\n"
     ]
    },
    {
     "output_type": "stream",
     "name": "stderr",
     "text": [
      "100%|██████████| 1034/1034 [01:11<00:00, 14.51it/s]\n",
      "100%|██████████| 258/258 [00:07<00:00, 35.29it/s]\n"
     ]
    },
    {
     "output_type": "stream",
     "name": "stdout",
     "text": [
      "[038/050] Train Acc: 0.754144 Loss: 0.760289 | Val Acc: 0.742775 loss: 0.820797\n",
      "saving model with acc 0.743\n"
     ]
    },
    {
     "output_type": "stream",
     "name": "stderr",
     "text": [
      "100%|██████████| 1034/1034 [01:11<00:00, 14.42it/s]\n",
      "100%|██████████| 258/258 [00:07<00:00, 35.41it/s]\n"
     ]
    },
    {
     "output_type": "stream",
     "name": "stdout",
     "text": [
      "[039/050] Train Acc: 0.755480 Loss: 0.755425 | Val Acc: 0.744546 loss: 0.819657\n",
      "saving model with acc 0.745\n"
     ]
    },
    {
     "output_type": "stream",
     "name": "stderr",
     "text": [
      "100%|██████████| 1034/1034 [01:12<00:00, 14.33it/s]\n",
      "100%|██████████| 258/258 [00:07<00:00, 36.27it/s]\n"
     ]
    },
    {
     "output_type": "stream",
     "name": "stdout",
     "text": [
      "[040/050] Train Acc: 0.756778 Loss: 0.752271 | Val Acc: 0.744000 loss: 0.818197\n"
     ]
    },
    {
     "output_type": "stream",
     "name": "stderr",
     "text": [
      "100%|██████████| 1034/1034 [01:10<00:00, 14.60it/s]\n",
      "100%|██████████| 258/258 [00:07<00:00, 35.69it/s]\n"
     ]
    },
    {
     "output_type": "stream",
     "name": "stdout",
     "text": [
      "[041/050] Train Acc: 0.758017 Loss: 0.747667 | Val Acc: 0.744495 loss: 0.818505\n"
     ]
    },
    {
     "output_type": "stream",
     "name": "stderr",
     "text": [
      "100%|██████████| 1034/1034 [01:10<00:00, 14.58it/s]\n",
      "100%|██████████| 258/258 [00:07<00:00, 35.85it/s]\n"
     ]
    },
    {
     "output_type": "stream",
     "name": "stdout",
     "text": [
      "[042/050] Train Acc: 0.759177 Loss: 0.743810 | Val Acc: 0.743983 loss: 0.820583\n"
     ]
    },
    {
     "output_type": "stream",
     "name": "stderr",
     "text": [
      "100%|██████████| 1034/1034 [01:11<00:00, 14.47it/s]\n",
      "100%|██████████| 258/258 [00:07<00:00, 35.27it/s]\n"
     ]
    },
    {
     "output_type": "stream",
     "name": "stdout",
     "text": [
      "[043/050] Train Acc: 0.760112 Loss: 0.740514 | Val Acc: 0.745143 loss: 0.818409\n",
      "saving model with acc 0.745\n"
     ]
    },
    {
     "output_type": "stream",
     "name": "stderr",
     "text": [
      "100%|██████████| 1034/1034 [01:11<00:00, 14.42it/s]\n",
      "100%|██████████| 258/258 [00:07<00:00, 35.40it/s]\n"
     ]
    },
    {
     "output_type": "stream",
     "name": "stdout",
     "text": [
      "[044/050] Train Acc: 0.761352 Loss: 0.736655 | Val Acc: 0.745327 loss: 0.818900\n",
      "saving model with acc 0.745\n"
     ]
    },
    {
     "output_type": "stream",
     "name": "stderr",
     "text": [
      "100%|██████████| 1034/1034 [01:11<00:00, 14.49it/s]\n",
      "100%|██████████| 258/258 [00:07<00:00, 35.95it/s]\n"
     ]
    },
    {
     "output_type": "stream",
     "name": "stdout",
     "text": [
      "[045/050] Train Acc: 0.762236 Loss: 0.733307 | Val Acc: 0.745410 loss: 0.817484\n",
      "saving model with acc 0.745\n"
     ]
    },
    {
     "output_type": "stream",
     "name": "stderr",
     "text": [
      "100%|██████████| 1034/1034 [01:10<00:00, 14.57it/s]\n",
      "100%|██████████| 258/258 [00:07<00:00, 36.02it/s]\n"
     ]
    },
    {
     "output_type": "stream",
     "name": "stdout",
     "text": [
      "[046/050] Train Acc: 0.763265 Loss: 0.729522 | Val Acc: 0.745592 loss: 0.819037\n",
      "saving model with acc 0.746\n"
     ]
    },
    {
     "output_type": "stream",
     "name": "stderr",
     "text": [
      "100%|██████████| 1034/1034 [01:10<00:00, 14.57it/s]\n",
      "100%|██████████| 258/258 [00:07<00:00, 36.13it/s]\n"
     ]
    },
    {
     "output_type": "stream",
     "name": "stdout",
     "text": [
      "[047/050] Train Acc: 0.764191 Loss: 0.726595 | Val Acc: 0.746513 loss: 0.817195\n",
      "saving model with acc 0.747\n"
     ]
    },
    {
     "output_type": "stream",
     "name": "stderr",
     "text": [
      "100%|██████████| 1034/1034 [01:10<00:00, 14.60it/s]\n",
      "100%|██████████| 258/258 [00:07<00:00, 36.49it/s]\n"
     ]
    },
    {
     "output_type": "stream",
     "name": "stdout",
     "text": [
      "[048/050] Train Acc: 0.764989 Loss: 0.723063 | Val Acc: 0.745819 loss: 0.817024\n"
     ]
    },
    {
     "output_type": "stream",
     "name": "stderr",
     "text": [
      "100%|██████████| 1034/1034 [01:11<00:00, 14.48it/s]\n",
      "100%|██████████| 258/258 [00:07<00:00, 35.65it/s]\n"
     ]
    },
    {
     "output_type": "stream",
     "name": "stdout",
     "text": [
      "[049/050] Train Acc: 0.765842 Loss: 0.719939 | Val Acc: 0.746613 loss: 0.815177\n",
      "saving model with acc 0.747\n"
     ]
    },
    {
     "output_type": "stream",
     "name": "stderr",
     "text": [
      "100%|██████████| 1034/1034 [01:12<00:00, 14.30it/s]\n",
      "100%|██████████| 258/258 [00:07<00:00, 35.82it/s]"
     ]
    },
    {
     "output_type": "stream",
     "name": "stdout",
     "text": [
      "[050/050] Train Acc: 0.766868 Loss: 0.716553 | Val Acc: 0.747326 loss: 0.816198\n",
      "saving model with acc 0.747\n"
     ]
    },
    {
     "output_type": "stream",
     "name": "stderr",
     "text": [
      "\n"
     ]
    }
   ],
   "source": [
    "nbhmgghnbest_acc = 0.0\n",
    "for epoch in range(num_epoch):\n",
    "    train_acc = 0.0\n",
    "    train_loss = 0.0\n",
    "    val_acc = 0.0\n",
    "    val_loss = 0.0\n",
    "    \n",
    "    # training\n",
    "    model.train() # set the model to training mode\n",
    "    for i, batch in enumerate(tqdm(train_loader)):\n",
    "        features, labels = batch\n",
    "        features = features.to(device)\n",
    "        labels = labels.to(device)\n",
    "        \n",
    "        optimizer.zero_grad() \n",
    "        outputs = model(features) \n",
    "        \n",
    "        loss = criterion(outputs, labels)\n",
    "        loss.backward() \n",
    "        optimizer.step() \n",
    "        \n",
    "        _, train_pred = torch.max(outputs, 1) # get the index of the class with the highest probability\n",
    "        train_acc += (train_pred.detach() == labels.detach()).sum().item()\n",
    "        train_loss += loss.item()\n",
    "    \n",
    "    # validation\n",
    "    if len(val_set) > 0:\n",
    "        model.eval() # set the model to evaluation mode\n",
    "        with torch.no_grad():\n",
    "            for i, batch in enumerate(tqdm(val_loader)):\n",
    "                features, labels = batch\n",
    "                features = features.to(device)\n",
    "                labels = labels.to(device)\n",
    "                outputs = model(features)\n",
    "                \n",
    "                loss = criterion(outputs, labels) \n",
    "                \n",
    "                _, val_pred = torch.max(outputs, 1) \n",
    "                val_acc += (val_pred.cpu() == labels.cpu()).sum().item() # get the index of the class with the highest probability\n",
    "                val_loss += loss.item()\n",
    "\n",
    "            print('[{:03d}/{:03d}] Train Acc: {:3.6f} Loss: {:3.6f} | Val Acc: {:3.6f} loss: {:3.6f}'.format(\n",
    "                epoch + 1, num_epoch, train_acc/len(train_set), train_loss/len(train_loader), val_acc/len(val_set), val_loss/len(val_loader)\n",
    "            ))\n",
    "\n",
    "            # if the model improves, save a checkpoint at this epoch\n",
    "            if val_acc > best_acc:\n",
    "                best_acc = val_acc\n",
    "                torch.save(model.state_dict(), model_path)\n",
    "                print('saving model with acc {:.3f}'.format(best_acc/len(val_set)))\n",
    "    else:\n",
    "        print('[{:03d}/{:03d}] Train Acc: {:3.6f} Loss: {:3.6f}'.format(\n",
    "            epoch + 1, num_epoch, train_acc/len(train_set), train_loss/len(train_loader)\n",
    "        ))\n",
    "\n",
    "# if not validating, save the last epoch\n",
    "if len(val_set) == 0:\n",
    "    torch.save(model.state_dict(), model_path)\n",
    "    print('saving model at last epoch')\n"
   ]
  },
  {
   "cell_type": "code",
   "execution_count": 39,
   "metadata": {
    "id": "ab33MxosWLmG",
    "colab": {
     "base_uri": "https://localhost:8080/"
    },
    "outputId": "af765469-e17d-47c8-d527-fb9989f7e3f2",
    "pycharm": {
     "name": "#%%\n"
    }
   },
   "outputs": [
    {
     "output_type": "execute_result",
     "data": {
      "text/plain": [
       "50"
      ]
     },
     "metadata": {},
     "execution_count": 39
    }
   ],
   "source": [
    "del train_loader, val_loader\n",
    "gc.collect()"
   ]
  },
  {
   "cell_type": "markdown",
   "metadata": {
    "id": "1Hi7jTn3PX-m",
    "pycharm": {
     "name": "#%% md\n"
    }
   },
   "source": [
    "## Testing\n",
    "Create a testing dataset, and load model from the saved checkpoint."
   ]
  },
  {
   "cell_type": "code",
   "execution_count": 40,
   "metadata": {
    "id": "VOG1Ou0PGrhc",
    "colab": {
     "base_uri": "https://localhost:8080/"
    },
    "outputId": "d0f904d1-0895-4ddc-fc72-0b55bbc1e2de",
    "pycharm": {
     "name": "#%%\n"
    }
   },
   "outputs": [
    {
     "output_type": "stream",
     "name": "stdout",
     "text": [
      "[Dataset] - # phone classes: 41, number of utterances for test: 1078\n"
     ]
    },
    {
     "output_type": "stream",
     "name": "stderr",
     "text": [
      "1078it [00:02, 398.40it/s]"
     ]
    },
    {
     "output_type": "stream",
     "name": "stdout",
     "text": [
      "[INFO] test set\n",
      "torch.Size([646268, 585])\n"
     ]
    },
    {
     "output_type": "stream",
     "name": "stderr",
     "text": [
      "\n"
     ]
    }
   ],
   "source": [
    "# load data\n",
    "test_X = preprocess_data(split='test', feat_dir='./libriphone/feat', phone_path='./libriphone', concat_nframes=concat_nframes)\n",
    "test_set = LibriDataset(test_X, None)\n",
    "test_loader = DataLoader(test_set, batch_size=batch_size, shuffle=False)"
   ]
  },
  {
   "cell_type": "code",
   "execution_count": 41,
   "metadata": {
    "id": "ay0Fu8Ovkdad",
    "colab": {
     "base_uri": "https://localhost:8080/"
    },
    "outputId": "fcc3b5f5-07e2-49de-9588-28f71ed146ea",
    "pycharm": {
     "name": "#%%\n"
    }
   },
   "outputs": [
    {
     "output_type": "execute_result",
     "data": {
      "text/plain": [
       "<All keys matched successfully>"
      ]
     },
     "metadata": {},
     "execution_count": 41
    }
   ],
   "source": [
    "# load model\n",
    "model = Classifier(input_dim=input_dim, hidden_layers=hidden_layers, hidden_dim=hidden_dim).to(device)\n",
    "model.load_state_dict(torch.load(model_path))"
   ]
  },
  {
   "cell_type": "code",
   "source": [
    "import torchsummary\n",
    "torchsummary.summary(model, input_size=(input_dim,))"
   ],
   "metadata": {
    "colab": {
     "base_uri": "https://localhost:8080/"
    },
    "id": "f9sEKtxnYRKQ",
    "outputId": "24f1b83a-cde4-4ce6-e4ee-27f90d15e350",
    "pycharm": {
     "name": "#%%\n"
    }
   },
   "execution_count": 42,
   "outputs": [
    {
     "output_type": "stream",
     "name": "stdout",
     "text": [
      "----------------------------------------------------------------\n",
      "        Layer (type)               Output Shape         Param #\n",
      "================================================================\n",
      "            Linear-1                 [-1, 1024]         600,064\n",
      "              ReLU-2                 [-1, 1024]               0\n",
      "       BatchNorm1d-3                 [-1, 1024]           2,048\n",
      "           Dropout-4                 [-1, 1024]               0\n",
      "        BasicBlock-5                 [-1, 1024]               0\n",
      "            Linear-6                 [-1, 1024]       1,049,600\n",
      "              ReLU-7                 [-1, 1024]               0\n",
      "       BatchNorm1d-8                 [-1, 1024]           2,048\n",
      "           Dropout-9                 [-1, 1024]               0\n",
      "       BasicBlock-10                 [-1, 1024]               0\n",
      "           Linear-11                 [-1, 1024]       1,049,600\n",
      "             ReLU-12                 [-1, 1024]               0\n",
      "      BatchNorm1d-13                 [-1, 1024]           2,048\n",
      "          Dropout-14                 [-1, 1024]               0\n",
      "       BasicBlock-15                 [-1, 1024]               0\n",
      "           Linear-16                 [-1, 1024]       1,049,600\n",
      "             ReLU-17                 [-1, 1024]               0\n",
      "      BatchNorm1d-18                 [-1, 1024]           2,048\n",
      "          Dropout-19                 [-1, 1024]               0\n",
      "       BasicBlock-20                 [-1, 1024]               0\n",
      "           Linear-21                 [-1, 1024]       1,049,600\n",
      "             ReLU-22                 [-1, 1024]               0\n",
      "      BatchNorm1d-23                 [-1, 1024]           2,048\n",
      "          Dropout-24                 [-1, 1024]               0\n",
      "       BasicBlock-25                 [-1, 1024]               0\n",
      "           Linear-26                 [-1, 1024]       1,049,600\n",
      "             ReLU-27                 [-1, 1024]               0\n",
      "      BatchNorm1d-28                 [-1, 1024]           2,048\n",
      "          Dropout-29                 [-1, 1024]               0\n",
      "       BasicBlock-30                 [-1, 1024]               0\n",
      "           Linear-31                 [-1, 1024]       1,049,600\n",
      "             ReLU-32                 [-1, 1024]               0\n",
      "      BatchNorm1d-33                 [-1, 1024]           2,048\n",
      "          Dropout-34                 [-1, 1024]               0\n",
      "       BasicBlock-35                 [-1, 1024]               0\n",
      "           Linear-36                 [-1, 1024]       1,049,600\n",
      "             ReLU-37                 [-1, 1024]               0\n",
      "      BatchNorm1d-38                 [-1, 1024]           2,048\n",
      "          Dropout-39                 [-1, 1024]               0\n",
      "       BasicBlock-40                 [-1, 1024]               0\n",
      "           Linear-41                 [-1, 1024]       1,049,600\n",
      "             ReLU-42                 [-1, 1024]               0\n",
      "      BatchNorm1d-43                 [-1, 1024]           2,048\n",
      "          Dropout-44                 [-1, 1024]               0\n",
      "       BasicBlock-45                 [-1, 1024]               0\n",
      "           Linear-46                 [-1, 1024]       1,049,600\n",
      "             ReLU-47                 [-1, 1024]               0\n",
      "      BatchNorm1d-48                 [-1, 1024]           2,048\n",
      "          Dropout-49                 [-1, 1024]               0\n",
      "       BasicBlock-50                 [-1, 1024]               0\n",
      "           Linear-51                 [-1, 1024]       1,049,600\n",
      "             ReLU-52                 [-1, 1024]               0\n",
      "      BatchNorm1d-53                 [-1, 1024]           2,048\n",
      "          Dropout-54                 [-1, 1024]               0\n",
      "       BasicBlock-55                 [-1, 1024]               0\n",
      "           Linear-56                 [-1, 1024]       1,049,600\n",
      "             ReLU-57                 [-1, 1024]               0\n",
      "      BatchNorm1d-58                 [-1, 1024]           2,048\n",
      "          Dropout-59                 [-1, 1024]               0\n",
      "       BasicBlock-60                 [-1, 1024]               0\n",
      "           Linear-61                 [-1, 1024]       1,049,600\n",
      "             ReLU-62                 [-1, 1024]               0\n",
      "      BatchNorm1d-63                 [-1, 1024]           2,048\n",
      "          Dropout-64                 [-1, 1024]               0\n",
      "       BasicBlock-65                 [-1, 1024]               0\n",
      "           Linear-66                   [-1, 41]          42,025\n",
      "================================================================\n",
      "Total params: 13,263,913\n",
      "Trainable params: 13,263,913\n",
      "Non-trainable params: 0\n",
      "----------------------------------------------------------------\n",
      "Input size (MB): 0.00\n",
      "Forward/backward pass size (MB): 0.51\n",
      "Params size (MB): 50.60\n",
      "Estimated Total Size (MB): 51.11\n",
      "----------------------------------------------------------------\n"
     ]
    }
   ]
  },
  {
   "cell_type": "markdown",
   "metadata": {
    "id": "zp-DV1p4r7Nz",
    "pycharm": {
     "name": "#%% md\n"
    }
   },
   "source": [
    "Make prediction."
   ]
  },
  {
   "cell_type": "code",
   "execution_count": 43,
   "metadata": {
    "id": "84HU5GGjPqR0",
    "colab": {
     "base_uri": "https://localhost:8080/"
    },
    "outputId": "5b2a5147-ac41-45bd-f6bf-56a990833ad3",
    "pycharm": {
     "name": "#%%\n"
    }
   },
   "outputs": [
    {
     "output_type": "stream",
     "name": "stderr",
     "text": [
      "100%|██████████| 316/316 [00:06<00:00, 46.85it/s]\n"
     ]
    }
   ],
   "source": [
    "test_acc = 0.0\n",
    "test_lengths = 0\n",
    "pred = np.array([], dtype=np.int32)\n",
    "\n",
    "model.eval()\n",
    "with torch.no_grad():\n",
    "    for i, batch in enumerate(tqdm(test_loader)):\n",
    "        features = batch\n",
    "        features = features.to(device)\n",
    "\n",
    "        outputs = model(features)\n",
    "\n",
    "        _, test_pred = torch.max(outputs, 1) # get the index of the class with the highest probability\n",
    "        pred = np.concatenate((pred, test_pred.cpu().numpy()), axis=0)\n"
   ]
  },
  {
   "cell_type": "markdown",
   "metadata": {
    "id": "wyZqy40Prz0v",
    "pycharm": {
     "name": "#%% md\n"
    }
   },
   "source": [
    "Write prediction to a CSV file.\n",
    "\n",
    "After finish running this block, download the file `prediction.csv` from the files section on the left-hand side and submit it to Kaggle."
   ]
  },
  {
   "cell_type": "code",
   "execution_count": 44,
   "metadata": {
    "id": "GuljYSPHcZir",
    "pycharm": {
     "name": "#%%\n"
    }
   },
   "outputs": [],
   "source": [
    "with open('prediction.csv', 'w') as f:\n",
    "    f.write('Id,Class\\n')\n",
    "    for i, y in enumerate(pred):\n",
    "        f.write('{},{}\\n'.format(i, y))"
   ]
  }
 ],
 "metadata": {
  "accelerator": "GPU",
  "colab": {
   "collapsed_sections": [],
   "name": "“ML2022Spring - .ipynb”的副本",
   "provenance": []
  },
  "kernelspec": {
   "display_name": "Python 3",
   "name": "python3"
  }
 },
 "nbformat": 4,
 "nbformat_minor": 0
}