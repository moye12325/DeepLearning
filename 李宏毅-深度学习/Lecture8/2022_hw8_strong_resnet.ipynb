{
 "cells": [
  {
   "cell_type": "markdown",
   "id": "b806f6bf",
   "metadata": {
    "id": "b806f6bf",
    "papermill": {
     "duration": 0.007933,
     "end_time": "2022-05-27T09:49:46.668292",
     "exception": false,
     "start_time": "2022-05-27T09:49:46.660359",
     "status": "completed"
    },
    "tags": [],
    "pycharm": {
     "name": "#%% md\n"
    }
   },
   "source": [
    "# **Homework 8 - Anomaly Detection**\n",
    "\n",
    "If there are any questions, please contact mlta-2022spring-ta@googlegroups.com\n",
    "\n",
    "Slide:    [Link]()　Kaggle: [Link](https://www.kaggle.com/c/ml2022spring-hw8)"
   ]
  },
  {
   "cell_type": "markdown",
   "id": "c4630dcb",
   "metadata": {
    "id": "c4630dcb",
    "papermill": {
     "duration": 0.006349,
     "end_time": "2022-05-27T09:49:46.681373",
     "exception": false,
     "start_time": "2022-05-27T09:49:46.675024",
     "status": "completed"
    },
    "tags": [],
    "pycharm": {
     "name": "#%% md\n"
    }
   },
   "source": [
    "# Set up the environment\n"
   ]
  },
  {
   "cell_type": "markdown",
   "id": "b39b0248",
   "metadata": {
    "id": "b39b0248",
    "papermill": {
     "duration": 0.006263,
     "end_time": "2022-05-27T09:49:46.694153",
     "exception": false,
     "start_time": "2022-05-27T09:49:46.687890",
     "status": "completed"
    },
    "tags": [],
    "pycharm": {
     "name": "#%% md\n"
    }
   },
   "source": [
    "## Package installation"
   ]
  },
  {
   "cell_type": "code",
   "execution_count": 4,
   "id": "ab7b199f",
   "metadata": {
    "execution": {
     "iopub.execute_input": "2022-05-27T09:49:46.709184Z",
     "iopub.status.busy": "2022-05-27T09:49:46.708491Z",
     "iopub.status.idle": "2022-05-27T09:49:47.406629Z",
     "shell.execute_reply": "2022-05-27T09:49:47.405717Z"
    },
    "id": "ab7b199f",
    "outputId": "3026ce79-b83e-4f6d-8f2b-c3c03c58597d",
    "papermill": {
     "duration": 0.707932,
     "end_time": "2022-05-27T09:49:47.408652",
     "exception": false,
     "start_time": "2022-05-27T09:49:46.700720",
     "status": "completed"
    },
    "tags": [],
    "colab": {
     "base_uri": "https://localhost:8080/"
    },
    "pycharm": {
     "name": "#%%\n"
    }
   },
   "outputs": [
    {
     "output_type": "stream",
     "name": "stdout",
     "text": [
      "Thu Aug  4 08:12:01 2022       \n",
      "+-----------------------------------------------------------------------------+\n",
      "| NVIDIA-SMI 460.32.03    Driver Version: 460.32.03    CUDA Version: 11.2     |\n",
      "|-------------------------------+----------------------+----------------------+\n",
      "| GPU  Name        Persistence-M| Bus-Id        Disp.A | Volatile Uncorr. ECC |\n",
      "| Fan  Temp  Perf  Pwr:Usage/Cap|         Memory-Usage | GPU-Util  Compute M. |\n",
      "|                               |                      |               MIG M. |\n",
      "|===============================+======================+======================|\n",
      "|   0  Tesla T4            Off  | 00000000:00:04.0 Off |                    0 |\n",
      "| N/A   43C    P8     9W /  70W |      3MiB / 15109MiB |      0%      Default |\n",
      "|                               |                      |                  N/A |\n",
      "+-------------------------------+----------------------+----------------------+\n",
      "                                                                               \n",
      "+-----------------------------------------------------------------------------+\n",
      "| Processes:                                                                  |\n",
      "|  GPU   GI   CI        PID   Type   Process name                  GPU Memory |\n",
      "|        ID   ID                                                   Usage      |\n",
      "|=============================================================================|\n",
      "|  No running processes found                                                 |\n",
      "+-----------------------------------------------------------------------------+\n"
     ]
    }
   ],
   "source": [
    "!nvidia-smi"
   ]
  },
  {
   "cell_type": "code",
   "execution_count": 5,
   "id": "32051b1a",
   "metadata": {
    "execution": {
     "iopub.execute_input": "2022-05-27T09:49:47.423761Z",
     "iopub.status.busy": "2022-05-27T09:49:47.423315Z",
     "iopub.status.idle": "2022-05-27T09:50:01.237730Z",
     "shell.execute_reply": "2022-05-27T09:50:01.236637Z"
    },
    "id": "32051b1a",
    "outputId": "763e1aba-df79-40c3-820f-c459e52f1867",
    "papermill": {
     "duration": 13.824576,
     "end_time": "2022-05-27T09:50:01.240257",
     "exception": false,
     "start_time": "2022-05-27T09:49:47.415681",
     "status": "completed"
    },
    "tags": [],
    "colab": {
     "base_uri": "https://localhost:8080/"
    },
    "pycharm": {
     "name": "#%%\n"
    }
   },
   "outputs": [
    {
     "output_type": "stream",
     "name": "stdout",
     "text": [
      "  Building wheel for qqdm (setup.py) ... \u001B[?25l\u001B[?25hdone\n",
      "Downloading ml2022spring-hw8.zip to /content\n",
      " 98% 1.12G/1.14G [00:04<00:00, 229MB/s]\n",
      "100% 1.14G/1.14G [00:04<00:00, 271MB/s]\n",
      "Archive:  data.zip\n",
      "  inflating: data/testingset.npy     \n",
      "  inflating: data/trainingset.npy    \n"
     ]
    }
   ],
   "source": [
    "# Training progress bar\n",
    "!pip install -q qqdm\n",
    "\n",
    "!pip install -U -q kaggle\n",
    "!mkdir -p ~/.kaggle\n",
    "!echo '{\"username\":\"qqzj123\",\"key\":\"a28c73d2daa5bfdc6d7c7bb19959019a\"}' > ~/.kaggle/kaggle.json \n",
    "#这个{\"username\":\"abc\",\"key\":\"123\"}替换成自己的token文件内容\n",
    "!chmod 600 ~/.kaggle/kaggle.json\n",
    "!kaggle competitions download -c ml2022spring-hw8\n",
    "\n",
    "import os\n",
    "os.rename('ml2022spring-hw8.zip','data.zip')\n",
    "! unzip -o data.zip"
   ]
  },
  {
   "cell_type": "markdown",
   "id": "c6375c8c",
   "metadata": {
    "id": "c6375c8c",
    "papermill": {
     "duration": 0.006688,
     "end_time": "2022-05-27T09:50:01.330607",
     "exception": false,
     "start_time": "2022-05-27T09:50:01.323919",
     "status": "completed"
    },
    "tags": [],
    "pycharm": {
     "name": "#%% md\n"
    }
   },
   "source": [
    "# Import packages"
   ]
  },
  {
   "cell_type": "code",
   "execution_count": 6,
   "id": "4539ef7a",
   "metadata": {
    "execution": {
     "iopub.execute_input": "2022-05-27T09:50:01.345157Z",
     "iopub.status.busy": "2022-05-27T09:50:01.344890Z",
     "iopub.status.idle": "2022-05-27T09:50:03.420098Z",
     "shell.execute_reply": "2022-05-27T09:50:03.419295Z"
    },
    "id": "4539ef7a",
    "papermill": {
     "duration": 2.084787,
     "end_time": "2022-05-27T09:50:03.422136",
     "exception": false,
     "start_time": "2022-05-27T09:50:01.337349",
     "status": "completed"
    },
    "tags": [],
    "pycharm": {
     "name": "#%%\n"
    }
   },
   "outputs": [],
   "source": [
    "import random\n",
    "import numpy as np\n",
    "import torch\n",
    "from torch import nn\n",
    "from torch.utils.data import DataLoader, RandomSampler, SequentialSampler, TensorDataset\n",
    "import torchvision.transforms as transforms\n",
    "import torch.nn.functional as F\n",
    "from torch.autograd import Variable\n",
    "import torchvision.models as models\n",
    "from torch.optim import Adam, AdamW\n",
    "from qqdm import qqdm, format_str\n",
    "import pandas as pd"
   ]
  },
  {
   "cell_type": "markdown",
   "id": "995981b7",
   "metadata": {
    "id": "995981b7",
    "papermill": {
     "duration": 0.006611,
     "end_time": "2022-05-27T09:50:03.435797",
     "exception": false,
     "start_time": "2022-05-27T09:50:03.429186",
     "status": "completed"
    },
    "tags": [],
    "pycharm": {
     "name": "#%% md\n"
    }
   },
   "source": [
    "# Loading data"
   ]
  },
  {
   "cell_type": "code",
   "execution_count": 8,
   "id": "68924bf9",
   "metadata": {
    "execution": {
     "iopub.execute_input": "2022-05-27T09:50:03.450969Z",
     "iopub.status.busy": "2022-05-27T09:50:03.450177Z",
     "iopub.status.idle": "2022-05-27T09:50:19.878183Z",
     "shell.execute_reply": "2022-05-27T09:50:19.877060Z"
    },
    "id": "68924bf9",
    "outputId": "9b4f368b-e9bd-4ea5-e4f2-079e00dbb827",
    "papermill": {
     "duration": 16.437715,
     "end_time": "2022-05-27T09:50:19.880174",
     "exception": false,
     "start_time": "2022-05-27T09:50:03.442459",
     "status": "completed"
    },
    "tags": [],
    "colab": {
     "base_uri": "https://localhost:8080/"
    },
    "pycharm": {
     "name": "#%%\n"
    }
   },
   "outputs": [
    {
     "output_type": "stream",
     "name": "stdout",
     "text": [
      "(100000, 64, 64, 3)\n",
      "(19636, 64, 64, 3)\n"
     ]
    }
   ],
   "source": [
    "\n",
    "train = np.load('./data/trainingset.npy', allow_pickle=True)\n",
    "test = np.load('./data/testingset.npy', allow_pickle=True)\n",
    "\n",
    "print(train.shape)\n",
    "print(test.shape)"
   ]
  },
  {
   "cell_type": "markdown",
   "id": "1a96b90b",
   "metadata": {
    "id": "1a96b90b",
    "papermill": {
     "duration": 0.00676,
     "end_time": "2022-05-27T09:50:19.894181",
     "exception": false,
     "start_time": "2022-05-27T09:50:19.887421",
     "status": "completed"
    },
    "tags": [],
    "pycharm": {
     "name": "#%% md\n"
    }
   },
   "source": [
    "## Random seed\n",
    "Set the random seed to a certain value for reproducibility."
   ]
  },
  {
   "cell_type": "code",
   "execution_count": 9,
   "id": "f93df36c",
   "metadata": {
    "execution": {
     "iopub.execute_input": "2022-05-27T09:50:19.908959Z",
     "iopub.status.busy": "2022-05-27T09:50:19.908639Z",
     "iopub.status.idle": "2022-05-27T09:50:19.966515Z",
     "shell.execute_reply": "2022-05-27T09:50:19.965743Z"
    },
    "id": "f93df36c",
    "papermill": {
     "duration": 0.067305,
     "end_time": "2022-05-27T09:50:19.968273",
     "exception": false,
     "start_time": "2022-05-27T09:50:19.900968",
     "status": "completed"
    },
    "tags": [],
    "pycharm": {
     "name": "#%%\n"
    }
   },
   "outputs": [],
   "source": [
    "def same_seeds(seed):\n",
    "    random.seed(seed)\n",
    "    np.random.seed(seed)\n",
    "    torch.manual_seed(seed)\n",
    "    if torch.cuda.is_available():\n",
    "        torch.cuda.manual_seed(seed)\n",
    "        torch.cuda.manual_seed_all(seed)\n",
    "    torch.backends.cudnn.benchmark = False\n",
    "    torch.backends.cudnn.deterministic = True\n",
    "\n",
    "same_seeds(48763)"
   ]
  },
  {
   "cell_type": "markdown",
   "id": "acc5a7c5",
   "metadata": {
    "id": "acc5a7c5",
    "papermill": {
     "duration": 0.006592,
     "end_time": "2022-05-27T09:50:19.982074",
     "exception": false,
     "start_time": "2022-05-27T09:50:19.975482",
     "status": "completed"
    },
    "tags": [],
    "pycharm": {
     "name": "#%% md\n"
    }
   },
   "source": [
    "# Autoencoder"
   ]
  },
  {
   "cell_type": "markdown",
   "id": "38faf967",
   "metadata": {
    "id": "38faf967",
    "papermill": {
     "duration": 0.00671,
     "end_time": "2022-05-27T09:50:19.995562",
     "exception": false,
     "start_time": "2022-05-27T09:50:19.988852",
     "status": "completed"
    },
    "tags": [],
    "pycharm": {
     "name": "#%% md\n"
    }
   },
   "source": [
    "# Models & loss"
   ]
  },
  {
   "cell_type": "code",
   "execution_count": 10,
   "id": "c4346cb8",
   "metadata": {
    "execution": {
     "iopub.execute_input": "2022-05-27T09:50:20.010535Z",
     "iopub.status.busy": "2022-05-27T09:50:20.010026Z",
     "iopub.status.idle": "2022-05-27T09:50:20.044437Z",
     "shell.execute_reply": "2022-05-27T09:50:20.043738Z"
    },
    "id": "c4346cb8",
    "papermill": {
     "duration": 0.04377,
     "end_time": "2022-05-27T09:50:20.046074",
     "exception": false,
     "start_time": "2022-05-27T09:50:20.002304",
     "status": "completed"
    },
    "tags": [],
    "pycharm": {
     "name": "#%%\n"
    }
   },
   "outputs": [],
   "source": [
    "class fcn_autoencoder(nn.Module):\n",
    "    def __init__(self):\n",
    "        super(fcn_autoencoder, self).__init__()\n",
    "        self.encoder = nn.Sequential(\n",
    "            nn.Linear(64 * 64 * 3, 1024),\n",
    "            nn.ReLU(),\n",
    "            nn.Linear(1024, 256),\n",
    "            nn.ReLU(), \n",
    "            nn.Linear(256, 64), \n",
    "            nn.ReLU(), \n",
    "            nn.Linear(64, 10)\n",
    "        )\n",
    "        \n",
    "        self.decoder = nn.Sequential(\n",
    "            nn.Linear(10, 64),\n",
    "            nn.ReLU(), \n",
    "            nn.Linear(64, 256),\n",
    "            nn.ReLU(),\n",
    "            nn.Linear(256, 1024),\n",
    "            nn.ReLU(), \n",
    "            nn.Linear(1024, 64 * 64 * 3), \n",
    "            nn.Tanh()\n",
    "        )\n",
    "\n",
    "    def forward(self, x):\n",
    "        x = self.encoder(x)\n",
    "        x = self.decoder(x)\n",
    "        return x\n",
    "\n",
    "class conv_autoencoder(nn.Module):\n",
    "    def __init__(self):\n",
    "        super(conv_autoencoder, self).__init__()\n",
    "        self.encoder = nn.Sequential(\n",
    "            nn.Conv2d(3, 24, 4, stride=2, padding=1),\n",
    "            nn.BatchNorm2d(24),\n",
    "            nn.ReLU(),\n",
    "            nn.Conv2d(24, 24, 4, stride=2, padding=1),\n",
    "            nn.BatchNorm2d(24),\n",
    "            nn.ReLU(),\n",
    "            nn.Conv2d(24, 48, 4, stride=2, padding=1),\n",
    "            nn.BatchNorm2d(48),\n",
    "            nn.ReLU(),\n",
    "            nn.Conv2d(48, 96, 4, stride=2, padding=1),\n",
    "            nn.BatchNorm2d(96),\n",
    "            nn.ReLU(),\n",
    "            nn.Flatten(),\n",
    "            nn.Dropout(0.2),\n",
    "            nn.Linear(96*4*4, 128),\n",
    "            nn.BatchNorm1d(128),\n",
    "            nn.Dropout(0.2),\n",
    "            nn.Linear(128, 10),\n",
    "            nn.BatchNorm1d(10),\n",
    "            nn.ReLU()\n",
    "        )\n",
    "        self.decoder = nn.Sequential(\n",
    "            nn.Linear(10, 128),\n",
    "            nn.BatchNorm1d(128),\n",
    "            nn.ReLU(),\n",
    "            nn.Linear(128, 96*4*4),\n",
    "            nn.BatchNorm1d(96*4*4),\n",
    "            nn.ReLU(),\n",
    "            nn.Unflatten(1, (96, 4, 4)),\n",
    "            nn.ConvTranspose2d(96, 48, 4, stride=2, padding=1),\n",
    "            nn.BatchNorm2d(48),\n",
    "            nn.ReLU(),\n",
    "            nn.ConvTranspose2d(48, 24, 4, stride=2, padding=1),\n",
    "            nn.BatchNorm2d(24),\n",
    "            nn.ReLU(),\n",
    "            nn.ConvTranspose2d(24, 12, 4, stride=2, padding=1),\n",
    "            nn.BatchNorm2d(12),\n",
    "            nn.ReLU(),\n",
    "            nn.ConvTranspose2d(12, 3, 4, stride=2, padding=1),\n",
    "            nn.Tanh(),\n",
    "        )\n",
    "\n",
    "    def forward(self, x):\n",
    "        x = self.encoder(x)\n",
    "        x = self.decoder(x)\n",
    "        return x     \n",
    "\n",
    "\n",
    "\n",
    "class VAE(nn.Module):\n",
    "    def __init__(self):\n",
    "        super(VAE, self).__init__()\n",
    "        self.encoder = nn.Sequential(\n",
    "            nn.Conv2d(3, 32, 4, stride=2, padding=1), \n",
    "            nn.BatchNorm2d(32),\n",
    "            nn.ReLU(),\n",
    "            nn.Conv2d(32, 64, 4, stride=2, padding=1),\n",
    "            nn.BatchNorm2d(64),\n",
    "            nn.ReLU(),\n",
    "            nn.Conv2d(64, 64, 4, stride=2, padding=1),\n",
    "            nn.BatchNorm2d(64),\n",
    "            nn.ReLU(),\n",
    "            nn.Conv2d(64, 64, 4, stride=2, padding=1),\n",
    "            nn.BatchNorm2d(64),\n",
    "            nn.ReLU(),\n",
    "            nn.Flatten()\n",
    "        )\n",
    "        self.enc_out_1 = nn.Sequential(\n",
    "            nn.Dropout(0.2),\n",
    "            nn.Linear(64*4*4, 128),\n",
    "            #nn.BatchNorm1d(128),\n",
    "            nn.ReLU(),\n",
    "            \n",
    "            nn.Dropout(0.2),\n",
    "            nn.Linear(128, 10),\n",
    "            #nn.BatchNorm1d(10),\n",
    "            nn.ReLU()\n",
    "        )\n",
    "        self.enc_out_2 = nn.Sequential(\n",
    "            #nn.Conv2d(48, 12, 4, stride=2, padding=1),\n",
    "            #nn.ReLU(),\n",
    "            nn.Dropout(0.2),\n",
    "            nn.Linear(64*4*4, 128),\n",
    "            #nn.BatchNorm1d(128),\n",
    "            nn.ReLU(),\n",
    "            \n",
    "            nn.Dropout(0.2),\n",
    "            nn.Linear(128, 10),\n",
    "            #nn.BatchNorm1d(10),\n",
    "            nn.ReLU()\n",
    "        )\n",
    "\n",
    "        self.decoder = nn.Sequential(\n",
    "            nn.Linear(10, 128),\n",
    "            nn.BatchNorm1d(128),\n",
    "            nn.ReLU(),\n",
    "            nn.Linear(128, 32*4*4),\n",
    "            nn.BatchNorm1d(32*4*4),\n",
    "            nn.ReLU(),\n",
    "            nn.Unflatten(1, (32, 4, 4)),\n",
    "            nn.ConvTranspose2d(32, 64, 4, stride=2, padding=1),\n",
    "            nn.BatchNorm2d(64),\n",
    "            nn.ReLU(),\n",
    "            nn.ConvTranspose2d(64, 64, 4, stride=2, padding=1),\n",
    "            nn.BatchNorm2d(64),\n",
    "            nn.ReLU(),\n",
    "            nn.ConvTranspose2d(64, 32, 4, stride=2, padding=1), \n",
    "            nn.BatchNorm2d(32),\n",
    "            nn.ReLU(),\n",
    "            nn.ConvTranspose2d(32, 3, 4, stride=2, padding=1),\n",
    "            nn.Tanh(),\n",
    "        )\n",
    "\n",
    "    def encode(self, x):\n",
    "        h1 = self.encoder(x)\n",
    "        return self.enc_out_1(h1), self.enc_out_2(h1)\n",
    "\n",
    "    def reparametrize(self, mu, logvar):\n",
    "        std = logvar.mul(0.5).exp_()\n",
    "        if torch.cuda.is_available():\n",
    "            eps = torch.cuda.FloatTensor(std.size()).normal_()\n",
    "        else:\n",
    "            eps = torch.FloatTensor(std.size()).normal_()\n",
    "        eps = Variable(eps)\n",
    "        return eps.mul(std).add_(mu)\n",
    "\n",
    "    def decode(self, z):\n",
    "        return self.decoder(z)\n",
    "\n",
    "    def forward(self, x):\n",
    "        mu, logvar = self.encode(x)\n",
    "        z = self.reparametrize(mu, logvar)\n",
    "        return self.decode(z), mu, logvar\n",
    "\n",
    "\n",
    "def loss_vae(recon_x, x, mu, logvar, criterion):\n",
    "    \"\"\"\n",
    "    recon_x: generating images\n",
    "    x: origin images\n",
    "    mu: latent mean\n",
    "    logvar: latent log variance\n",
    "    \"\"\"\n",
    "    mse = criterion(recon_x, x)\n",
    "    KLD_element = mu.pow(2).add_(logvar.exp()).mul_(-1).add_(1).add_(logvar)\n",
    "    KLD = torch.sum(KLD_element).mul_(-0.5)\n",
    "    return mse + KLD"
   ]
  },
  {
   "cell_type": "code",
   "execution_count": 11,
   "id": "a49b61d3",
   "metadata": {
    "execution": {
     "iopub.execute_input": "2022-05-27T09:50:20.060799Z",
     "iopub.status.busy": "2022-05-27T09:50:20.060411Z",
     "iopub.status.idle": "2022-05-27T09:50:20.076343Z",
     "shell.execute_reply": "2022-05-27T09:50:20.075694Z"
    },
    "id": "a49b61d3",
    "papermill": {
     "duration": 0.025423,
     "end_time": "2022-05-27T09:50:20.078056",
     "exception": false,
     "start_time": "2022-05-27T09:50:20.052633",
     "status": "completed"
    },
    "tags": [],
    "pycharm": {
     "name": "#%%\n"
    }
   },
   "outputs": [],
   "source": [
    "class ensemble(nn.Module):\n",
    "    def __init__(self):\n",
    "        super().__init__()\n",
    "        self.encoder_1 = nn.Sequential(\n",
    "            nn.Flatten(),\n",
    "            nn.Linear(64 * 64 * 3, 1024),\n",
    "            nn.BatchNorm1d(1024),\n",
    "            nn.ReLU(),\n",
    "            nn.Dropout(0.2),\n",
    "            nn.Linear(1024, 256),\n",
    "            nn.BatchNorm1d(256),\n",
    "            nn.ReLU(), \n",
    "            nn.Dropout(0.2),\n",
    "            nn.Linear(256, 64), \n",
    "            nn.BatchNorm1d(64),\n",
    "            nn.ReLU(), \n",
    "        )\n",
    "        \n",
    "        self.encoder_2 = nn.Sequential(\n",
    "            nn.Conv2d(3, 128, 4, stride=2, padding=1),\n",
    "            nn.BatchNorm2d(128),\n",
    "            nn.ReLU(),\n",
    "            nn.Conv2d(128, 256, 4, stride=2, padding=1),\n",
    "            nn.BatchNorm2d(256),\n",
    "            nn.ReLU(),\n",
    "            nn.Conv2d(256, 256, 4, stride=2, padding=1),\n",
    "            nn.BatchNorm2d(256),\n",
    "            nn.ReLU(),\n",
    "            nn.Conv2d(256, 128, 4, stride=2, padding=1),\n",
    "            nn.BatchNorm2d(128),\n",
    "            nn.ReLU(),\n",
    "            nn.Flatten(),\n",
    "            nn.Dropout(0.2),\n",
    "            nn.Linear(128*4*4, 128),\n",
    "            nn.BatchNorm1d(128),\n",
    "            nn.ReLU(),\n",
    "        )\n",
    "        \n",
    "        self.decoder = nn.Sequential(\n",
    "                nn.Linear(192, 128*4*4),\n",
    "                nn.BatchNorm1d(128*4*4),\n",
    "                nn.ReLU(),\n",
    "                nn.Unflatten(1, (128, 4, 4)),\n",
    "                nn.ConvTranspose2d(128, 256, 4, stride=2, padding=1),\n",
    "                nn.BatchNorm2d(256),\n",
    "                nn.ReLU(),\n",
    "                nn.ConvTranspose2d(256, 256, 4, stride=2, padding=1),\n",
    "                nn.BatchNorm2d(256),\n",
    "                nn.ReLU(),\n",
    "                nn.ConvTranspose2d(256, 128, 4, stride=2, padding=1),\n",
    "                nn.BatchNorm2d(128),\n",
    "                nn.ReLU(),\n",
    "                nn.ConvTranspose2d(128, 3, 4, stride=2, padding=1),\n",
    "                nn.Tanh(),\n",
    "        )\n",
    "        \n",
    "    def encoder(self, x):\n",
    "        x1 = self.encoder_1(x)\n",
    "        x2 = self.encoder_2(x)\n",
    "        return torch.cat((x1, x2), 1)\n",
    "        \n",
    "    def forward(self, x):\n",
    "        x = self.encoder(x)\n",
    "        x = self.decoder(x)\n",
    "        return x"
   ]
  },
  {
   "cell_type": "code",
   "execution_count": 12,
   "id": "aa6b0637",
   "metadata": {
    "execution": {
     "iopub.execute_input": "2022-05-27T09:50:20.092812Z",
     "iopub.status.busy": "2022-05-27T09:50:20.092546Z",
     "iopub.status.idle": "2022-05-27T09:50:20.112510Z",
     "shell.execute_reply": "2022-05-27T09:50:20.111730Z"
    },
    "id": "aa6b0637",
    "papermill": {
     "duration": 0.029588,
     "end_time": "2022-05-27T09:50:20.114408",
     "exception": false,
     "start_time": "2022-05-27T09:50:20.084820",
     "status": "completed"
    },
    "tags": [],
    "pycharm": {
     "name": "#%%\n"
    }
   },
   "outputs": [],
   "source": [
    "class Residual_Block(nn.Module):\n",
    "    def __init__(self, ic, oc, stride=1):\n",
    "        super().__init__()\n",
    "        self.conv1 = nn.Sequential(\n",
    "            nn.Conv2d(ic, oc, kernel_size=3, stride=stride, padding=1),\n",
    "            nn.BatchNorm2d(oc),\n",
    "            nn.ReLU(inplace=True)\n",
    "        )\n",
    "        \n",
    "        self.conv2 = nn.Sequential(\n",
    "            nn.Conv2d(oc, oc, kernel_size=3, stride=1, padding=1),\n",
    "            nn.BatchNorm2d(oc),\n",
    "        )\n",
    "        \n",
    "        self.relu = nn.ReLU(inplace=True)\n",
    "    \n",
    "        self.downsample = None\n",
    "        if stride != 1 or (ic != oc):\n",
    "            self.downsample = nn.Sequential(\n",
    "                nn.Conv2d(ic, oc, kernel_size=1, stride=stride),\n",
    "                nn.BatchNorm2d(oc),\n",
    "            )\n",
    "        \n",
    "    def forward(self, x):\n",
    "        residual = x\n",
    "        out = self.conv1(x)\n",
    "        out = self.conv2(out)\n",
    "        \n",
    "        if self.downsample:\n",
    "            residual = self.downsample(x)\n",
    "            \n",
    "        out += residual\n",
    "        return self.relu(out)\n",
    "    \n",
    "class ResNet(nn.Module):\n",
    "    def __init__(self, block=Residual_Block, num_layers=[2, 1, 1, 1]):\n",
    "        super().__init__()\n",
    "        self.preconv = nn.Sequential(\n",
    "            nn.Conv2d(3, 32, kernel_size=3, stride=1, padding=1, bias=False),\n",
    "            nn.BatchNorm2d(32),\n",
    "            nn.ReLU(inplace=True),\n",
    "        )\n",
    "        self.layer0 = self.make_residual(block, 32, 64,  num_layers[0], stride=2)\n",
    "        self.layer1 = self.make_residual(block, 64, 128, num_layers[1], stride=2)\n",
    "        self.layer2 = self.make_residual(block, 128, 128, num_layers[2], stride=2)\n",
    "        self.layer3 = self.make_residual(block, 128, 64, num_layers[3], stride=2)\n",
    "        \n",
    "        self.fc = nn.Sequential(\n",
    "            nn.Flatten(),\n",
    "            nn.Dropout(0.2),\n",
    "            nn.Linear(64*4*4, 64),\n",
    "            nn.BatchNorm1d(64),\n",
    "            nn.ReLU(inplace=True),\n",
    "        )\n",
    "        \n",
    "        self.decoder = nn.Sequential(\n",
    "            nn.Linear(64, 64*4*4),\n",
    "            nn.BatchNorm1d(64*4*4),\n",
    "            nn.ReLU(),\n",
    "            nn.Unflatten(1, (64, 4, 4)),\n",
    "            nn.ConvTranspose2d(64, 128, 4, stride=2, padding=1),\n",
    "            nn.BatchNorm2d(128),\n",
    "            nn.ReLU(),\n",
    "            nn.ConvTranspose2d(128, 128, 4, stride=2, padding=1),\n",
    "            nn.BatchNorm2d(128),\n",
    "            nn.ReLU(),\n",
    "            nn.ConvTranspose2d(128, 128, 4, stride=2, padding=1),\n",
    "            nn.BatchNorm2d(128),\n",
    "            nn.ReLU(),\n",
    "            nn.ConvTranspose2d(128, 3, 4, stride=2, padding=1),\n",
    "            nn.Tanh(),\n",
    "        )\n",
    "    def make_residual(self, block, ic, oc, num_layer, stride=1):\n",
    "        layers = []\n",
    "        layers.append(block(ic, oc, stride))\n",
    "        for i in range(1, num_layer):\n",
    "            layers.append(block(oc, oc))\n",
    "        return nn.Sequential(*layers)\n",
    "    \n",
    "    def encoder(self, x):\n",
    "        x = self.preconv(x)\n",
    "        x = self.layer0(x) #64*64 --> 32*32\n",
    "        x = self.layer1(x) #32*32 --> 16*16\n",
    "        x = self.layer2(x) #16*16 --> 8*8\n",
    "        x = self.layer3(x) #8*8 --> 4*4\n",
    "        x = self.fc(x)\n",
    "        return x\n",
    "    \n",
    "    def forward(self, x):\n",
    "        x = self.encoder(x)\n",
    "        x = self.decoder(x)\n",
    "        return x"
   ]
  },
  {
   "cell_type": "markdown",
   "id": "3d1feef3",
   "metadata": {
    "id": "3d1feef3",
    "papermill": {
     "duration": 0.006404,
     "end_time": "2022-05-27T09:50:20.127405",
     "exception": false,
     "start_time": "2022-05-27T09:50:20.121001",
     "status": "completed"
    },
    "tags": [],
    "pycharm": {
     "name": "#%% md\n"
    }
   },
   "source": [
    "# Dataset module\n",
    "\n",
    "Module for obtaining and processing data. The transform function here normalizes image's pixels from [0, 255] to [-1.0, 1.0].\n"
   ]
  },
  {
   "cell_type": "code",
   "execution_count": 13,
   "id": "0737afb0",
   "metadata": {
    "execution": {
     "iopub.execute_input": "2022-05-27T09:50:20.142022Z",
     "iopub.status.busy": "2022-05-27T09:50:20.141783Z",
     "iopub.status.idle": "2022-05-27T09:50:20.148377Z",
     "shell.execute_reply": "2022-05-27T09:50:20.147715Z"
    },
    "id": "0737afb0",
    "papermill": {
     "duration": 0.015472,
     "end_time": "2022-05-27T09:50:20.149900",
     "exception": false,
     "start_time": "2022-05-27T09:50:20.134428",
     "status": "completed"
    },
    "tags": [],
    "pycharm": {
     "name": "#%%\n"
    }
   },
   "outputs": [],
   "source": [
    "class CustomTensorDataset(TensorDataset):\n",
    "    \"\"\"TensorDataset with support of transforms.\n",
    "    \"\"\"\n",
    "    def __init__(self, tensors):\n",
    "        self.tensors = tensors\n",
    "        if tensors.shape[-1] == 3:\n",
    "            self.tensors = tensors.permute(0, 3, 1, 2)\n",
    "        \n",
    "        self.transform = transforms.Compose([\n",
    "          transforms.Lambda(lambda x: x.to(torch.float32)),\n",
    "          transforms.Lambda(lambda x: 2. * x/255. - 1.),\n",
    "        ])\n",
    "        \n",
    "    def __getitem__(self, index):\n",
    "        x = self.tensors[index]\n",
    "        \n",
    "        if self.transform:\n",
    "            # mapping images to [-1.0, 1.0]\n",
    "            x = self.transform(x)\n",
    "\n",
    "        return x\n",
    "\n",
    "    def __len__(self):\n",
    "        return len(self.tensors)"
   ]
  },
  {
   "cell_type": "markdown",
   "id": "d3033d2d",
   "metadata": {
    "id": "d3033d2d",
    "papermill": {
     "duration": 0.006525,
     "end_time": "2022-05-27T09:50:20.163253",
     "exception": false,
     "start_time": "2022-05-27T09:50:20.156728",
     "status": "completed"
    },
    "tags": [],
    "pycharm": {
     "name": "#%% md\n"
    }
   },
   "source": [
    "# Training"
   ]
  },
  {
   "cell_type": "markdown",
   "id": "06e4a3e6",
   "metadata": {
    "id": "06e4a3e6",
    "papermill": {
     "duration": 0.006645,
     "end_time": "2022-05-27T09:50:20.176562",
     "exception": false,
     "start_time": "2022-05-27T09:50:20.169917",
     "status": "completed"
    },
    "tags": [],
    "pycharm": {
     "name": "#%% md\n"
    }
   },
   "source": [
    "## Configuration\n"
   ]
  },
  {
   "cell_type": "code",
   "execution_count": 14,
   "id": "a580eb41",
   "metadata": {
    "execution": {
     "iopub.execute_input": "2022-05-27T09:50:20.190735Z",
     "iopub.status.busy": "2022-05-27T09:50:20.190448Z",
     "iopub.status.idle": "2022-05-27T09:50:23.488059Z",
     "shell.execute_reply": "2022-05-27T09:50:23.487222Z"
    },
    "id": "a580eb41",
    "papermill": {
     "duration": 3.306989,
     "end_time": "2022-05-27T09:50:23.490169",
     "exception": false,
     "start_time": "2022-05-27T09:50:20.183180",
     "status": "completed"
    },
    "tags": [],
    "pycharm": {
     "name": "#%%\n"
    }
   },
   "outputs": [],
   "source": [
    "# Training hyperparameters\n",
    "num_epochs = 100\n",
    "batch_size = 128\n",
    "learning_rate = 1e-3\n",
    "\n",
    "# Build training dataloader\n",
    "x = torch.from_numpy(train)\n",
    "train_dataset = CustomTensorDataset(x)\n",
    "\n",
    "\n",
    "train_sampler = RandomSampler(train_dataset)\n",
    "train_dataloader = DataLoader(train_dataset, sampler=train_sampler, batch_size=batch_size)\n",
    "\n",
    "# Model\n",
    "model_type = 'resnet'   # selecting a model type from {'cnn', 'fcn', 'vae', 'resnet'}\n",
    "model_classes = {'fcn': fcn_autoencoder(), 'cnn': conv_autoencoder(), 'vae': VAE(), 'ensemble':ensemble(), 'resnet':ResNet()}\n",
    "model = model_classes[model_type].cuda()\n",
    "\n",
    "# Loss and optimizer\n",
    "criterion = nn.MSELoss()\n",
    "optimizer = torch.optim.AdamW(model.parameters(), lr=learning_rate)"
   ]
  },
  {
   "cell_type": "markdown",
   "id": "8ab28f90",
   "metadata": {
    "id": "8ab28f90",
    "papermill": {
     "duration": 0.006505,
     "end_time": "2022-05-27T09:50:23.504000",
     "exception": false,
     "start_time": "2022-05-27T09:50:23.497495",
     "status": "completed"
    },
    "tags": [],
    "pycharm": {
     "name": "#%% md\n"
    }
   },
   "source": [
    "## Training loop"
   ]
  },
  {
   "cell_type": "code",
   "execution_count": null,
   "id": "ff5ae417",
   "metadata": {
    "execution": {
     "iopub.execute_input": "2022-05-27T09:50:23.518748Z",
     "iopub.status.busy": "2022-05-27T09:50:23.518439Z",
     "iopub.status.idle": "2022-05-27T12:28:27.286759Z",
     "shell.execute_reply": "2022-05-27T12:28:27.285968Z"
    },
    "id": "ff5ae417",
    "outputId": "8b7c92e9-2b05-4c4b-9194-20ea856e94c5",
    "papermill": {
     "duration": 9483.792249,
     "end_time": "2022-05-27T12:28:27.302869",
     "exception": false,
     "start_time": "2022-05-27T09:50:23.510620",
     "status": "completed"
    },
    "tags": [],
    "colab": {
     "base_uri": "https://localhost:8080/"
    },
    "pycharm": {
     "name": "#%%\n"
    }
   },
   "outputs": [
    {
     "output_type": "stream",
     "name": "stderr",
     "text": [
      " \u001B[1mIters\u001B[0m    \u001B[1mElapsed Time\u001B[0m      \u001B[1mSpeed\u001B[0m                                               \n",
      " \u001B[99m0/\u001B[93m100\u001B[0m\u001B[0m  \u001B[99m        -        \u001B[0m  \u001B[99m   -    \u001B[0m                                             \n",
      "\u001B[1mDescription\u001B[0m   0.0% |                                                           |\u001B[K\u001B[F\u001B[K\u001B[F \u001B[1mIters\u001B[0m    \u001B[1mElapsed Time\u001B[0m      \u001B[1mSpeed\u001B[0m    \u001B[1mepoch\u001B[0m   \u001B[1mloss\u001B[0m                               \n",
      " \u001B[99m1/\u001B[93m100\u001B[0m\u001B[0m  \u001B[99m00:01:36<\u001B[93m02:38:27\u001B[0m\u001B[0m  \u001B[99m0.01it/s\u001B[0m  \u001B[99m1/100\u001B[0m  \u001B[99m0.13554\u001B[0m                             \n",
      "\u001B[1mDescription\u001B[0m   1.0% |                                                           |\u001B[K\u001B[F\u001B[K\u001B[F \u001B[1mIters\u001B[0m    \u001B[1mElapsed Time\u001B[0m      \u001B[1mSpeed\u001B[0m    \u001B[1mepoch\u001B[0m   \u001B[1mloss\u001B[0m                               \n",
      " \u001B[99m2/\u001B[93m100\u001B[0m\u001B[0m  \u001B[99m00:03:08<\u001B[93m02:34:19\u001B[0m\u001B[0m  \u001B[99m0.01it/s\u001B[0m  \u001B[99m2/100\u001B[0m  \u001B[99m0.06432\u001B[0m                             \n",
      "\u001B[1mDescription\u001B[0m   2.0% |\u001B[97m█\u001B[0m                                                          |\u001B[K\u001B[F\u001B[K\u001B[F \u001B[1mIters\u001B[0m    \u001B[1mElapsed Time\u001B[0m      \u001B[1mSpeed\u001B[0m    \u001B[1mepoch\u001B[0m   \u001B[1mloss\u001B[0m                               \n",
      " \u001B[99m3/\u001B[93m100\u001B[0m\u001B[0m  \u001B[99m00:04:41<\u001B[93m02:31:54\u001B[0m\u001B[0m  \u001B[99m0.01it/s\u001B[0m  \u001B[99m3/100\u001B[0m  \u001B[99m0.05647\u001B[0m                             \n",
      "\u001B[1mDescription\u001B[0m   3.0% |\u001B[97m█\u001B[0m                                                          |\u001B[K\u001B[F\u001B[K\u001B[F \u001B[1mIters\u001B[0m    \u001B[1mElapsed Time\u001B[0m      \u001B[1mSpeed\u001B[0m    \u001B[1mepoch\u001B[0m   \u001B[1mloss\u001B[0m                               \n",
      " \u001B[99m4/\u001B[93m100\u001B[0m\u001B[0m  \u001B[99m00:06:14<\u001B[93m02:29:55\u001B[0m\u001B[0m  \u001B[99m0.01it/s\u001B[0m  \u001B[99m4/100\u001B[0m  \u001B[99m0.05245\u001B[0m                             \n",
      "\u001B[1mDescription\u001B[0m   4.0% |\u001B[97m█\u001B[0m\u001B[97m█\u001B[0m                                                         |\u001B[K\u001B[F\u001B[K\u001B[F \u001B[1mIters\u001B[0m    \u001B[1mElapsed Time\u001B[0m      \u001B[1mSpeed\u001B[0m    \u001B[1mepoch\u001B[0m   \u001B[1mloss\u001B[0m                               \n",
      " \u001B[99m5/\u001B[93m100\u001B[0m\u001B[0m  \u001B[99m00:07:47<\u001B[93m02:28:07\u001B[0m\u001B[0m  \u001B[99m0.01it/s\u001B[0m  \u001B[99m5/100\u001B[0m  \u001B[99m0.04991\u001B[0m                             \n",
      "\u001B[1mDescription\u001B[0m   5.0% |\u001B[97m█\u001B[0m\u001B[97m█\u001B[0m                                                         |\u001B[K\u001B[F\u001B[K\u001B[F \u001B[1mIters\u001B[0m    \u001B[1mElapsed Time\u001B[0m      \u001B[1mSpeed\u001B[0m    \u001B[1mepoch\u001B[0m   \u001B[1mloss\u001B[0m                               \n",
      " \u001B[99m6/\u001B[93m100\u001B[0m\u001B[0m  \u001B[99m00:09:20<\u001B[93m02:26:23\u001B[0m\u001B[0m  \u001B[99m0.01it/s\u001B[0m  \u001B[99m6/100\u001B[0m  \u001B[99m0.04784\u001B[0m                             \n",
      "\u001B[1mDescription\u001B[0m   6.0% |\u001B[97m█\u001B[0m\u001B[97m█\u001B[0m\u001B[97m█\u001B[0m                                                        |\u001B[K\u001B[F\u001B[K\u001B[F \u001B[1mIters\u001B[0m    \u001B[1mElapsed Time\u001B[0m      \u001B[1mSpeed\u001B[0m    \u001B[1mepoch\u001B[0m   \u001B[1mloss\u001B[0m                               \n",
      " \u001B[99m7/\u001B[93m100\u001B[0m\u001B[0m  \u001B[99m00:10:53<\u001B[93m02:24:42\u001B[0m\u001B[0m  \u001B[99m0.01it/s\u001B[0m  \u001B[99m7/100\u001B[0m  \u001B[99m0.04627\u001B[0m                             \n",
      "\u001B[1mDescription\u001B[0m   7.0% |\u001B[97m█\u001B[0m\u001B[97m█\u001B[0m\u001B[97m█\u001B[0m\u001B[97m█\u001B[0m                                                       |\u001B[K\u001B[F\u001B[K\u001B[F \u001B[1mIters\u001B[0m    \u001B[1mElapsed Time\u001B[0m      \u001B[1mSpeed\u001B[0m    \u001B[1mepoch\u001B[0m   \u001B[1mloss\u001B[0m                               \n",
      " \u001B[99m8/\u001B[93m100\u001B[0m\u001B[0m  \u001B[99m00:12:26<\u001B[93m02:23:01\u001B[0m\u001B[0m  \u001B[99m0.01it/s\u001B[0m  \u001B[99m8/100\u001B[0m  \u001B[99m0.04515\u001B[0m                             \n",
      "\u001B[1mDescription\u001B[0m   8.0% |\u001B[97m█\u001B[0m\u001B[97m█\u001B[0m\u001B[97m█\u001B[0m\u001B[97m█\u001B[0m                                                       |\u001B[K\u001B[F\u001B[K\u001B[F \u001B[1mIters\u001B[0m    \u001B[1mElapsed Time\u001B[0m      \u001B[1mSpeed\u001B[0m    \u001B[1mepoch\u001B[0m   \u001B[1mloss\u001B[0m                               \n",
      " \u001B[99m9/\u001B[93m100\u001B[0m\u001B[0m  \u001B[99m00:13:58<\u001B[93m02:21:22\u001B[0m\u001B[0m  \u001B[99m0.01it/s\u001B[0m  \u001B[99m9/100\u001B[0m  \u001B[99m0.04397\u001B[0m                             \n",
      "\u001B[1mDescription\u001B[0m   9.0% |\u001B[97m█\u001B[0m\u001B[97m█\u001B[0m\u001B[97m█\u001B[0m\u001B[97m█\u001B[0m\u001B[97m█\u001B[0m                                                      |\u001B[K\u001B[F\u001B[K\u001B[F \u001B[1mIters\u001B[0m     \u001B[1mElapsed Time\u001B[0m      \u001B[1mSpeed\u001B[0m    \u001B[1mepoch\u001B[0m    \u001B[1mloss\u001B[0m                             \n",
      " \u001B[99m10/\u001B[93m100\u001B[0m\u001B[0m  \u001B[99m00:15:31<\u001B[93m02:19:45\u001B[0m\u001B[0m  \u001B[99m0.01it/s\u001B[0m  \u001B[99m10/100\u001B[0m  \u001B[99m0.04335\u001B[0m                           \n",
      "\u001B[1mDescription\u001B[0m  10.0% |\u001B[97m█\u001B[0m\u001B[97m█\u001B[0m\u001B[97m█\u001B[0m\u001B[97m█\u001B[0m\u001B[97m█\u001B[0m                                                      |\u001B[K\u001B[F\u001B[K\u001B[F \u001B[1mIters\u001B[0m     \u001B[1mElapsed Time\u001B[0m      \u001B[1mSpeed\u001B[0m    \u001B[1mepoch\u001B[0m    \u001B[1mloss\u001B[0m                             \n",
      " \u001B[99m11/\u001B[93m100\u001B[0m\u001B[0m  \u001B[99m00:17:04<\u001B[93m02:18:09\u001B[0m\u001B[0m  \u001B[99m0.01it/s\u001B[0m  \u001B[99m11/100\u001B[0m  \u001B[99m0.04260\u001B[0m                           \n",
      "\u001B[1mDescription\u001B[0m  11.0% |\u001B[97m█\u001B[0m\u001B[97m█\u001B[0m\u001B[97m█\u001B[0m\u001B[97m█\u001B[0m\u001B[97m█\u001B[0m\u001B[97m█\u001B[0m                                                     |\u001B[K\u001B[F\u001B[K\u001B[F \u001B[1mIters\u001B[0m     \u001B[1mElapsed Time\u001B[0m      \u001B[1mSpeed\u001B[0m    \u001B[1mepoch\u001B[0m    \u001B[1mloss\u001B[0m                             \n",
      " \u001B[99m12/\u001B[93m100\u001B[0m\u001B[0m  \u001B[99m00:18:37<\u001B[93m02:16:32\u001B[0m\u001B[0m  \u001B[99m0.01it/s\u001B[0m  \u001B[99m12/100\u001B[0m  \u001B[99m0.04226\u001B[0m                           \n",
      "\u001B[1mDescription\u001B[0m  12.0% |\u001B[97m█\u001B[0m\u001B[97m█\u001B[0m\u001B[97m█\u001B[0m\u001B[97m█\u001B[0m\u001B[97m█\u001B[0m\u001B[97m█\u001B[0m\u001B[97m█\u001B[0m                                                    |\u001B[K\u001B[F\u001B[K\u001B[F \u001B[1mIters\u001B[0m     \u001B[1mElapsed Time\u001B[0m      \u001B[1mSpeed\u001B[0m    \u001B[1mepoch\u001B[0m    \u001B[1mloss\u001B[0m                             \n",
      " \u001B[99m13/\u001B[93m100\u001B[0m\u001B[0m  \u001B[99m00:20:09<\u001B[93m02:14:56\u001B[0m\u001B[0m  \u001B[99m0.01it/s\u001B[0m  \u001B[99m13/100\u001B[0m  \u001B[99m0.04164\u001B[0m                           \n",
      "\u001B[1mDescription\u001B[0m  13.0% |\u001B[97m█\u001B[0m\u001B[97m█\u001B[0m\u001B[97m█\u001B[0m\u001B[97m█\u001B[0m\u001B[97m█\u001B[0m\u001B[97m█\u001B[0m\u001B[97m█\u001B[0m                                                    |\u001B[K\u001B[F\u001B[K\u001B[F \u001B[1mIters\u001B[0m     \u001B[1mElapsed Time\u001B[0m      \u001B[1mSpeed\u001B[0m    \u001B[1mepoch\u001B[0m    \u001B[1mloss\u001B[0m                             \n",
      " \u001B[99m14/\u001B[93m100\u001B[0m\u001B[0m  \u001B[99m00:21:42<\u001B[93m02:13:20\u001B[0m\u001B[0m  \u001B[99m0.01it/s\u001B[0m  \u001B[99m14/100\u001B[0m  \u001B[99m0.04125\u001B[0m                           \n",
      "\u001B[1mDescription\u001B[0m  14.0% |\u001B[97m█\u001B[0m\u001B[97m█\u001B[0m\u001B[97m█\u001B[0m\u001B[97m█\u001B[0m\u001B[97m█\u001B[0m\u001B[97m█\u001B[0m\u001B[97m█\u001B[0m\u001B[97m█\u001B[0m                                                   |"
     ]
    }
   ],
   "source": [
    "best_loss = np.inf\n",
    "\n",
    "qqdm_train = qqdm(range(num_epochs), desc=format_str('bold', 'Description'))\n",
    "for epoch in qqdm_train:\n",
    "    tot_loss = list()\n",
    "    model.train()\n",
    "    for data in train_dataloader:\n",
    "\n",
    "        # ===================loading=====================\n",
    "        img = data.float().cuda()\n",
    "        if model_type in ['fcn']:\n",
    "            img = img.view(img.shape[0], -1)\n",
    "\n",
    "        # ===================forward=====================\n",
    "        output = model(img)\n",
    "        if model_type in ['vae']:\n",
    "            loss = loss_vae(output[0], img, output[1], output[2], criterion)\n",
    "        else:\n",
    "            loss = criterion(output, img)\n",
    "\n",
    "        tot_loss.append(loss.item())\n",
    "        # ===================backward====================\n",
    "        optimizer.zero_grad()\n",
    "        loss.backward()\n",
    "        optimizer.step()\n",
    "    # ===================save_best====================\n",
    "    mean_loss = np.mean(tot_loss)\n",
    "    if mean_loss < best_loss:\n",
    "        best_loss = mean_loss\n",
    "        torch.save(model, 'best_model_{}.pt'.format(model_type))\n",
    "    # ===================log========================\n",
    "    qqdm_train.set_infos({\n",
    "        'epoch': f'{epoch + 1:.0f}/{num_epochs:.0f}',\n",
    "        'loss':f'{mean_loss:.5f}'\n",
    "    })\n",
    "    # ===================save_last========================\n",
    "    torch.save(model, 'last_model_{}.pt'.format(model_type))"
   ]
  },
  {
   "cell_type": "markdown",
   "id": "6aba0952",
   "metadata": {
    "id": "6aba0952",
    "papermill": {
     "duration": 0.013184,
     "end_time": "2022-05-27T12:28:27.329561",
     "exception": false,
     "start_time": "2022-05-27T12:28:27.316377",
     "status": "completed"
    },
    "tags": [],
    "pycharm": {
     "name": "#%% md\n"
    }
   },
   "source": [
    "# Inference\n",
    "Model is loaded and generates its anomaly score predictions."
   ]
  },
  {
   "cell_type": "markdown",
   "id": "1eb96d24",
   "metadata": {
    "id": "1eb96d24",
    "papermill": {
     "duration": 0.013106,
     "end_time": "2022-05-27T12:28:27.355898",
     "exception": false,
     "start_time": "2022-05-27T12:28:27.342792",
     "status": "completed"
    },
    "tags": [],
    "pycharm": {
     "name": "#%% md\n"
    }
   },
   "source": [
    "## Initialize\n",
    "- dataloader\n",
    "- model\n",
    "- prediction file"
   ]
  },
  {
   "cell_type": "code",
   "execution_count": null,
   "id": "8a2e3aed",
   "metadata": {
    "execution": {
     "iopub.execute_input": "2022-05-27T12:28:27.384453Z",
     "iopub.status.busy": "2022-05-27T12:28:27.383778Z",
     "iopub.status.idle": "2022-05-27T12:28:28.027722Z",
     "shell.execute_reply": "2022-05-27T12:28:28.026845Z"
    },
    "id": "8a2e3aed",
    "papermill": {
     "duration": 0.660962,
     "end_time": "2022-05-27T12:28:28.030276",
     "exception": false,
     "start_time": "2022-05-27T12:28:27.369314",
     "status": "completed"
    },
    "tags": [],
    "pycharm": {
     "name": "#%%\n"
    }
   },
   "outputs": [],
   "source": [
    "eval_batch_size = 200\n",
    "\n",
    "# build testing dataloader\n",
    "data = torch.tensor(test, dtype=torch.float32)\n",
    "test_dataset = CustomTensorDataset(data)\n",
    "test_sampler = SequentialSampler(test_dataset)\n",
    "test_dataloader = DataLoader(test_dataset, sampler=test_sampler, batch_size=eval_batch_size, num_workers=1)\n",
    "eval_loss = nn.MSELoss(reduction='none')\n",
    "\n",
    "# load trained model\n",
    "checkpoint_path = f'best_model_{model_type}.pt'\n",
    "model = torch.load(checkpoint_path)\n",
    "model.eval()\n",
    "\n",
    "# prediction file \n",
    "out_file = 'prediction.csv'"
   ]
  },
  {
   "cell_type": "code",
   "execution_count": null,
   "id": "575bcf43",
   "metadata": {
    "execution": {
     "iopub.execute_input": "2022-05-27T12:28:28.059699Z",
     "iopub.status.busy": "2022-05-27T12:28:28.059417Z",
     "iopub.status.idle": "2022-05-27T12:28:31.500400Z",
     "shell.execute_reply": "2022-05-27T12:28:31.499376Z"
    },
    "id": "575bcf43",
    "papermill": {
     "duration": 3.458089,
     "end_time": "2022-05-27T12:28:31.502683",
     "exception": false,
     "start_time": "2022-05-27T12:28:28.044594",
     "status": "completed"
    },
    "tags": [],
    "pycharm": {
     "name": "#%%\n"
    }
   },
   "outputs": [],
   "source": [
    "anomality = list()\n",
    "with torch.no_grad():\n",
    "  for i, data in enumerate(test_dataloader):\n",
    "    img = data.float().cuda()\n",
    "    if model_type in ['fcn']:\n",
    "      img = img.view(img.shape[0], -1)\n",
    "    output = model(img)\n",
    "    if model_type in ['vae']:\n",
    "      output = output[0]\n",
    "    if model_type in ['fcn']:\n",
    "        loss = eval_loss(output, img).sum(-1)\n",
    "    else:\n",
    "        loss = eval_loss(output, img).sum([1, 2, 3])\n",
    "    anomality.append(loss)\n",
    "anomality = torch.cat(anomality, axis=0)\n",
    "anomality = torch.sqrt(anomality).reshape(len(test), 1).cpu().numpy()\n",
    "\n",
    "df = pd.DataFrame(anomality, columns=['score'])\n",
    "df.to_csv(out_file, index_label = 'ID')"
   ]
  },
  {
   "cell_type": "code",
   "execution_count": null,
   "id": "5f0f026c",
   "metadata": {
    "id": "5f0f026c",
    "papermill": {
     "duration": 0.013894,
     "end_time": "2022-05-27T12:28:31.531082",
     "exception": false,
     "start_time": "2022-05-27T12:28:31.517188",
     "status": "completed"
    },
    "tags": [],
    "pycharm": {
     "name": "#%%\n"
    }
   },
   "outputs": [],
   "source": []
  }
 ],
 "metadata": {
  "kernelspec": {
   "display_name": "Python 3",
   "language": "python",
   "name": "python3"
  },
  "language_info": {
   "codemirror_mode": {
    "name": "ipython",
    "version": 3
   },
   "file_extension": ".py",
   "mimetype": "text/x-python",
   "name": "python",
   "nbconvert_exporter": "python",
   "pygments_lexer": "ipython3",
   "version": "3.7.12"
  },
  "papermill": {
   "default_parameters": {},
   "duration": 9534.302949,
   "end_time": "2022-05-27T12:28:33.095927",
   "environment_variables": {},
   "exception": null,
   "input_path": "__notebook__.ipynb",
   "output_path": "__notebook__.ipynb",
   "parameters": {},
   "start_time": "2022-05-27T09:49:38.792978",
   "version": "2.3.4"
  },
  "colab": {
   "name": "2022-hw8-strong-resnet.ipynb",
   "provenance": []
  },
  "accelerator": "GPU",
  "gpuClass": "standard"
 },
 "nbformat": 4,
 "nbformat_minor": 5
}