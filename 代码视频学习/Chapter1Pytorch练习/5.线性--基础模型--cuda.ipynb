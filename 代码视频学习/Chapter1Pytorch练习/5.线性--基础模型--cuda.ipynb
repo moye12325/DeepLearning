{
 "cells": [
  {
   "cell_type": "code",
   "execution_count": 12,
   "outputs": [],
   "source": [
    "import torch\n",
    "import numpy as np\n",
    "import matplotlib.pyplot as plt\n",
    "import torch.nn as nn\n",
    "from torch import optim"
   ],
   "metadata": {
    "collapsed": false,
    "pycharm": {
     "name": "#%%\n"
    }
   }
  },
  {
   "cell_type": "code",
   "execution_count": 17,
   "outputs": [
    {
     "data": {
      "text/plain": "device(type='cuda', index=0)"
     },
     "execution_count": 17,
     "metadata": {},
     "output_type": "execute_result"
    }
   ],
   "source": [
    "device = torch.device(\"cuda:0\" if torch.cuda.is_available() else \"cpu\")\n",
    "device"
   ],
   "metadata": {
    "collapsed": false,
    "pycharm": {
     "name": "#%%\n"
    }
   }
  },
  {
   "cell_type": "code",
   "execution_count": 14,
   "outputs": [],
   "source": [
    "# 定义数据\n",
    "x = torch.rand([50, 1])\n",
    "y = x * 3 + 0.8\n",
    "\n",
    "x, y = x.to(device), y.to(device)"
   ],
   "metadata": {
    "collapsed": false,
    "pycharm": {
     "name": "#%%\n"
    }
   }
  },
  {
   "cell_type": "code",
   "execution_count": 15,
   "outputs": [
    {
     "name": "stdout",
     "output_type": "stream",
     "text": [
      "Epoch: 0/30000 , Loss: 3.669598340988159\n",
      "Epoch: 200/30000 , Loss: 1.9122081995010376\n",
      "Epoch: 400/30000 , Loss: 1.1832029819488525\n",
      "Epoch: 600/30000 , Loss: 0.8661371469497681\n",
      "Epoch: 800/30000 , Loss: 0.7150841355323792\n",
      "Epoch: 1000/30000 , Loss: 0.631756067276001\n",
      "Epoch: 1200/30000 , Loss: 0.5768254399299622\n",
      "Epoch: 1400/30000 , Loss: 0.5345957279205322\n",
      "Epoch: 1600/30000 , Loss: 0.4988305866718292\n",
      "Epoch: 1800/30000 , Loss: 0.46669161319732666\n",
      "Epoch: 2000/30000 , Loss: 0.43717268109321594\n",
      "Epoch: 2200/30000 , Loss: 0.4096979796886444\n",
      "Epoch: 2400/30000 , Loss: 0.3840175271034241\n",
      "Epoch: 2600/30000 , Loss: 0.36007994413375854\n",
      "Epoch: 2800/30000 , Loss: 0.3376767933368683\n",
      "Epoch: 3000/30000 , Loss: 0.3163205087184906\n",
      "Epoch: 3200/30000 , Loss: 0.29655754566192627\n",
      "Epoch: 3400/30000 , Loss: 0.27803555130958557\n",
      "Epoch: 3600/30000 , Loss: 0.2607000172138214\n",
      "Epoch: 3800/30000 , Loss: 0.24449573457241058\n",
      "Epoch: 4000/30000 , Loss: 0.22912049293518066\n",
      "Epoch: 4200/30000 , Loss: 0.2150203287601471\n",
      "Epoch: 4400/30000 , Loss: 0.2014259248971939\n",
      "Epoch: 4600/30000 , Loss: 0.18900100886821747\n",
      "Epoch: 4800/30000 , Loss: 0.1770235002040863\n",
      "Epoch: 5000/30000 , Loss: 0.16611535847187042\n",
      "Epoch: 5200/30000 , Loss: 0.15560030937194824\n",
      "Epoch: 5400/30000 , Loss: 0.146061509847641\n",
      "Epoch: 5600/30000 , Loss: 0.13686488568782806\n",
      "Epoch: 5800/30000 , Loss: 0.12837384641170502\n",
      "Epoch: 6000/30000 , Loss: 0.12036889791488647\n",
      "Epoch: 6200/30000 , Loss: 0.11282777786254883\n",
      "Epoch: 6400/30000 , Loss: 0.10572928935289383\n",
      "Epoch: 6600/30000 , Loss: 0.09921497106552124\n",
      "Epoch: 6800/30000 , Loss: 0.0930924192070961\n",
      "Epoch: 7000/30000 , Loss: 0.087038554251194\n",
      "Epoch: 7200/30000 , Loss: 0.0818002000451088\n",
      "Epoch: 7400/30000 , Loss: 0.0764625295996666\n",
      "Epoch: 7600/30000 , Loss: 0.0718766450881958\n",
      "Epoch: 7800/30000 , Loss: 0.0674528181552887\n",
      "Epoch: 8000/30000 , Loss: 0.06318792700767517\n",
      "Epoch: 8200/30000 , Loss: 0.05908038839697838\n",
      "Epoch: 8400/30000 , Loss: 0.05536895617842674\n",
      "Epoch: 8600/30000 , Loss: 0.052027616649866104\n",
      "Epoch: 8800/30000 , Loss: 0.048804931342601776\n",
      "Epoch: 9000/30000 , Loss: 0.04569883272051811\n",
      "Epoch: 9200/30000 , Loss: 0.04292072355747223\n",
      "Epoch: 9400/30000 , Loss: 0.040241461247205734\n",
      "Epoch: 9600/30000 , Loss: 0.03765980154275894\n",
      "Epoch: 9800/30000 , Loss: 0.035367537289857864\n",
      "Epoch: 10000/30000 , Loss: 0.03315708413720131\n",
      "Epoch: 10200/30000 , Loss: 0.031027207151055336\n",
      "Epoch: 10400/30000 , Loss: 0.029152197763323784\n",
      "Epoch: 10600/30000 , Loss: 0.02734372578561306\n",
      "Epoch: 10800/30000 , Loss: 0.025600625202059746\n",
      "Epoch: 11000/30000 , Loss: 0.023922357708215714\n",
      "Epoch: 11200/30000 , Loss: 0.022461218759417534\n",
      "Epoch: 11400/30000 , Loss: 0.021052654832601547\n",
      "Epoch: 11600/30000 , Loss: 0.019840335473418236\n",
      "Epoch: 11800/30000 , Loss: 0.01852872408926487\n",
      "Epoch: 12000/30000 , Loss: 0.017402861267328262\n",
      "Epoch: 12200/30000 , Loss: 0.016317136585712433\n",
      "Epoch: 12400/30000 , Loss: 0.015270953997969627\n",
      "Epoch: 12600/30000 , Loss: 0.014387114904820919\n",
      "Epoch: 12800/30000 , Loss: 0.01341363787651062\n",
      "Epoch: 13000/30000 , Loss: 0.012593423947691917\n",
      "Epoch: 13200/30000 , Loss: 0.011802627705037594\n",
      "Epoch: 13400/30000 , Loss: 0.011040841229259968\n",
      "Epoch: 13600/30000 , Loss: 0.01041222084313631\n",
      "Epoch: 13800/30000 , Loss: 0.009703238494694233\n",
      "Epoch: 14000/30000 , Loss: 0.009119924157857895\n",
      "Epoch: 14200/30000 , Loss: 0.008557344786822796\n",
      "Epoch: 14400/30000 , Loss: 0.008015001192688942\n",
      "Epoch: 14600/30000 , Loss: 0.007492764852941036\n",
      "Epoch: 14800/30000 , Loss: 0.007076470647007227\n",
      "Epoch: 15000/30000 , Loss: 0.0065900906920433044\n",
      "Epoch: 15200/30000 , Loss: 0.006203716155141592\n",
      "Epoch: 15400/30000 , Loss: 0.00583086721599102\n",
      "Epoch: 15600/30000 , Loss: 0.005471162497997284\n",
      "Epoch: 15800/30000 , Loss: 0.005124334711581469\n",
      "Epoch: 16000/30000 , Loss: 0.0047902450896799564\n",
      "Epoch: 16200/30000 , Loss: 0.004468915518373251\n",
      "Epoch: 16400/30000 , Loss: 0.004226572345942259\n",
      "Epoch: 16600/30000 , Loss: 0.003927345387637615\n",
      "Epoch: 16800/30000 , Loss: 0.0037025022320449352\n",
      "Epoch: 17000/30000 , Loss: 0.003485501278191805\n",
      "Epoch: 17200/30000 , Loss: 0.0032760396134108305\n",
      "Epoch: 17400/30000 , Loss: 0.0030738988425582647\n",
      "Epoch: 17600/30000 , Loss: 0.002878953469917178\n",
      "Epoch: 17800/30000 , Loss: 0.00269114482216537\n",
      "Epoch: 18000/30000 , Loss: 0.0025104647502303123\n",
      "Epoch: 18200/30000 , Loss: 0.002336957026273012\n",
      "Epoch: 18400/30000 , Loss: 0.002218287903815508\n",
      "Epoch: 18600/30000 , Loss: 0.0020565229933708906\n",
      "Epoch: 18800/30000 , Loss: 0.0019464804790914059\n",
      "Epoch: 19000/30000 , Loss: 0.0018403232097625732\n",
      "Epoch: 19200/30000 , Loss: 0.0016946258256211877\n",
      "Epoch: 19400/30000 , Loss: 0.0015963438199833035\n",
      "Epoch: 19600/30000 , Loss: 0.0015015150420367718\n",
      "Epoch: 19800/30000 , Loss: 0.001410027383826673\n",
      "Epoch: 20000/30000 , Loss: 0.0013217845698818564\n",
      "Epoch: 20200/30000 , Loss: 0.0012367554008960724\n",
      "Epoch: 20400/30000 , Loss: 0.0011549139162525535\n",
      "Epoch: 20600/30000 , Loss: 0.001076279440894723\n",
      "Epoch: 20800/30000 , Loss: 0.0010335900587961078\n",
      "Epoch: 21000/30000 , Loss: 0.0009595665032975376\n",
      "Epoch: 21200/30000 , Loss: 0.0008887748117558658\n",
      "Epoch: 21400/30000 , Loss: 0.0008507886086590588\n",
      "Epoch: 21600/30000 , Loss: 0.0007845066138543189\n",
      "Epoch: 21800/30000 , Loss: 0.0007493706070818007\n",
      "Epoch: 22000/30000 , Loss: 0.0006876447587274015\n",
      "Epoch: 22200/30000 , Loss: 0.0006550452671945095\n",
      "Epoch: 22400/30000 , Loss: 0.0005980495479889214\n",
      "Epoch: 22600/30000 , Loss: 0.0005677967565134168\n",
      "Epoch: 22800/30000 , Loss: 0.0005386938573792577\n",
      "Epoch: 23000/30000 , Loss: 0.0005106216412968934\n",
      "Epoch: 23200/30000 , Loss: 0.0004609467869158834\n",
      "Epoch: 23400/30000 , Loss: 0.00043501771870069206\n",
      "Epoch: 23600/30000 , Loss: 0.00041002369835041463\n",
      "Epoch: 23800/30000 , Loss: 0.0003859199059661478\n",
      "Epoch: 24000/30000 , Loss: 0.0003626614052336663\n",
      "Epoch: 24200/30000 , Loss: 0.0003402314323466271\n",
      "Epoch: 24400/30000 , Loss: 0.0003186131070833653\n",
      "Epoch: 24600/30000 , Loss: 0.00029779577744193375\n",
      "Epoch: 24800/30000 , Loss: 0.0002777811314444989\n",
      "Epoch: 25000/30000 , Loss: 0.00025857065338641405\n",
      "Epoch: 25200/30000 , Loss: 0.00024019178817979991\n",
      "Epoch: 25400/30000 , Loss: 0.00023808037803974003\n",
      "Epoch: 25600/30000 , Loss: 0.00022034907306078821\n",
      "Epoch: 25800/30000 , Loss: 0.00020341658091638237\n",
      "Epoch: 26000/30000 , Loss: 0.00018733428441919386\n",
      "Epoch: 26200/30000 , Loss: 0.00017217110143974423\n",
      "Epoch: 26400/30000 , Loss: 0.00017040026432368904\n",
      "Epoch: 26600/30000 , Loss: 0.00015575086581520736\n",
      "Epoch: 26800/30000 , Loss: 0.0001420683111064136\n",
      "Epoch: 27000/30000 , Loss: 0.00014064823335502297\n",
      "Epoch: 27200/30000 , Loss: 0.00012749755114782602\n",
      "Epoch: 27400/30000 , Loss: 0.00012657127808779478\n",
      "Epoch: 27600/30000 , Loss: 0.00011401532538002357\n",
      "Epoch: 27800/30000 , Loss: 0.00010252464562654495\n",
      "Epoch: 28000/30000 , Loss: 0.00010145464329980314\n",
      "Epoch: 28200/30000 , Loss: 9.059580770554021e-05\n",
      "Epoch: 28400/30000 , Loss: 8.972993236966431e-05\n",
      "Epoch: 28600/30000 , Loss: 7.955953333294019e-05\n",
      "Epoch: 28800/30000 , Loss: 7.879514305386692e-05\n",
      "Epoch: 29000/30000 , Loss: 6.938024307601154e-05\n",
      "Epoch: 29200/30000 , Loss: 6.863335147500038e-05\n",
      "Epoch: 29400/30000 , Loss: 6.007651973050088e-05\n",
      "Epoch: 29600/30000 , Loss: 5.9253728977637365e-05\n",
      "Epoch: 29800/30000 , Loss: 5.888385567232035e-05\n"
     ]
    }
   ],
   "source": [
    "# 创建模型\n",
    "class Lr(nn.Module):\n",
    "    def __init__(self):\n",
    "        super(Lr, self).__init__()\n",
    "        self.linear = nn.Linear(1, 1)\n",
    "\n",
    "    def forward(self, x):\n",
    "        out = self.linear(x)\n",
    "        return out\n",
    "\n",
    "\n",
    "# 实例化模型 Loss 优化器\n",
    "model = Lr().to(device)\n",
    "criterion = nn.MSELoss()\n",
    "optimizer = optim.SGD(model.parameters(), lr=1e-3)\n",
    "\n",
    "for i in range(30000):\n",
    "    out = model(x)  # 获取预测值\n",
    "    loss = criterion(y, out)  # 计算损失\n",
    "\n",
    "    optimizer.zero_grad()  # 梯度归零\n",
    "\n",
    "    loss.backward()  # 计算梯度\n",
    "\n",
    "    optimizer.step()  # 更新梯度\n",
    "\n",
    "    if i % 200 == 0:\n",
    "        print('Epoch: {}/{} , Loss: {}'.format(i, 30000, loss.data))"
   ],
   "metadata": {
    "collapsed": false,
    "pycharm": {
     "name": "#%%\n"
    }
   }
  },
  {
   "cell_type": "code",
   "execution_count": 16,
   "outputs": [
    {
     "data": {
      "text/plain": "<Figure size 432x288 with 1 Axes>",
      "image/png": "[encoded data removed]"
     },
     "metadata": {
      "needs_background": "light"
     },
     "output_type": "display_data"
    }
   ],
   "source": [
    "model.eval()\n",
    "prediction = model(x)\n",
    "prediction = prediction.cpu().detach().numpy()\n",
    "# prediction = prediction.data.numpy()\n",
    "plt.scatter(x.cpu().data.numpy(), y.cpu().data.numpy())\n",
    "plt.plot(x.cpu().data.numpy(), prediction, c='r')\n",
    "plt.show()"
   ],
   "metadata": {
    "collapsed": false,
    "pycharm": {
     "name": "#%%\n"
    }
   }
  }
 ],
 "metadata": {
  "kernelspec": {
   "display_name": "Python 3",
   "language": "python",
   "name": "python3"
  },
  "language_info": {
   "codemirror_mode": {
    "name": "ipython",
    "version": 2
   },
   "file_extension": ".py",
   "mimetype": "text/x-python",
   "name": "python",
   "nbconvert_exporter": "python",
   "pygments_lexer": "ipython2",
   "version": "2.7.6"
  }
 },
 "nbformat": 4,
 "nbformat_minor": 0
}