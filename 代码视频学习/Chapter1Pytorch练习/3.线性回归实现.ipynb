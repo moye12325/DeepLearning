{
 "cells": [
  {
   "cell_type": "markdown",
   "source": [
    "1. 准备数据\n",
    "2. 计算预测值\n",
    "3. 计算损失\n",
    "4. 更新参数"
   ],
   "metadata": {
    "collapsed": false,
    "pycharm": {
     "name": "#%% md\n"
    }
   }
  },
  {
   "cell_type": "code",
   "execution_count": 79,
   "outputs": [],
   "source": [
    "import torch"
   ],
   "metadata": {
    "collapsed": false,
    "pycharm": {
     "name": "#%%\n"
    }
   }
  },
  {
   "cell_type": "code",
   "execution_count": 80,
   "outputs": [],
   "source": [
    "x = torch.rand([50])\n",
    "y = 3 * x + 0.8"
   ],
   "metadata": {
    "collapsed": false,
    "pycharm": {
     "name": "#%%\n"
    }
   }
  },
  {
   "cell_type": "code",
   "execution_count": 81,
   "outputs": [],
   "source": [
    "w = torch.rand(1, requires_grad=True)\n",
    "b = torch.rand(1, requires_grad=True)"
   ],
   "metadata": {
    "collapsed": false,
    "pycharm": {
     "name": "#%%\n"
    }
   }
  },
  {
   "cell_type": "code",
   "execution_count": 82,
   "outputs": [],
   "source": [
    "def loss_fn(y, y_pred):\n",
    "    loss = (y_pred - y).pow(2).mean()\n",
    "    for i in [w, b]:\n",
    "        # 每次传播前梯度设置为0\n",
    "        if i.grad is not None:\n",
    "            i.grad.data.zero_()\n",
    "    loss.backward()\n",
    "    return loss"
   ],
   "metadata": {
    "collapsed": false,
    "pycharm": {
     "name": "#%%\n"
    }
   }
  },
  {
   "cell_type": "code",
   "execution_count": 83,
   "outputs": [],
   "source": [
    "def optimize(learning_rate):\n",
    "    w.data -= learning_rate * w.grad.data\n",
    "    b.data -= learning_rate * b.grad.data"
   ],
   "metadata": {
    "collapsed": false,
    "pycharm": {
     "name": "#%%\n"
    }
   }
  },
  {
   "cell_type": "code",
   "execution_count": 84,
   "outputs": [
    {
     "name": "stdout",
     "output_type": "stream",
     "text": [
      "0 tensor(2.3080, grad_fn=<MeanBackward0>)\n",
      "500 tensor(0.0954, grad_fn=<MeanBackward0>)\n",
      "1000 tensor(0.0351, grad_fn=<MeanBackward0>)\n",
      "1500 tensor(0.0129, grad_fn=<MeanBackward0>)\n",
      "2000 tensor(0.0047, grad_fn=<MeanBackward0>)\n",
      "2500 tensor(0.0017, grad_fn=<MeanBackward0>)\n"
     ]
    },
    {
     "data": {
      "text/plain": "<Figure size 432x288 with 1 Axes>",
      "image/png": "[encoded data removed]"
     },
     "metadata": {
      "needs_background": "light"
     },
     "output_type": "display_data"
    },
    {
     "name": "stdout",
     "output_type": "stream",
     "text": [
      "w tensor([2.8998], requires_grad=True)\n",
      "b tensor([0.8526], requires_grad=True)\n"
     ]
    }
   ],
   "source": [
    "for i in range(3000):\n",
    "    # 计算预测值\n",
    "    y_pred = w * x + b\n",
    "\n",
    "    # 计算损失\n",
    "    loss = loss_fn(y, y_pred)\n",
    "\n",
    "    if i % 500 == 0:\n",
    "        print(i, loss)\n",
    "\n",
    "    #更新参数\n",
    "    optimize(0.01)\n",
    "\n",
    "from matplotlib import pyplot as plt\n",
    "import numpy as np\n",
    "predict = x * w + b\n",
    "\n",
    "plt.scatter(x.data.numpy(),y.data.numpy(),c=\"r\")\n",
    "plt.plot(x.data.numpy(),predict.data.numpy())\n",
    "plt.show()\n",
    "\n",
    "print(\"w\",w)\n",
    "print(\"b\",b)"
   ],
   "metadata": {
    "collapsed": false,
    "pycharm": {
     "name": "#%%\n"
    }
   }
  },
  {
   "cell_type": "code",
   "execution_count": 84,
   "outputs": [],
   "source": [],
   "metadata": {
    "collapsed": false,
    "pycharm": {
     "name": "#%%\n"
    }
   }
  }
 ],
 "metadata": {
  "kernelspec": {
   "display_name": "Python 3",
   "language": "python",
   "name": "python3"
  },
  "language_info": {
   "codemirror_mode": {
    "name": "ipython",
    "version": 2
   },
   "file_extension": ".py",
   "mimetype": "text/x-python",
   "name": "python",
   "nbconvert_exporter": "python",
   "pygments_lexer": "ipython2",
   "version": "2.7.6"
  }
 },
 "nbformat": 4,
 "nbformat_minor": 0
}